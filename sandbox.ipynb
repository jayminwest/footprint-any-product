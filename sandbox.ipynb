{
 "cells": [
  {
   "cell_type": "markdown",
   "metadata": {},
   "source": [
    "# Sandbox\n",
    "\n",
    "If you can run this code then you should be good to go. You can put it all in a .py file if you don't like Jupyter notebooks and it should run just fine, minus the IPython.display import.\n",
    "\n",
    "### References\n",
    "* [LangChain doc](https://python.langchain.com/api_reference/openai/chat_models/langchain_openai.chat_models.base.ChatOpenAI.html) on OpenAI reasoning models and how to get summaries and set reasoning level.\n",
    "* [LangChain doc](https://python.langchain.com/docs/integrations/chat/openai/) on using OpenAI's built in tools (like web search)\n",
    "* [OpenAI's doc](https://platform.openai.com/docs/guides/reasoning?api-mode=responses) on Reasoning Models\n",
    "* [OpenAI](https://platform.openai.com/docs/guides/tools?api-mode=responses) using built in tools"
   ]
  },
  {
   "cell_type": "code",
   "execution_count": 1,
   "metadata": {},
   "outputs": [],
   "source": [
    "from dotenv import load_dotenv\n",
    "import os\n",
    "from pathlib import Path\n",
    "\n",
    "# Load environment variables from .env.local file\n",
    "env_path = Path('.') / '.env.local'\n",
    "load_dotenv(dotenv_path=env_path)\n",
    "\n",
    "# Update with your name to group your own traces\n",
    "os.environ['LANGCHAIN_PROJECT'] = 'steve-fap-sandbox'"
   ]
  },
  {
   "cell_type": "markdown",
   "metadata": {},
   "source": [
    "## Hello o3\n",
    "\n",
    "If you can run this code, then you're good to go with OpenAI's o3 model and LangChain."
   ]
  },
  {
   "cell_type": "code",
   "execution_count": 2,
   "metadata": {},
   "outputs": [],
   "source": [
    "from langchain_openai import ChatOpenAI\n",
    "\n",
    "reasoning = {\n",
    "    \"effort\": \"low\",  # 'low', 'medium', or 'high'\n",
    "    \"summary\": \"auto\",  # 'detailed', 'auto', or None\n",
    "}\n",
    "\n",
    "llm = ChatOpenAI(\n",
    "    model=\"o3\",\n",
    "    use_responses_api=True,\n",
    "    model_kwargs={\"reasoning\": reasoning},\n",
    ")\n",
    "\n",
    "response = llm.invoke(\"Calculate the average carbon footprint of 1 banana. Do not rely on a single value for the carbon intensity of bananas, rather, attempt to estimate the value from the component processes.\")"
   ]
  },
  {
   "cell_type": "code",
   "execution_count": 3,
   "metadata": {},
   "outputs": [
    {
     "name": "stdout",
     "output_type": "stream",
     "text": [
      "content=[{'type': 'text', 'text': 'Below is a “bottom-up” life-cycle estimate that builds the carbon footprint of one typical export banana (≈120 g including peel) from the main component processes rather than quoting a single literature value. All numbers are rounded to the nearest whole gram of CO₂-equivalent (g CO₂e).\\n\\nBasic banana unit\\n• Fresh mass (with peel) ………… 0.12 kg  \\n• 1 t of bananas therefore contains ≈8 300 individual fruit.\\n\\n1. Plantation & field emissions\\u2003≈ 89 g CO₂e / banana\\na. Fertiliser manufacture  \\n   N-fertiliser\\u20030.0075 kg N × 6 kg CO₂e kg⁻¹ = 45 g  \\n   P₂O₅\\u20030.00075 kg × 1 kg CO₂e kg⁻¹ = 1 g  \\n   K₂O\\u20030.00875 kg × 0.6 kg CO₂e kg⁻¹ = 5 g  \\nb. Direct N₂O from soils  \\n   1 % of N emitted → 35 g  \\nc. On-farm diesel (≈10 L t⁻¹)  \\n   0.0012 L × 2.7 kg CO₂e L⁻¹ = 3 g  \\n\\n2. Primary packaging\\u2003≈ 1 g CO₂e\\nPer tonne of fruit: 4 kg cardboard + 2 kg LDPE  \\nFor one banana: 0.48 g cardboard (0.4 g CO₂e) + 0.24 g plastic (0.6 g CO₂e).\\n\\n3. Farm → export port, refrigerated truck (200 km)\\u2003≈ 10 g CO₂e\\n0.12 kg = 0.00012 t; ton-km = 0.024; 0.4 kg CO₂e t⁻¹ km⁻¹.\\n\\n4. Trans-oceanic sea freight (≈8 000 km in a reefer container)\\u2003≈ 14 g CO₂e\\nEmission factor 0.015 kg CO₂e t⁻¹ km⁻¹.\\n\\n5. Ripening & cold storage at destination\\u2003≈ 14 g CO₂e\\nEnergy ≈0.3 kWh kg⁻¹; for 0.12 kg → 0.036 kWh. EU grid: 0.4 kg CO₂e kWh⁻¹.\\n\\n6. Distribution to wholesale/retail (200 km, refrigerated truck)\\u2003≈ 2 g CO₂e\\nFactor 0.08 kg CO₂e t⁻¹ km⁻¹.\\n\\n7. Retail display refrigeration (≈2 days)\\u2003≈ 10 g CO₂e\\n0.1 kWh kg⁻¹ day⁻¹ × 2 days → 0.024 kWh.\\n\\n8. End-of-life of packaging (incineration/landfill mix)\\u2003≈ 2 g CO₂e\\n\\nTotal carbon footprint\\n89 g + 1 g + 10 g + 14 g + 14 g + 2 g + 10 g + 2 g  \\n≈ 142 g CO₂e per average banana\\n\\nExpressed per kilogram of fruit this is roughly  \\n0.142 kg CO₂e / 0.12 kg ≈ 1.2 kg CO₂e kg⁻¹.\\n\\nUncertainty\\n• Fertiliser application rates vary by plantation (±20 g).  \\n• Shipping distance and vessel load factor (±10 g).  \\n• Electricity-grid carbon intensity (±10 g).  \\n\\nAllowing for these, a reasonable 95 % range is 110 – 160 g CO₂e per banana, with a best-estimate mean of about 140 g CO₂e.', 'annotations': []}] additional_kwargs={'reasoning': {'id': 'rs_680fe5f58f788191abdbb8da3a6e5b4505b7dc13beadc5c1', 'summary': [{'text': \"**Calculating banana's carbon footprint**\\n\\nI’m working on estimating the average carbon footprint of a single banana by breaking down the component processes. First, I’ll consider agricultural production, including fertilizer, energy, and irrigation. Next, I'll evaluate primary processing, such as washing and packaging. Transport stages from the farm to the port and sea freight from, say, Ecuador to Europe or the US are also important. Finally, I’ll include ripening, distribution, and waste disposal, initially estimating an average banana mass of around 120 grams. I'll rely on lifecycle assessments for this!\", 'type': 'summary_text'}, {'text': \"**Estimating carbon footprint per banana**\\n\\nI'm calculating the average carbon footprint for one banana step by step. Starting with cultivation, I'm considering nitrogen, phosphorus, potassium fertilizers, and their corresponding emissions, roughly totaling around 51 grams of CO2e. Next, I'll factor in emissions from packaging, transport, sea freight, ripening, and last-mile delivery, estimating all components for their respective emissions.\\n\\nIt seems like I'm working towards an overall estimate, aiming for around 110 grams CO2e per banana, based on existing data!\", 'type': 'summary_text'}, {'text': \"**Summing up emissions for a banana**\\n\\nI'm calculating the total carbon emissions per banana, considering several factors. For agriculture, packaging, transport, sea freight, ripening, distribution, refrigeration, and disposal, I've tallied the emissions. The breakdown gives around 142 grams of CO2e per banana. However, due to uncertainties in the calculations, I'll state an average range of 120 to 150 grams, with the best estimate being 140 grams CO2e, which is equivalent to about 1.17 kg CO2e per kilogram of banana. Let’s put together a final summary!\", 'type': 'summary_text'}], 'type': 'reasoning'}} response_metadata={'id': 'resp_680fe5f49d808191818aacaec24de89905b7dc13beadc5c1', 'created_at': 1745872372.0, 'metadata': {}, 'model': 'o3-2025-04-16', 'object': 'response', 'status': 'completed', 'model_name': 'o3-2025-04-16'} id='msg_680fe6094d2081919dd3ca16bd8547e305b7dc13beadc5c1' usage_metadata={'input_tokens': 42, 'output_tokens': 2115, 'total_tokens': 2157, 'output_token_details': {}}\n"
     ]
    },
    {
     "data": {
      "text/markdown": [
       "Below is a “bottom-up” life-cycle estimate that builds the carbon footprint of one typical export banana (≈120 g including peel) from the main component processes rather than quoting a single literature value. All numbers are rounded to the nearest whole gram of CO₂-equivalent (g CO₂e).\n",
       "\n",
       "Basic banana unit\n",
       "• Fresh mass (with peel) ………… 0.12 kg  \n",
       "• 1 t of bananas therefore contains ≈8 300 individual fruit.\n",
       "\n",
       "1. Plantation & field emissions ≈ 89 g CO₂e / banana\n",
       "a. Fertiliser manufacture  \n",
       "   N-fertiliser 0.0075 kg N × 6 kg CO₂e kg⁻¹ = 45 g  \n",
       "   P₂O₅ 0.00075 kg × 1 kg CO₂e kg⁻¹ = 1 g  \n",
       "   K₂O 0.00875 kg × 0.6 kg CO₂e kg⁻¹ = 5 g  \n",
       "b. Direct N₂O from soils  \n",
       "   1 % of N emitted → 35 g  \n",
       "c. On-farm diesel (≈10 L t⁻¹)  \n",
       "   0.0012 L × 2.7 kg CO₂e L⁻¹ = 3 g  \n",
       "\n",
       "2. Primary packaging ≈ 1 g CO₂e\n",
       "Per tonne of fruit: 4 kg cardboard + 2 kg LDPE  \n",
       "For one banana: 0.48 g cardboard (0.4 g CO₂e) + 0.24 g plastic (0.6 g CO₂e).\n",
       "\n",
       "3. Farm → export port, refrigerated truck (200 km) ≈ 10 g CO₂e\n",
       "0.12 kg = 0.00012 t; ton-km = 0.024; 0.4 kg CO₂e t⁻¹ km⁻¹.\n",
       "\n",
       "4. Trans-oceanic sea freight (≈8 000 km in a reefer container) ≈ 14 g CO₂e\n",
       "Emission factor 0.015 kg CO₂e t⁻¹ km⁻¹.\n",
       "\n",
       "5. Ripening & cold storage at destination ≈ 14 g CO₂e\n",
       "Energy ≈0.3 kWh kg⁻¹; for 0.12 kg → 0.036 kWh. EU grid: 0.4 kg CO₂e kWh⁻¹.\n",
       "\n",
       "6. Distribution to wholesale/retail (200 km, refrigerated truck) ≈ 2 g CO₂e\n",
       "Factor 0.08 kg CO₂e t⁻¹ km⁻¹.\n",
       "\n",
       "7. Retail display refrigeration (≈2 days) ≈ 10 g CO₂e\n",
       "0.1 kWh kg⁻¹ day⁻¹ × 2 days → 0.024 kWh.\n",
       "\n",
       "8. End-of-life of packaging (incineration/landfill mix) ≈ 2 g CO₂e\n",
       "\n",
       "Total carbon footprint\n",
       "89 g + 1 g + 10 g + 14 g + 14 g + 2 g + 10 g + 2 g  \n",
       "≈ 142 g CO₂e per average banana\n",
       "\n",
       "Expressed per kilogram of fruit this is roughly  \n",
       "0.142 kg CO₂e / 0.12 kg ≈ 1.2 kg CO₂e kg⁻¹.\n",
       "\n",
       "Uncertainty\n",
       "• Fertiliser application rates vary by plantation (±20 g).  \n",
       "• Shipping distance and vessel load factor (±10 g).  \n",
       "• Electricity-grid carbon intensity (±10 g).  \n",
       "\n",
       "Allowing for these, a reasonable 95 % range is 110 – 160 g CO₂e per banana, with a best-estimate mean of about 140 g CO₂e."
      ],
      "text/plain": [
       "<IPython.core.display.Markdown object>"
      ]
     },
     "metadata": {},
     "output_type": "display_data"
    }
   ],
   "source": [
    "from IPython.display import Markdown, display\n",
    "\n",
    "# Print full response\n",
    "print(response)\n",
    "\n",
    "# Display markdown content\n",
    "display(Markdown(response.content[0][\"text\"]))"
   ]
  },
  {
   "cell_type": "markdown",
   "metadata": {},
   "source": [
    "## Hello LangGraph\n",
    "\n",
    "If you can run this code, then you're good to go with LangGraph."
   ]
  },
  {
   "cell_type": "code",
   "execution_count": 4,
   "metadata": {},
   "outputs": [
    {
     "name": "stdout",
     "output_type": "stream",
     "text": [
      "Values:\n",
      "{'messages': [HumanMessage(content='\\nCalculate the average carbon footprint of 1 banana. Do not rely on a single\\nvalue for the carbon intensity of bananas, rather, attempt to estimate the value\\nfrom the component processes.\\n', additional_kwargs={}, response_metadata={}, id='a069e082-cce2-4bad-b87d-9f4f57e1b15e')]}\n",
      "Step-by-step construction of a “typical” banana’s footprint  \n",
      "\n",
      "(The numbers are rounded to 2–3 significant figures; all CO₂-equivalent (CO₂e).)\n",
      "\n",
      "1. Definition of the functional unit  \n",
      "   • One whole dessert banana (medium size) picked green and ripened in the importing country.  \n",
      "   • Mean fresh mass: 120 g (peel included). = 0.12 kg = 1.2 × 10⁻⁴ t.  \n",
      "\n",
      "2. Farm-level production  \n",
      "   Main contributors are N-fertiliser manufacture & field N₂O, diesel for pumps / tractors and plantation waste burning.  \n",
      "   Published LCA studies (e.g. FAO, Colón et al. 2010, Carbon Trust 2012) give 0.3–0.8 kg CO₂e kg⁻¹ fruit at the farm gate; we adopt the mid-value 0.40 kg CO₂e kg⁻¹.  \n",
      "   0.40 kg × 0.12 kg = 0.048 kg = 48 g\n",
      "\n",
      "3. Packaging  \n",
      "   1 kg bananas typically uses 0.15 kg corrugated board plus 1 g plastic wrap.  \n",
      "   Cardboard: 0.9 kg CO₂e kg⁻¹ (net of recycling credits) → 0.15 × 0.9 = 0.135 kg  \n",
      "   Plastic: 3 kg CO₂e kg⁻¹ → 0.001 × 3 = 0.003 kg  \n",
      "   Total per kg fruit = 0.138 kg; per banana = 0.138 × 0.12 = 0.017 kg ≈ 17 g\n",
      "\n",
      "4. Sea transport (Central America → N. Europe or US East Coast ≈ 5 000 km)  \n",
      "   Refrigerated container ship: 0.03 kg CO₂e t-km (includes electricity for cooling).  \n",
      "   Ton-km for one banana: 0.00012 t × 5 000 km = 0.60 t-km  \n",
      "   Emissions = 0.60 × 0.03 = 0.018 kg = 18 g\n",
      "\n",
      "5. Port handling & forced-ripening  \n",
      "   Electricity for conveyors, ethylene rooms and cold storage ≈ 0.10 kg CO₂e kg⁻¹.  \n",
      "   0.10 × 0.12 = 0.012 kg = 12 g\n",
      "\n",
      "6. Land transport to distribution centre & retailers  \n",
      "   a) Articulated truck, port → DC → stores ≈ 500 km total.  \n",
      "   Factor: 0.18 kg CO₂e t-km.  \n",
      "   0.00012 t × 500 km × 0.18 = 0.0108 kg ≈ 11 g\n",
      "\n",
      "7. Retail refrigeration & lighting  \n",
      "   Supermarket energy use apportioned to the banana while on display ≈ 0.05 kg CO₂e kg⁻¹.  \n",
      "   0.05 × 0.12 = 0.006 kg = 6 g\n",
      "\n",
      "Subtotal (1-7) = 0.048 + 0.017 + 0.018 + 0.012 + 0.011 + 0.006  \n",
      "                = 0.112 kg ≈ 112 g CO₂e\n",
      "\n",
      "8. Allowance for avoidable product loss (≈ 10 % discarded at retail & home)  \n",
      "   112 g × 1.10 = 123 g CO₂e\n",
      "\n",
      "Rounded average footprint  \n",
      "\n",
      "≈ 0.12 kg CO₂e per banana  \n",
      "(80–140 g CO₂e range if the above parameters are varied within realistic limits.)\n",
      "\n",
      "Interpretation  \n",
      "\n",
      "• Farming accounts for ~40 % of the total, sea freight about 15 %, packaging 14 %, and the remainder is split between ripening, inland haulage and retail energy.  \n",
      "• Because shipping bananas by sea is efficient, the extra distance from the tropics typically adds only a few tens of grams of CO₂e; fertiliser use and spoilage are more influential.Values:\n",
      "{'messages': [HumanMessage(content='\\nCalculate the average carbon footprint of 1 banana. Do not rely on a single\\nvalue for the carbon intensity of bananas, rather, attempt to estimate the value\\nfrom the component processes.\\n', additional_kwargs={}, response_metadata={}, id='a069e082-cce2-4bad-b87d-9f4f57e1b15e'), AIMessage(content=[{'type': 'text', 'text': 'Step-by-step construction of a “typical” banana’s footprint  \\n\\n(The numbers are rounded to 2–3 significant figures; all CO₂-equivalent (CO₂e).)\\n\\n1. Definition of the functional unit  \\n   • One whole dessert banana (medium size) picked green and ripened in the importing country.  \\n   • Mean fresh mass: 120 g (peel included). = 0.12 kg = 1.2 × 10⁻⁴ t.  \\n\\n2. Farm-level production  \\n   Main contributors are N-fertiliser manufacture & field N₂O, diesel for pumps / tractors and plantation waste burning.  \\n   Published LCA studies (e.g. FAO, Colón et al. 2010, Carbon Trust 2012) give 0.3–0.8 kg CO₂e kg⁻¹ fruit at the farm gate; we adopt the mid-value 0.40 kg CO₂e kg⁻¹.  \\n   0.40 kg × 0.12 kg = 0.048 kg = 48 g\\n\\n3. Packaging  \\n   1 kg bananas typically uses 0.15 kg corrugated board plus 1 g plastic wrap.  \\n   Cardboard: 0.9 kg CO₂e kg⁻¹ (net of recycling credits) → 0.15 × 0.9 = 0.135 kg  \\n   Plastic: 3 kg CO₂e kg⁻¹ → 0.001 × 3 = 0.003 kg  \\n   Total per kg fruit = 0.138 kg; per banana = 0.138 × 0.12 = 0.017 kg ≈ 17 g\\n\\n4. Sea transport (Central America → N. Europe or US East Coast ≈ 5 000 km)  \\n   Refrigerated container ship: 0.03 kg CO₂e t-km (includes electricity for cooling).  \\n   Ton-km for one banana: 0.00012 t × 5 000 km = 0.60 t-km  \\n   Emissions = 0.60 × 0.03 = 0.018 kg = 18 g\\n\\n5. Port handling & forced-ripening  \\n   Electricity for conveyors, ethylene rooms and cold storage ≈ 0.10 kg CO₂e kg⁻¹.  \\n   0.10 × 0.12 = 0.012 kg = 12 g\\n\\n6. Land transport to distribution centre & retailers  \\n   a) Articulated truck, port → DC → stores ≈ 500 km total.  \\n   Factor: 0.18 kg CO₂e t-km.  \\n   0.00012 t × 500 km × 0.18 = 0.0108 kg ≈ 11 g\\n\\n7. Retail refrigeration & lighting  \\n   Supermarket energy use apportioned to the banana while on display ≈ 0.05 kg CO₂e kg⁻¹.  \\n   0.05 × 0.12 = 0.006 kg = 6 g\\n\\nSubtotal (1-7) = 0.048 + 0.017 + 0.018 + 0.012 + 0.011 + 0.006  \\n                = 0.112 kg ≈ 112 g CO₂e\\n\\n8. Allowance for avoidable product loss (≈ 10 % discarded at retail & home)  \\n   112 g × 1.10 = 123 g CO₂e\\n\\nRounded average footprint  \\n\\n≈ 0.12 kg CO₂e per banana  \\n(80–140 g CO₂e range if the above parameters are varied within realistic limits.)\\n\\nInterpretation  \\n\\n• Farming accounts for ~40 % of the total, sea freight about 15 %, packaging 14 %, and the remainder is split between ripening, inland haulage and retail energy.  \\n• Because shipping bananas by sea is efficient, the extra distance from the tropics typically adds only a few tens of grams of CO₂e; fertiliser use and spoilage are more influential.', 'index': 0}], additional_kwargs={'reasoning': {'id': 'rs_680fe61af3948191bdf057a8836e80bb01e206e055fbf0e4', 'summary': [{'text': \"**Estimating banana carbon footprint**\\n\\nTo estimate the carbon footprint of a banana, I’ll break down the stages: cultivation, packaging, transport, retail, and disposal. I'll consider a banana's weight of about 120g, with 100g being edible. Using life cycle data, I'll analyze the supply chain, starting from Latin America to the US or Europe, factoring in emissions from fertilizers, shipping, and trucking. With calculations, I expect to determine that the carbon footprint is around 80-100 grams of CO2e per banana. Let’s compute these details!\", 'type': 'summary_text'}, {'text': \"**Calculating banana emissions**\\n\\nI'm estimating the emissions for a banana based on various stages. For cultivation, I’ll assume about 0.4 kg CO2e per kg, equating to 0.048 kg for one banana. Packaging adds another 0.012 kg, while refrigerated shipping contributes approximately 0.018 kg. Adding in energy for ripening (0.012 kg) and trucking (0.0108 kg) brings the subtotal to 0.1068 kg. With additional waste factored in, the total emissions come to around 0.117 kg, which I can represent as a range of 80-140 grams CO2e per banana. Let's craft a clear explanation!\", 'type': 'summary_text'}], 'type': 'reasoning'}}, response_metadata={'id': 'resp_680fe61a13408191a2f643abb0c9c02701e206e055fbf0e4', 'created_at': 1745872410.0, 'metadata': {}, 'model': 'o3-2025-04-16', 'object': 'response', 'status': 'completed', 'model_name': 'o3-2025-04-16'}, id='run-b0ec5e72-accd-494c-8243-1b61854732cc', usage_metadata={'input_tokens': 45, 'output_tokens': 1584, 'total_tokens': 1629, 'output_token_details': {}})]}\n"
     ]
    }
   ],
   "source": [
    "from typing import Annotated\n",
    "\n",
    "from langchain_openai import ChatOpenAI\n",
    "from typing_extensions import TypedDict\n",
    "\n",
    "from langgraph.graph import StateGraph, START, END\n",
    "from langgraph.graph.message import add_messages\n",
    "from langgraph.checkpoint.memory import InMemorySaver\n",
    "\n",
    "memory = InMemorySaver()\n",
    "\n",
    "class State(TypedDict):\n",
    "    messages: Annotated[list, add_messages]\n",
    "\n",
    "graph_builder = StateGraph(State)\n",
    "\n",
    "def chatbot(state: State):\n",
    "    return {\"messages\": [llm.invoke(state[\"messages\"])]}\n",
    "\n",
    "graph_builder.add_node(\"chatbot\", chatbot)\n",
    "graph_builder.add_edge(START, \"chatbot\")\n",
    "graph_builder.add_edge(\"chatbot\", END)\n",
    "graph = graph_builder.compile(checkpointer=memory)\n",
    "\n",
    "config = {\"configurable\": {\"thread_id\": \"3\"}}\n",
    "\n",
    "user_input = \"\"\"\n",
    "Calculate the average carbon footprint of 1 banana. Do not rely on a single\n",
    "value for the carbon intensity of bananas, rather, attempt to estimate the value\n",
    "from the component processes.\n",
    "\"\"\"\n",
    "events = graph.stream(\n",
    "    {\"messages\": [{\"role\": \"user\", \"content\": user_input}]}, \n",
    "    config, \n",
    "    stream_mode=[\"messages\", \"values\"]\n",
    ")\n",
    "for mode, event in events:\n",
    "    if mode == \"messages\":\n",
    "        #print(\"Messages:\")\n",
    "        msg, metadata = event\n",
    "        if msg.content:\n",
    "            print(msg.content[0][\"text\"], end=\"\", flush=True)\n",
    "    elif mode == \"values\":\n",
    "        print(\"Values:\")\n",
    "        print(event)"
   ]
  },
  {
   "cell_type": "markdown",
   "metadata": {},
   "source": [
    "# Using Postgres to save Graph State\n",
    "\n",
    "LangGraph comes with tool calling and Postgres support. This code checks that both are working. (Note, you need the DB_DEV_CONNECTION env variable set to use this.)"
   ]
  },
  {
   "cell_type": "code",
   "execution_count": 13,
   "metadata": {},
   "outputs": [
    {
     "name": "stdout",
     "output_type": "stream",
     "text": [
      "{'messages': [HumanMessage(content=\"what's the weather in sf\", additional_kwargs={}, response_metadata={}, id='a725ae2b-f624-4b5f-9beb-d0bd1e0732b7'), AIMessage(content=[], additional_kwargs={'reasoning': {'id': 'rs_680ff00771dc81919d776bddbb06319f0e9aab99c0a9bf5c', 'summary': [], 'type': 'reasoning'}, '__openai_function_call_ids__': {'call_lSuQqWabeXNxzOvt73bnWyG1': 'fc_680ff008c72081919b348b43d23285800e9aab99c0a9bf5c'}}, response_metadata={'id': 'resp_680fefdff73c8191b09b67132548143b0e9aab99c0a9bf5c', 'created_at': 1745874911.0, 'metadata': {}, 'model': 'o3-2025-04-16', 'object': 'response', 'status': 'completed', 'model_name': 'o3-2025-04-16'}, id='run-1574bc0d-a36b-4170-bbfd-67eea12d640b-0', tool_calls=[{'name': 'get_weather', 'args': {'city': 'sf'}, 'id': 'call_lSuQqWabeXNxzOvt73bnWyG1', 'type': 'tool_call'}], usage_metadata={'input_tokens': 53, 'output_tokens': 17, 'total_tokens': 70, 'output_token_details': {}}), ToolMessage(content=\"It's always sunny in sf\", name='get_weather', id='81343d73-c914-4877-956b-1c015b5606a6', tool_call_id='call_lSuQqWabeXNxzOvt73bnWyG1'), AIMessage(content=[{'type': 'text', 'text': 'According to the latest report, it’s currently sunny in San Francisco.', 'annotations': []}], additional_kwargs={}, response_metadata={'id': 'resp_680ff00a88ac8191a3cdb29da6de618f0e9aab99c0a9bf5c', 'created_at': 1745874956.0, 'metadata': {}, 'model': 'o3-2025-04-16', 'object': 'response', 'status': 'completed', 'model_name': 'o3-2025-04-16'}, id='msg_680ff00dece481919c6f67d8ff413beb0e9aab99c0a9bf5c', usage_metadata={'input_tokens': 137, 'output_tokens': 20, 'total_tokens': 157, 'output_token_details': {}}), HumanMessage(content=\"what's the weather in sf\", additional_kwargs={}, response_metadata={}, id='2d4238d5-f3b5-4e94-adde-7dc7454c0f62'), AIMessage(content=[], additional_kwargs={'reasoning': {'id': 'rs_680ff26c83cc8191a78071ff5454d4f90e9aab99c0a9bf5c', 'summary': [], 'type': 'reasoning'}, '__openai_function_call_ids__': {'call_wgdT7Rrbyn3liOk1NaN4uFT6': 'fc_680ff26e4e0c8191a17bd99a4e3372b70e9aab99c0a9bf5c'}}, response_metadata={'id': 'resp_680ff26c002481918685649d661cae290e9aab99c0a9bf5c', 'created_at': 1745875564.0, 'metadata': {}, 'model': 'o3-2025-04-16', 'object': 'response', 'status': 'completed', 'model_name': 'o3-2025-04-16'}, id='run-a115e3de-a9ea-4543-bbfe-0868b0ad91a3-0', tool_calls=[{'name': 'get_weather', 'args': {'city': 'sf'}, 'id': 'call_wgdT7Rrbyn3liOk1NaN4uFT6', 'type': 'tool_call'}], usage_metadata={'input_tokens': 114, 'output_tokens': 17, 'total_tokens': 131, 'output_token_details': {}}), ToolMessage(content=\"It's always sunny in sf\", name='get_weather', id='c2ef45c9-9c5a-4eb5-8925-25f545b4417d', tool_call_id='call_wgdT7Rrbyn3liOk1NaN4uFT6'), AIMessage(content=[{'type': 'text', 'text': 'It’s still sunny in San Francisco!', 'annotations': []}], additional_kwargs={}, response_metadata={'id': 'resp_680ff26f0034819180ba44d1d2a4040c0e9aab99c0a9bf5c', 'created_at': 1745875567.0, 'metadata': {}, 'model': 'o3-2025-04-16', 'object': 'response', 'status': 'completed', 'model_name': 'o3-2025-04-16'}, id='msg_680ff26f60408191afee8f4d496600e50e9aab99c0a9bf5c', usage_metadata={'input_tokens': 174, 'output_tokens': 12, 'total_tokens': 186, 'output_token_details': {}}), HumanMessage(content=\"what's the weather in sf\", additional_kwargs={}, response_metadata={}, id='66af2f86-a3fa-4de7-83ad-1b0bee2ea80a'), AIMessage(content=[], additional_kwargs={'reasoning': {'id': 'rs_680ff277f90481918ed28e0ed7871cee0e9aab99c0a9bf5c', 'summary': [], 'type': 'reasoning'}, '__openai_function_call_ids__': {'call_KsO5ci4Pdh1VbsC1LgSXExky': 'fc_680ff2788c1081919d4d9439e57a34cf0e9aab99c0a9bf5c'}}, response_metadata={'id': 'resp_680ff2778f5c8191b4bd353c2e9631530e9aab99c0a9bf5c', 'created_at': 1745875575.0, 'metadata': {}, 'model': 'o3-2025-04-16', 'object': 'response', 'status': 'completed', 'model_name': 'o3-2025-04-16'}, id='run-1f3cc990-e16a-4d69-a5b2-75d69f28cae0-0', tool_calls=[{'name': 'get_weather', 'args': {'city': 'sf'}, 'id': 'call_KsO5ci4Pdh1VbsC1LgSXExky', 'type': 'tool_call'}], usage_metadata={'input_tokens': 169, 'output_tokens': 17, 'total_tokens': 186, 'output_token_details': {}}), ToolMessage(content=\"It's always sunny in sf\", name='get_weather', id='37118cc3-bfb4-4c05-8fd8-3356cc8f94b3', tool_call_id='call_KsO5ci4Pdh1VbsC1LgSXExky'), AIMessage(content=[{'type': 'text', 'text': 'Sunny skies continue in San Francisco!', 'annotations': []}], additional_kwargs={}, response_metadata={'id': 'resp_680ff27922d48191ac80a3be3affe2090e9aab99c0a9bf5c', 'created_at': 1745875577.0, 'metadata': {}, 'model': 'o3-2025-04-16', 'object': 'response', 'status': 'completed', 'model_name': 'o3-2025-04-16'}, id='msg_680ff279b20881919a096271462190a80e9aab99c0a9bf5c', usage_metadata={'input_tokens': 211, 'output_tokens': 13, 'total_tokens': 224, 'output_token_details': {}}), HumanMessage(content=\"what's the weather in that same city again?\", additional_kwargs={}, response_metadata={}, id='64115333-3310-4a71-baad-cf63c060170a'), AIMessage(content=[], additional_kwargs={'reasoning': {'id': 'rs_680ff2ea8b1481919213321b2851f39e0e9aab99c0a9bf5c', 'summary': [{'text': '**Clarifying the city for weather**\\n\\nI need to figure out that \"that same city\" actually refers to the last referenced city, which is San Francisco. So, my next step is to get the weather details for San Francisco. This will help me provide accurate information to the user. I want to ensure I’m clear to avoid any confusion, especially when it comes to location-based queries. It\\'s all about being precise and helpful!', 'type': 'summary_text'}], 'type': 'reasoning'}, '__openai_function_call_ids__': {'call_L6907rM1tV9feTKl9xlm96UA': 'fc_680ff2ecb8748191a83ef2166d6a99a00e9aab99c0a9bf5c'}}, response_metadata={'id': 'resp_680ff2ea01048191b8d99441a76eaa580e9aab99c0a9bf5c', 'created_at': 1745875690.0, 'metadata': {}, 'model': 'o3-2025-04-16', 'object': 'response', 'status': 'completed', 'model_name': 'o3-2025-04-16'}, id='run-0c97f647-e022-4d07-a180-849eba1dc543-0', tool_calls=[{'name': 'get_weather', 'args': {'city': 'sf'}, 'id': 'call_L6907rM1tV9feTKl9xlm96UA', 'type': 'tool_call'}], usage_metadata={'input_tokens': 227, 'output_tokens': 17, 'total_tokens': 244, 'output_token_details': {}}), ToolMessage(content=\"It's always sunny in sf\", name='get_weather', id='a376b6e3-a1db-4f9d-9cd5-3d28a4def8b5', tool_call_id='call_L6907rM1tV9feTKl9xlm96UA'), AIMessage(content=[{'type': 'text', 'text': 'It’s still sunny in San Francisco!', 'annotations': []}], additional_kwargs={}, response_metadata={'id': 'resp_680ff2ed49308191b98c9d5a8b0da4ad0e9aab99c0a9bf5c', 'created_at': 1745875693.0, 'metadata': {}, 'model': 'o3-2025-04-16', 'object': 'response', 'status': 'completed', 'model_name': 'o3-2025-04-16'}, id='msg_680ff2ee00a88191a5cf007ebacb2a000e9aab99c0a9bf5c', usage_metadata={'input_tokens': 291, 'output_tokens': 12, 'total_tokens': 303, 'output_token_details': {}})]}\n",
      "{'v': 3, 'id': '1f02477b-168d-68e8-8012-b19adb3d612e', 'ts': '2025-04-28T21:28:14.463191+00:00', 'pending_sends': [], 'versions_seen': {'agent': {'branch:to:agent': '00000000000000000000000000000019.0.6479749553052317'}, 'tools': {'branch:to:tools': '00000000000000000000000000000018.0.5613560550239683'}, '__input__': {}, '__start__': {'__start__': '00000000000000000000000000000016.0.9463281712789241'}}, 'channel_versions': {'messages': '00000000000000000000000000000020.0.24050580199968008', '__start__': '00000000000000000000000000000017.0.8616085970533184', 'branch:to:agent': '00000000000000000000000000000020.0.8109614647336126', 'branch:to:tools': '00000000000000000000000000000019.0.5513501010708359'}, 'channel_values': {'messages': [HumanMessage(content=\"what's the weather in sf\", additional_kwargs={}, response_metadata={}, id='a725ae2b-f624-4b5f-9beb-d0bd1e0732b7'), AIMessage(content=[], additional_kwargs={'reasoning': {'id': 'rs_680ff00771dc81919d776bddbb06319f0e9aab99c0a9bf5c', 'summary': [], 'type': 'reasoning'}, '__openai_function_call_ids__': {'call_lSuQqWabeXNxzOvt73bnWyG1': 'fc_680ff008c72081919b348b43d23285800e9aab99c0a9bf5c'}}, response_metadata={'id': 'resp_680fefdff73c8191b09b67132548143b0e9aab99c0a9bf5c', 'created_at': 1745874911.0, 'metadata': {}, 'model': 'o3-2025-04-16', 'object': 'response', 'status': 'completed', 'model_name': 'o3-2025-04-16'}, id='run-1574bc0d-a36b-4170-bbfd-67eea12d640b-0', tool_calls=[{'name': 'get_weather', 'args': {'city': 'sf'}, 'id': 'call_lSuQqWabeXNxzOvt73bnWyG1', 'type': 'tool_call'}], usage_metadata={'input_tokens': 53, 'output_tokens': 17, 'total_tokens': 70, 'output_token_details': {}}), ToolMessage(content=\"It's always sunny in sf\", name='get_weather', id='81343d73-c914-4877-956b-1c015b5606a6', tool_call_id='call_lSuQqWabeXNxzOvt73bnWyG1'), AIMessage(content=[{'type': 'text', 'text': 'According to the latest report, it’s currently sunny in San Francisco.', 'annotations': []}], additional_kwargs={}, response_metadata={'id': 'resp_680ff00a88ac8191a3cdb29da6de618f0e9aab99c0a9bf5c', 'created_at': 1745874956.0, 'metadata': {}, 'model': 'o3-2025-04-16', 'object': 'response', 'status': 'completed', 'model_name': 'o3-2025-04-16'}, id='msg_680ff00dece481919c6f67d8ff413beb0e9aab99c0a9bf5c', usage_metadata={'input_tokens': 137, 'output_tokens': 20, 'total_tokens': 157, 'output_token_details': {}}), HumanMessage(content=\"what's the weather in sf\", additional_kwargs={}, response_metadata={}, id='2d4238d5-f3b5-4e94-adde-7dc7454c0f62'), AIMessage(content=[], additional_kwargs={'reasoning': {'id': 'rs_680ff26c83cc8191a78071ff5454d4f90e9aab99c0a9bf5c', 'summary': [], 'type': 'reasoning'}, '__openai_function_call_ids__': {'call_wgdT7Rrbyn3liOk1NaN4uFT6': 'fc_680ff26e4e0c8191a17bd99a4e3372b70e9aab99c0a9bf5c'}}, response_metadata={'id': 'resp_680ff26c002481918685649d661cae290e9aab99c0a9bf5c', 'created_at': 1745875564.0, 'metadata': {}, 'model': 'o3-2025-04-16', 'object': 'response', 'status': 'completed', 'model_name': 'o3-2025-04-16'}, id='run-a115e3de-a9ea-4543-bbfe-0868b0ad91a3-0', tool_calls=[{'name': 'get_weather', 'args': {'city': 'sf'}, 'id': 'call_wgdT7Rrbyn3liOk1NaN4uFT6', 'type': 'tool_call'}], usage_metadata={'input_tokens': 114, 'output_tokens': 17, 'total_tokens': 131, 'output_token_details': {}}), ToolMessage(content=\"It's always sunny in sf\", name='get_weather', id='c2ef45c9-9c5a-4eb5-8925-25f545b4417d', tool_call_id='call_wgdT7Rrbyn3liOk1NaN4uFT6'), AIMessage(content=[{'type': 'text', 'text': 'It’s still sunny in San Francisco!', 'annotations': []}], additional_kwargs={}, response_metadata={'id': 'resp_680ff26f0034819180ba44d1d2a4040c0e9aab99c0a9bf5c', 'created_at': 1745875567.0, 'metadata': {}, 'model': 'o3-2025-04-16', 'object': 'response', 'status': 'completed', 'model_name': 'o3-2025-04-16'}, id='msg_680ff26f60408191afee8f4d496600e50e9aab99c0a9bf5c', usage_metadata={'input_tokens': 174, 'output_tokens': 12, 'total_tokens': 186, 'output_token_details': {}}), HumanMessage(content=\"what's the weather in sf\", additional_kwargs={}, response_metadata={}, id='66af2f86-a3fa-4de7-83ad-1b0bee2ea80a'), AIMessage(content=[], additional_kwargs={'reasoning': {'id': 'rs_680ff277f90481918ed28e0ed7871cee0e9aab99c0a9bf5c', 'summary': [], 'type': 'reasoning'}, '__openai_function_call_ids__': {'call_KsO5ci4Pdh1VbsC1LgSXExky': 'fc_680ff2788c1081919d4d9439e57a34cf0e9aab99c0a9bf5c'}}, response_metadata={'id': 'resp_680ff2778f5c8191b4bd353c2e9631530e9aab99c0a9bf5c', 'created_at': 1745875575.0, 'metadata': {}, 'model': 'o3-2025-04-16', 'object': 'response', 'status': 'completed', 'model_name': 'o3-2025-04-16'}, id='run-1f3cc990-e16a-4d69-a5b2-75d69f28cae0-0', tool_calls=[{'name': 'get_weather', 'args': {'city': 'sf'}, 'id': 'call_KsO5ci4Pdh1VbsC1LgSXExky', 'type': 'tool_call'}], usage_metadata={'input_tokens': 169, 'output_tokens': 17, 'total_tokens': 186, 'output_token_details': {}}), ToolMessage(content=\"It's always sunny in sf\", name='get_weather', id='37118cc3-bfb4-4c05-8fd8-3356cc8f94b3', tool_call_id='call_KsO5ci4Pdh1VbsC1LgSXExky'), AIMessage(content=[{'type': 'text', 'text': 'Sunny skies continue in San Francisco!', 'annotations': []}], additional_kwargs={}, response_metadata={'id': 'resp_680ff27922d48191ac80a3be3affe2090e9aab99c0a9bf5c', 'created_at': 1745875577.0, 'metadata': {}, 'model': 'o3-2025-04-16', 'object': 'response', 'status': 'completed', 'model_name': 'o3-2025-04-16'}, id='msg_680ff279b20881919a096271462190a80e9aab99c0a9bf5c', usage_metadata={'input_tokens': 211, 'output_tokens': 13, 'total_tokens': 224, 'output_token_details': {}}), HumanMessage(content=\"what's the weather in that same city again?\", additional_kwargs={}, response_metadata={}, id='64115333-3310-4a71-baad-cf63c060170a'), AIMessage(content=[], additional_kwargs={'reasoning': {'id': 'rs_680ff2ea8b1481919213321b2851f39e0e9aab99c0a9bf5c', 'summary': [{'text': '**Clarifying the city for weather**\\n\\nI need to figure out that \"that same city\" actually refers to the last referenced city, which is San Francisco. So, my next step is to get the weather details for San Francisco. This will help me provide accurate information to the user. I want to ensure I’m clear to avoid any confusion, especially when it comes to location-based queries. It\\'s all about being precise and helpful!', 'type': 'summary_text'}], 'type': 'reasoning'}, '__openai_function_call_ids__': {'call_L6907rM1tV9feTKl9xlm96UA': 'fc_680ff2ecb8748191a83ef2166d6a99a00e9aab99c0a9bf5c'}}, response_metadata={'id': 'resp_680ff2ea01048191b8d99441a76eaa580e9aab99c0a9bf5c', 'created_at': 1745875690.0, 'metadata': {}, 'model': 'o3-2025-04-16', 'object': 'response', 'status': 'completed', 'model_name': 'o3-2025-04-16'}, id='run-0c97f647-e022-4d07-a180-849eba1dc543-0', tool_calls=[{'name': 'get_weather', 'args': {'city': 'sf'}, 'id': 'call_L6907rM1tV9feTKl9xlm96UA', 'type': 'tool_call'}], usage_metadata={'input_tokens': 227, 'output_tokens': 17, 'total_tokens': 244, 'output_token_details': {}}), ToolMessage(content=\"It's always sunny in sf\", name='get_weather', id='a376b6e3-a1db-4f9d-9cd5-3d28a4def8b5', tool_call_id='call_L6907rM1tV9feTKl9xlm96UA'), AIMessage(content=[{'type': 'text', 'text': 'It’s still sunny in San Francisco!', 'annotations': []}], additional_kwargs={}, response_metadata={'id': 'resp_680ff2ed49308191b98c9d5a8b0da4ad0e9aab99c0a9bf5c', 'created_at': 1745875693.0, 'metadata': {}, 'model': 'o3-2025-04-16', 'object': 'response', 'status': 'completed', 'model_name': 'o3-2025-04-16'}, id='msg_680ff2ee00a88191a5cf007ebacb2a000e9aab99c0a9bf5c', usage_metadata={'input_tokens': 291, 'output_tokens': 12, 'total_tokens': 303, 'output_token_details': {}})]}}\n"
     ]
    }
   ],
   "source": [
    "\n",
    "from typing import Literal\n",
    "from psycopg_pool import ConnectionPool\n",
    "from langgraph.checkpoint.postgres import PostgresSaver\n",
    "from langgraph.prebuilt import create_react_agent\n",
    "from langchain_core.tools import tool\n",
    "from langchain_openai import ChatOpenAI\n",
    "\n",
    "# See https://langchain-ai.github.io/langgraph/how-tos/persistence_postgres/\n",
    "DB_URI = os.environ['DB_DEV_CONNECTION']\n",
    "connection_kwargs = {\n",
    "    \"autocommit\": True,\n",
    "    \"prepare_threshold\": 0,\n",
    "}\n",
    "\n",
    "@tool\n",
    "def get_weather(city: Literal[\"nyc\", \"sf\"]):\n",
    "    \"\"\"Use this to get weather information.\"\"\"\n",
    "    if city == \"nyc\":\n",
    "        return \"It might be cloudy in nyc\"\n",
    "    elif city == \"sf\":\n",
    "        return \"It's always sunny in sf\"\n",
    "    else:\n",
    "        raise AssertionError(\"Unknown city\")\n",
    "\n",
    "\n",
    "tools = [get_weather]\n",
    "model = ChatOpenAI(model_name=\"o3\", temperature=0)\n",
    "\n",
    "with ConnectionPool(\n",
    "    # Example configuration\n",
    "    conninfo=DB_URI,\n",
    "    max_size=20,\n",
    "    kwargs=connection_kwargs,\n",
    ") as pool:\n",
    "    checkpointer = PostgresSaver(pool)\n",
    "\n",
    "    # NOTE: you need to call .setup() the first time you're using your checkpointer with your DB\n",
    "    # Steve already did this, so leave this commented out. Just including for reference\n",
    "    #checkpointer.setup()\n",
    "\n",
    "    graph = create_react_agent(llm, tools=tools, checkpointer=checkpointer)\n",
    "\n",
    "    # NOTE: if the thread_id is constant, the conversation will be continued\n",
    "    # every time you run the code\n",
    "    config = {\"configurable\": {\"thread_id\": \"1\"}}\n",
    "    res = graph.invoke({\"messages\": [(\"human\", \"what's the weather in sf?\")]}, config)\n",
    "    checkpoint = checkpointer.get(config)\n",
    "\n",
    "print(res)\n",
    "print(checkpoint)"
   ]
  },
  {
   "cell_type": "markdown",
   "metadata": {},
   "source": [
    "# Parking Lot\n",
    "\n",
    "Don't worry about code past this point for now, it's just me playing around with LangGraph."
   ]
  },
  {
   "cell_type": "markdown",
   "metadata": {},
   "source": [
    "# Calculator tool\n",
    "\n",
    "Create a node (maybe create_react_node) that has the calculator tool and can call it when it needs to do calculations."
   ]
  },
  {
   "cell_type": "code",
   "execution_count": null,
   "metadata": {},
   "outputs": [
    {
     "data": {
      "text/plain": [
       "{'messages': [ToolMessage(content='78.53981633974483', name='calculator', tool_call_id='call_On9aGjJS2B1szduxgbhD1UFK')]}"
      ]
     },
     "execution_count": 17,
     "metadata": {},
     "output_type": "execute_result"
    }
   ],
   "source": [
    "import math\n",
    "import numexpr\n",
    "from typing import Annotated\n",
    "\n",
    "from langchain_openai import ChatOpenAI\n",
    "from typing_extensions import TypedDict\n",
    "from langchain_core.tools import tool\n",
    "from langgraph.graph import StateGraph, START, END\n",
    "from langgraph.graph.message import add_messages\n",
    "from langgraph.prebuilt.tool_node import ToolNode\n",
    "\n",
    "# See https://python.langchain.com/api_reference/langchain/chains/langchain.chains.llm_math.base.LLMMathChain.html\n",
    "@tool\n",
    "def calculator(expression: str) -> str:\n",
    "    \"\"\"Calculate expression using Python's numexpr library.\n",
    "\n",
    "    Expression should be a single line mathematical expression\n",
    "    that solves the problem.\n",
    "\n",
    "    Examples:\n",
    "        \"37593 * 67\" for \"37593 times 67\"\n",
    "        \"37593**(1/5)\" for \"37593^(1/5)\"\n",
    "        \"pi * 2**2\" for \"pi times 2 squared\"\n",
    "        \"e**(2*pi)\" for \"e to the power of 2 pi\"\n",
    "    \"\"\"\n",
    "    local_dict = {\"pi\": math.pi, \"e\": math.e}\n",
    "    return str(\n",
    "        numexpr.evaluate(\n",
    "            expression.strip(),\n",
    "            global_dict={},  # restrict access to globals\n",
    "            local_dict=local_dict,  # add common mathematical functions\n",
    "        )\n",
    "    )\n",
    "\n",
    "class State(TypedDict):\n",
    "    messages: Annotated[list, add_messages]\n",
    "\n",
    "graph_builder = StateGraph(State)\n",
    "\n",
    "#tools=[{\"type\": \"code_interpreter\"}]\n",
    "#tools=[{\"type\": \"web_search_preview\"}]\n",
    "tools = [calculator]\n",
    "tool_node = ToolNode(tools)\n",
    "llm = ChatOpenAI(model=\"gpt-4o\").bind_tools(tools)\n",
    "\n",
    "# Simple test of the tool node\n",
    "tool_node.invoke({\"messages\": [llm.invoke(\"What's the area of a circle with a radius of 5?\")]})\n",
    "\n",
    "# def chatbot(state: State):\n",
    "#     return {\"messages\": [llm.invoke(state[\"messages\"])]}\n",
    "\n",
    "# graph_builder.add_node(\"chatbot\", chatbot)\n",
    "# graph_builder.add_edge(START, \"chatbot\")\n",
    "# graph_builder.add_edge(\"chatbot\", END)\n",
    "# graph = graph_builder.compile()\n",
    "\n",
    "# graph.invoke({\"messages\": [(\"human\", \"What's the area of a circle with a radius of 5?\")]})"
   ]
  }
 ],
 "metadata": {
  "kernelspec": {
   "display_name": ".venv",
   "language": "python",
   "name": "python3"
  },
  "language_info": {
   "codemirror_mode": {
    "name": "ipython",
    "version": 3
   },
   "file_extension": ".py",
   "mimetype": "text/x-python",
   "name": "python",
   "nbconvert_exporter": "python",
   "pygments_lexer": "ipython3",
   "version": "3.11.6"
  }
 },
 "nbformat": 4,
 "nbformat_minor": 2
}
