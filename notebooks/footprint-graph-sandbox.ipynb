{
 "cells": [
  {
   "cell_type": "markdown",
   "metadata": {},
   "source": [
    "# Graph that calculatess the footprint\n",
    "\n",
    "Let's start by having all agents share the same state. We're going to have the following nodes\n",
    "\n",
    "* Planner\n",
    "* Manufacturing\n",
    "* Raw materials\n",
    "* Packaging\n",
    "* Transportation\n",
    "* Use phase\n",
    "* End of life\n"
   ]
  },
  {
   "cell_type": "code",
   "execution_count": 4,
   "metadata": {},
   "outputs": [
    {
     "name": "stdout",
     "output_type": "stream",
     "text": [
      "The autoreload extension is already loaded. To reload it, use:\n",
      "  %reload_ext autoreload\n"
     ]
    }
   ],
   "source": [
    "%load_ext autoreload\n",
    "%autoreload 2\n",
    "\n",
    "from dotenv import load_dotenv\n",
    "from time import sleep\n",
    "import os\n",
    "\n",
    "while 'requirements.txt' not in os.listdir():\n",
    "    os.chdir('..')\n",
    "\n",
    "# Load environment variables from .env.local file\n",
    "load_dotenv(dotenv_path='.env.local')\n",
    "\n",
    "# Update with your name to group your own traces\n",
    "os.environ['LANGCHAIN_PROJECT'] = 'steve-fap-sandbox'"
   ]
  },
  {
   "cell_type": "code",
   "execution_count": 5,
   "metadata": {},
   "outputs": [],
   "source": [
    "from typing import Annotated, TypedDict\n",
    "from langgraph.graph import StateGraph, START, END\n",
    "from langgraph.graph.message import add_messages\n",
    "from pydantic import Field, BaseModel\n",
    "from langchain_openai import ChatOpenAI\n",
    "from state import FootprintState\n",
    "# class PhaseData(TypedDict):\n",
    "#     messages: list\n",
    "#     summary: str\n",
    "#     carbon: float\n",
    "\n",
    "# # Define the state that will be shared between agents\n",
    "# class FootprintState(TypedDict):\n",
    "#     messages: Annotated[list, add_messages]\n",
    "#     user_input: str = Field(default=\"\")\n",
    "#     url: str\n",
    "#     markdown: str\n",
    "#     brand: str\n",
    "#     category: str\n",
    "#     description: str\n",
    "#     material_description: str # A natural language description of the materials in the product\n",
    "#     product_image_urls: list[str]\n",
    "#     weight_kg: float\n",
    "#     manufacturing: PhaseData\n",
    "#     packaging: PhaseData\n",
    "#     transportation: PhaseData\n",
    "#     use: PhaseData\n",
    "#     eol: PhaseData\n",
    "\n",
    "# state = FootprintState()\n"
   ]
  },
  {
   "cell_type": "markdown",
   "metadata": {},
   "source": [
    "# Tools"
   ]
  },
  {
   "cell_type": "markdown",
   "metadata": {},
   "source": [
    "## Page Analyzer"
   ]
  },
  {
   "cell_type": "code",
   "execution_count": 6,
   "metadata": {},
   "outputs": [],
   "source": [
    "from langchain_core.tools import tool\n",
    "\n",
    "def page_analyzer(url: str, questions: list[str]) -> list:\n",
    "    # If the url has not been crawled, crawl and cache it\n",
    "    # {\"brand\": \"Apple\", \"category\": \"cellphone\", \"description\": \"An iPhone 15\"}\n",
    "    answers = []\n",
    "    for question in questions:\n",
    "        if \"packaging\" in question:\n",
    "            answers.append({\"question\":question, \"answer\":\"A cardboard box\"})\n",
    "        elif \"brand\" in question:\n",
    "            answers.append({\"question\":question, \"answer\":\"Apple\"})\n",
    "        elif \"category\" in question:\n",
    "            answers.append({\"question\":question, \"answer\":\"cellphone\"})\n",
    "        elif \"description\" in question:\n",
    "            answers.append({\"question\":question, \"answer\":\"An Apple iPhone 15 Pro\"})\n",
    "        elif \"weight\" in question:\n",
    "            answers.append({\"question\":question, \"answer\":0.17})\n",
    "        else:\n",
    "            answers.append({\"question\":question, \"answer\":f\"not found\"})\n",
    "    return answers\n",
    "\n",
    "@tool\n",
    "def page_analyzer_tool(url: str, questions: list[str]) -> list:\n",
    "    \"\"\"Given a list of questions about a product described at url, returns a\n",
    "    list of question and answer pairs. If an answer for a question cannot be\n",
    "    found, it will be \"not found\".\"\"\"\n",
    "    return page_analyzer(url, questions)\n"
   ]
  },
  {
   "cell_type": "markdown",
   "metadata": {},
   "source": [
    "## Material Estimator"
   ]
  },
  {
   "cell_type": "code",
   "execution_count": 7,
   "metadata": {},
   "outputs": [],
   "source": [
    "\n",
    "\n",
    "def material_estimator(url: str) -> float:\n",
    "    return [{\n",
    "        \"kgCO2e\": 100,\n",
    "        \"description\": f\"This is a test description for {url}\",\n",
    "        \"source\": \"This is a test source\"\n",
    "    }]\n",
    "\n",
    "@tool\n",
    "def material_estimator_tool(url) -> float:\n",
    "    \"\"\"For a given product url, returns a list of materials in the product.\"\"\"\n",
    "    return material_estimator(url)\n",
    "\n",
    "#material_estimator(\"6.12 inch LCD display for a cell phone\", \"manufacturing\")"
   ]
  },
  {
   "cell_type": "markdown",
   "metadata": {},
   "source": [
    "# Agents"
   ]
  },
  {
   "cell_type": "markdown",
   "metadata": {},
   "source": [
    "## Planner"
   ]
  },
  {
   "cell_type": "code",
   "execution_count": 8,
   "metadata": {},
   "outputs": [
    {
     "name": "stdout",
     "output_type": "stream",
     "text": [
      "Running Planner\n",
      "[{'question': 'What is the brand of the product?', 'answer': 'Apple'}, {'question': 'What is the product category?', 'answer': 'cellphone'}, {'question': 'What is a 1 sentence, factual description of the product?', 'answer': 'An Apple iPhone 15 Pro'}, {'question': \"What is the product's weight?\", 'answer': 0.17}]\n",
      "[{'kgCO2e': 100, 'description': 'This is a test description for https://www.apple.com/iphone-15-pro/', 'source': 'This is a test source'}]\n"
     ]
    },
    {
     "data": {
      "text/plain": [
       "{'messages': [{'role': 'ai', 'content': 'planner'}],\n",
       " 'brand': 'Apple',\n",
       " 'category': 'cellphone',\n",
       " 'description': 'An Apple iPhone 15 Pro'}"
      ]
     },
     "execution_count": 8,
     "metadata": {},
     "output_type": "execute_result"
    }
   ],
   "source": [
    "from langchain_openai.chat_models import ChatOpenAI\n",
    "from langgraph.prebuilt import create_react_agent\n",
    "\n",
    "# The planner orchestrates the work\n",
    "def planner(state: FootprintState):\n",
    "    print('Running Planner')\n",
    "\n",
    "    starting_questions = [\n",
    "        \"What is the brand of the product?\",\n",
    "        \"What is the product category?\",\n",
    "        \"What is a 1 sentence, factual description of the product?\",\n",
    "        \"What is the product's weight?\"\n",
    "    ]\n",
    "    \n",
    "    # Call the page analyzer directly to get the high level product details\n",
    "    high_level_product_details = page_analyzer(state[\"url\"], starting_questions)\n",
    "    print(high_level_product_details)\n",
    "    materials = material_estimator(state[\"url\"])\n",
    "    print(materials)\n",
    "    \n",
    "    return {\n",
    "        \"messages\": [{\"role\": \"ai\", \"content\": \"planner\"}],\n",
    "        \"brand\": high_level_product_details[0][\"answer\"],\n",
    "        \"category\": high_level_product_details[1][\"answer\"],\n",
    "        \"description\": high_level_product_details[2][\"answer\"],\n",
    "    }\n",
    "\n",
    "planner({\"url\": \"https://www.apple.com/iphone-15-pro/\"})"
   ]
  },
  {
   "cell_type": "markdown",
   "metadata": {},
   "source": [
    "## Manufacturing"
   ]
  },
  {
   "cell_type": "code",
   "execution_count": 9,
   "metadata": {},
   "outputs": [],
   "source": [
    "# The maufacturing agent estimates the footprint of assembling the product\n",
    "def manufacturing_phase(state: FootprintState):\n",
    "    print('Running raw materials and manufacturing')\n",
    "    sleep(4)\n",
    "    print('Finished raw materials and manufacturing')\n",
    "    return {\"messages\": [{\"role\": \"ai\", \"content\": \"manufacturing\"}]}"
   ]
  },
  {
   "cell_type": "markdown",
   "metadata": {},
   "source": [
    "## Summarizer"
   ]
  },
  {
   "cell_type": "code",
   "execution_count": 13,
   "metadata": {},
   "outputs": [],
   "source": [
    "def summarizer(state: FootprintState):\n",
    "    print('Running summarizer')\n",
    "    sleep(3)\n",
    "    print('Finished summarizer')\n",
    "    return {\"messages\": [{\"role\": \"ai\", \"content\": \"summarizer\"}]}\n"
   ]
  },
  {
   "cell_type": "markdown",
   "metadata": {},
   "source": [
    "# Assemble the Analysis Graph"
   ]
  },
  {
   "cell_type": "code",
   "execution_count": 24,
   "metadata": {},
   "outputs": [
    {
     "name": "stdout",
     "output_type": "stream",
     "text": [
      "                                                              +-----------+                                                              \n",
      "                                                              | __start__ |                                                              \n",
      "                                                              +-----------+                                                              \n",
      "                                                                    *                                                                    \n",
      "                                                                    *                                                                    \n",
      "                                                                    *                                                                    \n",
      "                                                          ****+---------+******                                                          \n",
      "                                                **********   *| planner |***   **********                                                \n",
      "                                      **********       ****** +---------+   ******       **********                                      \n",
      "                            **********            *****             *             *****            **********                            \n",
      "                  **********                ******                  *                  ******                **********                  \n",
      "            ******                       ***                        *                        ***                       ******            \n",
      "+-----------+           +---------------------+           +-----------------+           +----------------------+           +-----------+ \n",
      "| eol_phase |******     | manufacturing_phase |           | packaging_phase |           | transportation_phase |      *****| use_phase | \n",
      "+-----------+      *****+---------------------+***        +-----------------+          *+----------------------+******     +-----------+ \n",
      "                               ************       *****             *             *****       ************                               \n",
      "                                           ******************       *       ******************                                           \n",
      "                                                       *********    *    *********                                                       \n",
      "                                                             +------------+                                                              \n",
      "                                                             | summarizer |                                                              \n",
      "                                                             +------------+                                                              \n",
      "                                                                    *                                                                    \n",
      "                                                                    *                                                                    \n",
      "                                                                    *                                                                    \n",
      "                                                              +---------+                                                                \n",
      "                                                              | __end__ |                                                                \n",
      "                                                              +---------+                                                                \n"
     ]
    }
   ],
   "source": [
    "from psycopg_pool import ConnectionPool\n",
    "from langgraph.checkpoint.postgres import PostgresSaver\n",
    "from agents.packaging import packaging_phase\n",
    "from agents.transportation import transportation_phase\n",
    "from agents.use import use_phase\n",
    "from agents.eol import eol_phase\n",
    "\n",
    "# See https://langchain-ai.github.io/langgraph/how-tos/persistence_postgres/\n",
    "DB_URI = os.environ['DB_DEV_CONNECTION']\n",
    "connection_kwargs = {\n",
    "    \"autocommit\": True,\n",
    "    \"prepare_threshold\": 0,\n",
    "}\n",
    "\n",
    "model = ChatOpenAI(model_name=\"o3\", temperature=0)\n",
    "\n",
    "# Setup the building with that state\n",
    "graph_builder = StateGraph(FootprintState)\n",
    "\n",
    "graph_builder.add_node(\"planner\", planner)\n",
    "graph_builder.add_node(\"manufacturing_phase\", manufacturing_phase)\n",
    "graph_builder.add_node(\"packaging_phase\", packaging_phase)\n",
    "graph_builder.add_node(\"transportation_phase\", transportation_phase)\n",
    "graph_builder.add_node(\"use_phase\", use_phase)\n",
    "graph_builder.add_node(\"eol_phase\", eol_phase)\n",
    "graph_builder.add_node(\"summarizer\", summarizer)\n",
    "\n",
    "graph_builder.add_edge(START, \"planner\")\n",
    "\n",
    "phases = [\"manufacturing_phase\", \"packaging_phase\", \"transportation_phase\", \"use_phase\", \"eol_phase\"]\n",
    "for phase in phases:\n",
    "    graph_builder.add_edge(\"planner\", phase)\n",
    "\n",
    "# By using a list for the first argument, the summarizer knows to wait for all\n",
    "# phases to finish before running\n",
    "graph_builder.add_edge(phases, \"summarizer\")\n",
    "graph_builder.add_edge(\"summarizer\", END)\n",
    "\n",
    "# Compile with no checkpointer just to generate the graph image\n",
    "# Mermaid is having issues...\n",
    "#from IPython.display import Image\n",
    "#Image(graph_builder.compile().get_graph().draw_mermaid_png())\n",
    "graph_builder.compile().get_graph().print_ascii()"
   ]
  },
  {
   "cell_type": "code",
   "execution_count": 22,
   "metadata": {},
   "outputs": [
    {
     "name": "stdout",
     "output_type": "stream",
     "text": [
      "Running Planner\n",
      "[{'question': 'What is the brand of the product?', 'answer': 'Apple'}, {'question': 'What is the product category?', 'answer': 'cellphone'}, {'question': 'What is a 1 sentence, factual description of the product?', 'answer': 'An Apple iPhone 15 Pro'}, {'question': \"What is the product's weight?\", 'answer': 0.17}]\n",
      "[{'kgCO2e': 100, 'description': 'This is a test description for https://www.apple.com/iphone-15-pro/', 'source': 'This is a test source'}]\n",
      "Running eol phase\n",
      "Running raw materials and manufacturing\n",
      "Brand: Apple\n",
      "Category: cellphone\n",
      "Description: An Apple iPhone 15 Pro\n",
      "Brand: Apple\n",
      "Category: cellphone\n",
      "Description: An Apple iPhone 15 Pro\n",
      "Brand: Apple\n",
      "Category: cellphone\n",
      "Description: An Apple iPhone 15 Pro\n",
      "Finished raw materials and manufacturing\n",
      "TOOL: Emissions Factor Finder cardboard production productionFinished eol phase\n",
      "\n",
      "TOOL: Emissions Factor Finder plastic production production\n",
      "TOOL: Emissions Factor Finder paper production production\n",
      "TOOL: Emissions Factor Finder electricity consumption use\n",
      "kgCO2e=1.5 units='kgCO2e per kg of cardboard' description='The carbon emissions factor for the production phase of cardboard manufacturing, which includes the energy consumption and raw material processing involved in producing one kilogram of cardboard.'\n",
      "TOOL: Emissions Factor Finder Transport, freight, sea, container ship | average transportation\n",
      "TOOL: Emissions Factor Finder Transport, freight, articulated truck | diesel | EU average transportation\n",
      "kgCO2e=1.5 units='kgCO2e per kg of paper' description='The carbon emissions factor for paper production during the production phase is estimated to be 1.5 kgCO2e per kg of paper. This includes emissions from energy consumption, chemical processing, and other related activities in the production phase.'\n",
      "kgCO2e=2.5 units='per kg of plastic' description='The carbon emissions factor for plastic production during the production phase is estimated to be 2.5 kgCO2e per kilogram of plastic. This estimate considers the energy-intensive processes involved in converting raw materials into plastic products, including polymerization, extrusion, and molding. The emissions factor can vary based on the type of plastic, the energy sources used, and the efficiency of the production process.'\n",
      "kgCO2e=0.233 units='kWh' description='The carbon emissions factor for electricity consumption during the use phase is an average value that represents the amount of carbon dioxide equivalent emissions produced per kilowatt-hour of electricity consumed. This factor can vary based on the energy mix of the electricity grid, with regions relying more on fossil fuels having higher emissions factors compared to those with a higher share of renewable energy sources.'\n",
      "kgCO2e=0.015 units='kgCO2e per tonne-kilometer' description='The carbon emissions factor for transporting freight via sea using an average container ship. This factor represents the emissions per tonne of cargo transported over one kilometer.'\n",
      "kgCO2e=0.1 units='tonne-km' description='The carbon emissions factor for transporting freight using an articulated truck powered by diesel, based on the EU average. This factor represents the emissions per tonne of goods transported over one kilometer.'\n",
      "{'messages': [HumanMessage(content='Brand: Apple\\nCategory: cellphone\\nDescription: An Apple iPhone 15 Pro', additional_kwargs={}, response_metadata={}, id='cec7a684-13bf-4940-97d3-90f6f906ce7f'), AIMessage(content=\"To estimate the carbon footprint of the use-phase of an Apple iPhone 15 Pro, we need to consider the energy consumption during its use and the emissions factor for electricity. The use-phase typically involves charging the device, so we need to know the average energy consumption for charging and the emissions factor for electricity.\\n\\nLet's proceed with the following steps:\\n\\n1. Determine the average energy consumption for charging an iPhone 15 Pro over its expected lifespan.\\n2. Find the emissions factor for electricity.\\n3. Calculate the carbon footprint using these values.\\n\\nLet's start by finding the emissions factor for electricity and then calculate the energy consumption.\", additional_kwargs={'tool_calls': [{'id': 'call_tSRn81HlfuDrr02AoCOu5yCI', 'function': {'arguments': '{\"process_desc\": \"electricity consumption\", \"phase\": \"use\"}', 'name': 'emissions_factor_finder_tool'}, 'type': 'function'}, {'id': 'call_r8JGak9bVqeXBydA61ewgVBo', 'function': {'arguments': '{\"expression\": \"5 * 365 * 3 * 0.005\"}', 'name': 'calculator'}, 'type': 'function'}], 'refusal': None}, response_metadata={'token_usage': {'completion_tokens': 193, 'prompt_tokens': 237, 'total_tokens': 430, 'completion_tokens_details': {'accepted_prediction_tokens': 0, 'audio_tokens': 0, 'reasoning_tokens': 0, 'rejected_prediction_tokens': 0}, 'prompt_tokens_details': {'audio_tokens': 0, 'cached_tokens': 0}}, 'model_name': 'gpt-4o-2024-08-06', 'system_fingerprint': 'fp_90122d973c', 'id': 'chatcmpl-BUqFqAK7gRSRrX0K5UD2Qo9Ux5ezE', 'finish_reason': 'tool_calls', 'logprobs': None}, name='use_agent', id='run-a83f0ab6-841b-4f5c-b945-aa0b782e8ab8-0', tool_calls=[{'name': 'emissions_factor_finder_tool', 'args': {'process_desc': 'electricity consumption', 'phase': 'use'}, 'id': 'call_tSRn81HlfuDrr02AoCOu5yCI', 'type': 'tool_call'}, {'name': 'calculator', 'args': {'expression': '5 * 365 * 3 * 0.005'}, 'id': 'call_r8JGak9bVqeXBydA61ewgVBo', 'type': 'tool_call'}], usage_metadata={'input_tokens': 237, 'output_tokens': 193, 'total_tokens': 430, 'input_token_details': {'audio': 0, 'cache_read': 0}, 'output_token_details': {'audio': 0, 'reasoning': 0}}), ToolMessage(content='{\"kgCO2e\": 0.233, \"units\": \"kWh\", \"description\": \"The carbon emissions factor for electricity consumption during the use phase is an average value that represents the amount of carbon dioxide equivalent emissions produced per kilowatt-hour of electricity consumed. This factor can vary based on the energy mix of the electricity grid, with regions relying more on fossil fuels having higher emissions factors compared to those with a higher share of renewable energy sources.\"}', name='emissions_factor_finder_tool', id='ac3bb04d-3309-4aac-abc0-ef46e64f64ab', tool_call_id='call_tSRn81HlfuDrr02AoCOu5yCI'), ToolMessage(content='27.375', name='calculator', id='ee716184-b016-49d1-97b7-0aa8928baa09', tool_call_id='call_r8JGak9bVqeXBydA61ewgVBo'), AIMessage(content=\"The average energy consumption for charging an iPhone 15 Pro over its expected lifespan is approximately 27.375 kWh. This is based on an assumption of charging the phone once a day for three years, with each charge consuming about 5 watt-hours (0.005 kWh).\\n\\nThe emissions factor for electricity consumption during the use phase is 0.233 kg CO2e per kWh.\\n\\nNow, let's calculate the carbon footprint of the use-phase of the iPhone 15 Pro by multiplying the total energy consumption by the emissions factor.\", additional_kwargs={'tool_calls': [{'id': 'call_njwAJGQcrxplwEmeRIQ97uOj', 'function': {'arguments': '{\"expression\":\"27.375 * 0.233\"}', 'name': 'calculator'}, 'type': 'function'}], 'refusal': None}, response_metadata={'token_usage': {'completion_tokens': 134, 'prompt_tokens': 546, 'total_tokens': 680, 'completion_tokens_details': {'accepted_prediction_tokens': 0, 'audio_tokens': 0, 'reasoning_tokens': 0, 'rejected_prediction_tokens': 0}, 'prompt_tokens_details': {'audio_tokens': 0, 'cached_tokens': 0}}, 'model_name': 'gpt-4o-2024-08-06', 'system_fingerprint': 'fp_90122d973c', 'id': 'chatcmpl-BUqFx84Q9o5iDLtlIb276XMJsyO2U', 'finish_reason': 'tool_calls', 'logprobs': None}, name='use_agent', id='run-d1813657-f16c-4b0e-8bdb-60791746c45d-0', tool_calls=[{'name': 'calculator', 'args': {'expression': '27.375 * 0.233'}, 'id': 'call_njwAJGQcrxplwEmeRIQ97uOj', 'type': 'tool_call'}], usage_metadata={'input_tokens': 546, 'output_tokens': 134, 'total_tokens': 680, 'input_token_details': {'audio': 0, 'cache_read': 0}, 'output_token_details': {'audio': 0, 'reasoning': 0}}), ToolMessage(content='6.378375', name='calculator', id='d1d33849-c905-481e-a742-b5feb2f734e2', tool_call_id='call_njwAJGQcrxplwEmeRIQ97uOj'), AIMessage(content='The estimated carbon footprint of the use-phase of an Apple iPhone 15 Pro is approximately 6.38 kg of CO2e.', additional_kwargs={'refusal': None}, response_metadata={'token_usage': {'completion_tokens': 30, 'prompt_tokens': 698, 'total_tokens': 728, 'completion_tokens_details': {'accepted_prediction_tokens': 0, 'audio_tokens': 0, 'reasoning_tokens': 0, 'rejected_prediction_tokens': 0}, 'prompt_tokens_details': {'audio_tokens': 0, 'cached_tokens': 0}}, 'model_name': 'gpt-4o-2024-08-06', 'system_fingerprint': 'fp_90122d973c', 'id': 'chatcmpl-BUqG1mZGc7kDod3VJmyN9jn9EIgvn', 'finish_reason': 'stop', 'logprobs': None}, name='use_agent', id='run-eed4a367-e09a-4a49-bba4-5946743c5d04-0', usage_metadata={'input_tokens': 698, 'output_tokens': 30, 'total_tokens': 728, 'input_token_details': {'audio': 0, 'cache_read': 0}, 'output_token_details': {'audio': 0, 'reasoning': 0}})], 'structured_response': UseResponse(carbon=6.38, summary='The use-phase LCA of an Apple iPhone 15 Pro primarily involves the energy consumed during charging over its lifespan. This phase contributes approximately 6.38 kg of CO2e, based on average electricity emissions factors and daily charging habits.')}\n",
      "{'messages': [HumanMessage(content='Brand: Apple\\nCategory: cellphone\\nDescription: An Apple iPhone 15 Pro', additional_kwargs={}, response_metadata={}, id='df85edc9-1601-4b74-9510-7b5f0cf2f4f6'), AIMessage(content=\"To estimate the carbon footprint of the packaging for the Apple iPhone 15 Pro, we need to consider the materials used in the packaging and the processes involved in its production. Typically, smartphone packaging includes materials like cardboard, paper, and possibly some plastic components.\\n\\nLet's start by identifying the emissions factors for the production of these materials. I'll look for emissions factors for cardboard, paper, and plastic production.\", additional_kwargs={'tool_calls': [{'id': 'call_SbCtCUh6I7w8Y45coCloiwsY', 'function': {'arguments': '{\"process_desc\": \"cardboard production\", \"phase\": \"production\"}', 'name': 'emissions_factor_finder_tool'}, 'type': 'function'}, {'id': 'call_WRlJGqxroyOpfyWUcQV3TDHa', 'function': {'arguments': '{\"process_desc\": \"paper production\", \"phase\": \"production\"}', 'name': 'emissions_factor_finder_tool'}, 'type': 'function'}, {'id': 'call_IvuaVz3QZaRr7CyRNeyKvATR', 'function': {'arguments': '{\"process_desc\": \"plastic production\", \"phase\": \"production\"}', 'name': 'emissions_factor_finder_tool'}, 'type': 'function'}], 'refusal': None}, response_metadata={'token_usage': {'completion_tokens': 172, 'prompt_tokens': 235, 'total_tokens': 407, 'completion_tokens_details': {'accepted_prediction_tokens': 0, 'audio_tokens': 0, 'reasoning_tokens': 0, 'rejected_prediction_tokens': 0}, 'prompt_tokens_details': {'audio_tokens': 0, 'cached_tokens': 0}}, 'model_name': 'gpt-4o-2024-08-06', 'system_fingerprint': 'fp_90122d973c', 'id': 'chatcmpl-BUqFq8vXe4aFqEyjzr6SKZgL2ZhYi', 'finish_reason': 'tool_calls', 'logprobs': None}, name='packaging_agent', id='run-5c1b9c3f-5450-4cf0-b183-12f65c7878ce-0', tool_calls=[{'name': 'emissions_factor_finder_tool', 'args': {'process_desc': 'cardboard production', 'phase': 'production'}, 'id': 'call_SbCtCUh6I7w8Y45coCloiwsY', 'type': 'tool_call'}, {'name': 'emissions_factor_finder_tool', 'args': {'process_desc': 'paper production', 'phase': 'production'}, 'id': 'call_WRlJGqxroyOpfyWUcQV3TDHa', 'type': 'tool_call'}, {'name': 'emissions_factor_finder_tool', 'args': {'process_desc': 'plastic production', 'phase': 'production'}, 'id': 'call_IvuaVz3QZaRr7CyRNeyKvATR', 'type': 'tool_call'}], usage_metadata={'input_tokens': 235, 'output_tokens': 172, 'total_tokens': 407, 'input_token_details': {'audio': 0, 'cache_read': 0}, 'output_token_details': {'audio': 0, 'reasoning': 0}}), ToolMessage(content='{\"kgCO2e\": 1.5, \"units\": \"kgCO2e per kg of cardboard\", \"description\": \"The carbon emissions factor for the production phase of cardboard manufacturing, which includes the energy consumption and raw material processing involved in producing one kilogram of cardboard.\"}', name='emissions_factor_finder_tool', id='dcb4fd59-1063-4300-b439-208fc72c5fb4', tool_call_id='call_SbCtCUh6I7w8Y45coCloiwsY'), ToolMessage(content='{\"kgCO2e\": 1.5, \"units\": \"kgCO2e per kg of paper\", \"description\": \"The carbon emissions factor for paper production during the production phase is estimated to be 1.5 kgCO2e per kg of paper. This includes emissions from energy consumption, chemical processing, and other related activities in the production phase.\"}', name='emissions_factor_finder_tool', id='9048f278-09da-47c4-a716-38c85f198d2e', tool_call_id='call_WRlJGqxroyOpfyWUcQV3TDHa'), ToolMessage(content='{\"kgCO2e\": 2.5, \"units\": \"per kg of plastic\", \"description\": \"The carbon emissions factor for plastic production during the production phase is estimated to be 2.5 kgCO2e per kilogram of plastic. This estimate considers the energy-intensive processes involved in converting raw materials into plastic products, including polymerization, extrusion, and molding. The emissions factor can vary based on the type of plastic, the energy sources used, and the efficiency of the production process.\"}', name='emissions_factor_finder_tool', id='4fe0cc3d-43bd-46a6-a062-016a3a6b52af', tool_call_id='call_IvuaVz3QZaRr7CyRNeyKvATR'), AIMessage(content=\"We have the following emissions factors for the production of packaging materials:\\n\\n- Cardboard: 1.5 kgCO2e per kg\\n- Paper: 1.5 kgCO2e per kg\\n- Plastic: 2.5 kgCO2e per kg\\n\\nNext, we need to estimate the weight of each material used in the packaging of an Apple iPhone 15 Pro. Based on typical smartphone packaging, let's assume the following reasonable estimates:\\n\\n- Cardboard: 0.2 kg\\n- Paper: 0.05 kg\\n- Plastic: 0.01 kg\\n\\nNow, let's calculate the total carbon footprint of the packaging by multiplying the weight of each material by its respective emissions factor and summing the results.\", additional_kwargs={'tool_calls': [{'id': 'call_17A7icH9vqVKOyJPVwKxB1cJ', 'function': {'arguments': '{\"expression\":\"(0.2 * 1.5) + (0.05 * 1.5) + (0.01 * 2.5)\"}', 'name': 'calculator'}, 'type': 'function'}], 'refusal': None}, response_metadata={'token_usage': {'completion_tokens': 198, 'prompt_tokens': 664, 'total_tokens': 862, 'completion_tokens_details': {'accepted_prediction_tokens': 0, 'audio_tokens': 0, 'reasoning_tokens': 0, 'rejected_prediction_tokens': 0}, 'prompt_tokens_details': {'audio_tokens': 0, 'cached_tokens': 0}}, 'model_name': 'gpt-4o-2024-08-06', 'system_fingerprint': 'fp_90122d973c', 'id': 'chatcmpl-BUqFxlviA9zRLvaE87rPaybsikxEH', 'finish_reason': 'tool_calls', 'logprobs': None}, name='packaging_agent', id='run-7a9ff3e1-c00a-46c0-a01e-e23a5fd4058e-0', tool_calls=[{'name': 'calculator', 'args': {'expression': '(0.2 * 1.5) + (0.05 * 1.5) + (0.01 * 2.5)'}, 'id': 'call_17A7icH9vqVKOyJPVwKxB1cJ', 'type': 'tool_call'}], usage_metadata={'input_tokens': 664, 'output_tokens': 198, 'total_tokens': 862, 'input_token_details': {'audio': 0, 'cache_read': 0}, 'output_token_details': {'audio': 0, 'reasoning': 0}}), ToolMessage(content='0.4000000000000001', name='calculator', id='07011760-6eb5-45c8-be35-b9af9286d26a', tool_call_id='call_17A7icH9vqVKOyJPVwKxB1cJ'), AIMessage(content='The estimated carbon footprint of the packaging for the Apple iPhone 15 Pro is approximately 0.4 kg of CO2e.', additional_kwargs={'refusal': None}, response_metadata={'token_usage': {'completion_tokens': 29, 'prompt_tokens': 886, 'total_tokens': 915, 'completion_tokens_details': {'accepted_prediction_tokens': 0, 'audio_tokens': 0, 'reasoning_tokens': 0, 'rejected_prediction_tokens': 0}, 'prompt_tokens_details': {'audio_tokens': 0, 'cached_tokens': 0}}, 'model_name': 'gpt-4o-2024-08-06', 'system_fingerprint': 'fp_90122d973c', 'id': 'chatcmpl-BUqG2p2c6B1skwac1EDq5t6KbBUqG', 'finish_reason': 'stop', 'logprobs': None}, name='packaging_agent', id='run-26506f03-3aa7-4ac3-a2db-a21741c35b9a-0', usage_metadata={'input_tokens': 886, 'output_tokens': 29, 'total_tokens': 915, 'input_token_details': {'audio': 0, 'cache_read': 0}, 'output_token_details': {'audio': 0, 'reasoning': 0}})], 'structured_response': PackagingResponse(carbon=0.4, summary='The packaging life cycle assessment (LCA) for the Apple iPhone 15 Pro involves evaluating the carbon emissions from the production of materials like cardboard, paper, and plastic. The total carbon footprint of the packaging is estimated to be 0.4 kg of CO2e, considering the weight and emissions factors of each material used.')}\n",
      "{'messages': [HumanMessage(content='Brand: Apple\\nCategory: cellphone\\nDescription: An Apple iPhone 15 Pro', additional_kwargs={}, response_metadata={}, id='cc16a36a-079f-4b86-93a6-de46c106a708'), AIMessage(content=\"To estimate the carbon footprint of transporting an Apple iPhone 15 Pro, we need to consider the following steps:\\n\\n1. Determine the transportation modes involved in the supply chain of the iPhone 15 Pro.\\n2. Find the emissions factors for each mode of transportation.\\n3. Calculate the total carbon footprint based on the distance and weight of the product.\\n\\nLet's start by identifying the typical transportation modes for an iPhone:\\n\\n- **Manufacturing Location**: iPhones are primarily manufactured in China.\\n- **Distribution**: They are then shipped globally, often by sea freight to distribution centers.\\n- **Final Delivery**: From distribution centers, they are transported by road (truck) to retail stores or directly to customers.\\n\\nNext, we need to find the emissions factors for these transportation modes:\\n\\n1. **Sea Freight**: Transport from China to the destination country.\\n2. **Road Transport by Truck**: From distribution centers to retail stores or customers.\\n\\nLet's find the emissions factors for these transportation modes.\", additional_kwargs={'tool_calls': [{'id': 'call_kqxAFJQ08XLpvunM8DTCKOO2', 'function': {'arguments': '{\"process_desc\": \"Transport, freight, sea, container ship | average\", \"phase\": \"transportation\"}', 'name': 'emissions_factor_finder_tool'}, 'type': 'function'}, {'id': 'call_4zkjX2wxiip3uG9XlA7BFM9P', 'function': {'arguments': '{\"process_desc\": \"Transport, freight, articulated truck | diesel | EU average\", \"phase\": \"transportation\"}', 'name': 'emissions_factor_finder_tool'}, 'type': 'function'}], 'refusal': None}, response_metadata={'token_usage': {'completion_tokens': 287, 'prompt_tokens': 294, 'total_tokens': 581, 'completion_tokens_details': {'accepted_prediction_tokens': 0, 'audio_tokens': 0, 'reasoning_tokens': 0, 'rejected_prediction_tokens': 0}, 'prompt_tokens_details': {'audio_tokens': 0, 'cached_tokens': 0}}, 'model_name': 'gpt-4o-2024-08-06', 'system_fingerprint': 'fp_90122d973c', 'id': 'chatcmpl-BUqFqMLCpZyedcurC76yxTMFrTvRa', 'finish_reason': 'tool_calls', 'logprobs': None}, name='transportation_agent', id='run-0b5fc3d7-dbd6-4360-9326-fd2b38ed1a58-0', tool_calls=[{'name': 'emissions_factor_finder_tool', 'args': {'process_desc': 'Transport, freight, sea, container ship | average', 'phase': 'transportation'}, 'id': 'call_kqxAFJQ08XLpvunM8DTCKOO2', 'type': 'tool_call'}, {'name': 'emissions_factor_finder_tool', 'args': {'process_desc': 'Transport, freight, articulated truck | diesel | EU average', 'phase': 'transportation'}, 'id': 'call_4zkjX2wxiip3uG9XlA7BFM9P', 'type': 'tool_call'}], usage_metadata={'input_tokens': 294, 'output_tokens': 287, 'total_tokens': 581, 'input_token_details': {'audio': 0, 'cache_read': 0}, 'output_token_details': {'audio': 0, 'reasoning': 0}}), ToolMessage(content='{\"kgCO2e\": 0.015, \"units\": \"kgCO2e per tonne-kilometer\", \"description\": \"The carbon emissions factor for transporting freight via sea using an average container ship. This factor represents the emissions per tonne of cargo transported over one kilometer.\"}', name='emissions_factor_finder_tool', id='468f28ab-19f2-46e4-96f7-617d025b43d7', tool_call_id='call_kqxAFJQ08XLpvunM8DTCKOO2'), ToolMessage(content='{\"kgCO2e\": 0.1, \"units\": \"tonne-km\", \"description\": \"The carbon emissions factor for transporting freight using an articulated truck powered by diesel, based on the EU average. This factor represents the emissions per tonne of goods transported over one kilometer.\"}', name='emissions_factor_finder_tool', id='a1782fd5-ea87-439c-9fc6-7c8172db57b3', tool_call_id='call_4zkjX2wxiip3uG9XlA7BFM9P'), AIMessage(content='', additional_kwargs={'tool_calls': [{'id': 'call_XCMBIspjYN5TgXoKR60Gnnv7', 'function': {'arguments': '{\"expression\":\"0.1 * 1000\"}', 'name': 'calculator'}, 'type': 'function'}], 'refusal': None}, response_metadata={'token_usage': {'completion_tokens': 21, 'prompt_tokens': 720, 'total_tokens': 741, 'completion_tokens_details': {'accepted_prediction_tokens': 0, 'audio_tokens': 0, 'reasoning_tokens': 0, 'rejected_prediction_tokens': 0}, 'prompt_tokens_details': {'audio_tokens': 0, 'cached_tokens': 0}}, 'model_name': 'gpt-4o-2024-08-06', 'system_fingerprint': 'fp_90122d973c', 'id': 'chatcmpl-BUqFxDBSLDrrqywSKufDmIayqcOxb', 'finish_reason': 'tool_calls', 'logprobs': None}, name='transportation_agent', id='run-538a59b1-e73b-42c1-9c42-40cf6b60fc28-0', tool_calls=[{'name': 'calculator', 'args': {'expression': '0.1 * 1000'}, 'id': 'call_XCMBIspjYN5TgXoKR60Gnnv7', 'type': 'tool_call'}], usage_metadata={'input_tokens': 720, 'output_tokens': 21, 'total_tokens': 741, 'input_token_details': {'audio': 0, 'cache_read': 0}, 'output_token_details': {'audio': 0, 'reasoning': 0}}), ToolMessage(content='100.0', name='calculator', id='273874c5-d6c4-4c4d-8320-a71df4bd7656', tool_call_id='call_XCMBIspjYN5TgXoKR60Gnnv7'), AIMessage(content=\"We have the emissions factors for the transportation modes:\\n\\n1. **Sea Freight**: 0.015 kgCO2e per tonne-kilometer\\n2. **Road Transport by Truck**: 0.1 kgCO2e per tonne-kilometer\\n\\nNow, let's make some assumptions to calculate the carbon footprint:\\n\\n- **Weight of iPhone 15 Pro**: Approximately 0.2 kg (0.0002 tonnes)\\n- **Distance by Sea**: Assume an average distance of 10,000 km from China to the destination country.\\n- **Distance by Road**: Assume an average distance of 500 km from the distribution center to the final destination.\\n\\nNow, let's calculate the carbon footprint for each mode of transportation:\\n\\n1. **Sea Freight**: \\n   \\\\[\\n   \\\\text{Carbon Footprint} = 0.015 \\\\, \\\\text{kgCO2e/tonne-km} \\\\times 0.0002 \\\\, \\\\text{tonnes} \\\\times 10,000 \\\\, \\\\text{km}\\n   \\\\]\\n\\n2. **Road Transport by Truck**: \\n   \\\\[\\n   \\\\text{Carbon Footprint} = 0.1 \\\\, \\\\text{kgCO2e/tonne-km} \\\\times 0.0002 \\\\, \\\\text{tonnes} \\\\times 500 \\\\, \\\\text{km}\\n   \\\\]\\n\\nLet's calculate these values.\", additional_kwargs={'tool_calls': [{'id': 'call_hL93oYe80oE4o9AdKYFqinjj', 'function': {'arguments': '{\"expression\": \"0.015 * 0.0002 * 10000\"}', 'name': 'calculator'}, 'type': 'function'}, {'id': 'call_TdxQ0kC2F6Wz711SKvp12YUg', 'function': {'arguments': '{\"expression\": \"0.1 * 0.0002 * 500\"}', 'name': 'calculator'}, 'type': 'function'}], 'refusal': None}, response_metadata={'token_usage': {'completion_tokens': 366, 'prompt_tokens': 754, 'total_tokens': 1120, 'completion_tokens_details': {'accepted_prediction_tokens': 0, 'audio_tokens': 0, 'reasoning_tokens': 0, 'rejected_prediction_tokens': 0}, 'prompt_tokens_details': {'audio_tokens': 0, 'cached_tokens': 0}}, 'model_name': 'gpt-4o-2024-08-06', 'system_fingerprint': 'fp_90122d973c', 'id': 'chatcmpl-BUqFyDNmHoevLHXQKiMz6aCzch1Gj', 'finish_reason': 'tool_calls', 'logprobs': None}, name='transportation_agent', id='run-0c84aa25-fe82-44ea-82cb-5c8e70d4aa5c-0', tool_calls=[{'name': 'calculator', 'args': {'expression': '0.015 * 0.0002 * 10000'}, 'id': 'call_hL93oYe80oE4o9AdKYFqinjj', 'type': 'tool_call'}, {'name': 'calculator', 'args': {'expression': '0.1 * 0.0002 * 500'}, 'id': 'call_TdxQ0kC2F6Wz711SKvp12YUg', 'type': 'tool_call'}], usage_metadata={'input_tokens': 754, 'output_tokens': 366, 'total_tokens': 1120, 'input_token_details': {'audio': 0, 'cache_read': 0}, 'output_token_details': {'audio': 0, 'reasoning': 0}}), ToolMessage(content='0.030000000000000002', name='calculator', id='8eb1689b-3b7e-4e72-8dd2-8ae891dcd93c', tool_call_id='call_hL93oYe80oE4o9AdKYFqinjj'), ToolMessage(content='0.01', name='calculator', id='0e9bd4c5-e584-43d7-8bc8-af46980e2e18', tool_call_id='call_TdxQ0kC2F6Wz711SKvp12YUg'), AIMessage(content='The estimated carbon footprint for transporting an Apple iPhone 15 Pro is as follows:\\n\\n1. **Sea Freight**: 0.03 kg CO2e\\n2. **Road Transport by Truck**: 0.01 kg CO2e\\n\\n**Total Carbon Footprint**: 0.03 kg CO2e + 0.01 kg CO2e = 0.04 kg CO2e\\n\\nTherefore, the estimated carbon footprint for the transportation of an Apple iPhone 15 Pro is approximately **0.04 kg CO2e**.', additional_kwargs={'refusal': None}, response_metadata={'token_usage': {'completion_tokens': 116, 'prompt_tokens': 1154, 'total_tokens': 1270, 'completion_tokens_details': {'accepted_prediction_tokens': 0, 'audio_tokens': 0, 'reasoning_tokens': 0, 'rejected_prediction_tokens': 0}, 'prompt_tokens_details': {'audio_tokens': 0, 'cached_tokens': 0}}, 'model_name': 'gpt-4o-2024-08-06', 'system_fingerprint': 'fp_90122d973c', 'id': 'chatcmpl-BUqG4CbzcdxiUHHgiXRgDkUWLhL0w', 'finish_reason': 'stop', 'logprobs': None}, name='transportation_agent', id='run-57f36a91-21a4-4bc3-8f1c-37a64851ed63-0', usage_metadata={'input_tokens': 1154, 'output_tokens': 116, 'total_tokens': 1270, 'input_token_details': {'audio': 0, 'cache_read': 0}, 'output_token_details': {'audio': 0, 'reasoning': 0}})], 'structured_response': TransportationResponse(carbon=0.04, summary='The transportation of an Apple iPhone 15 Pro involves sea freight from China and road transport to the final destination, resulting in an estimated carbon footprint of 0.04 kg CO2e. This calculation considers the weight of the phone and average distances traveled by each mode of transport.')}\n",
      "Running summarizer\n",
      "Finished summarizer\n"
     ]
    },
    {
     "data": {
      "text/plain": [
       "{'messages': [HumanMessage(content='This is a test message', additional_kwargs={}, response_metadata={}, id='43001420-6cc0-4267-97e9-84864efc489f'),\n",
       "  AIMessage(content='planner', additional_kwargs={}, response_metadata={}, id='203bd3fd-66ca-44cf-b046-763d13faa33c'),\n",
       "  AIMessage(content='eol', additional_kwargs={}, response_metadata={}, id='a30b0704-dfc5-4f16-ab6e-b6603260303d'),\n",
       "  AIMessage(content='manufacturing', additional_kwargs={}, response_metadata={}, id='89a0eb28-95b1-4311-9433-29599c1977d5'),\n",
       "  AIMessage(content='summarizer', additional_kwargs={}, response_metadata={}, id='37c503ce-925d-4857-8fd7-778bce4d5f62')],\n",
       " 'user_input': 'calculate the cradle to gate footprint',\n",
       " 'url': 'https://www.apple.com/iphone-15-pro/',\n",
       " 'brand': 'Apple',\n",
       " 'category': 'cellphone',\n",
       " 'description': 'An Apple iPhone 15 Pro',\n",
       " 'packaging': {'carbon': 0.4,\n",
       "  'summary': 'The packaging life cycle assessment (LCA) for the Apple iPhone 15 Pro involves evaluating the carbon emissions from the production of materials like cardboard, paper, and plastic. The total carbon footprint of the packaging is estimated to be 0.4 kg of CO2e, considering the weight and emissions factors of each material used.',\n",
       "  'messages': [HumanMessage(content='Brand: Apple\\nCategory: cellphone\\nDescription: An Apple iPhone 15 Pro', additional_kwargs={}, response_metadata={}, id='df85edc9-1601-4b74-9510-7b5f0cf2f4f6'),\n",
       "   AIMessage(content=\"To estimate the carbon footprint of the packaging for the Apple iPhone 15 Pro, we need to consider the materials used in the packaging and the processes involved in its production. Typically, smartphone packaging includes materials like cardboard, paper, and possibly some plastic components.\\n\\nLet's start by identifying the emissions factors for the production of these materials. I'll look for emissions factors for cardboard, paper, and plastic production.\", additional_kwargs={'tool_calls': [{'id': 'call_SbCtCUh6I7w8Y45coCloiwsY', 'function': {'arguments': '{\"process_desc\": \"cardboard production\", \"phase\": \"production\"}', 'name': 'emissions_factor_finder_tool'}, 'type': 'function'}, {'id': 'call_WRlJGqxroyOpfyWUcQV3TDHa', 'function': {'arguments': '{\"process_desc\": \"paper production\", \"phase\": \"production\"}', 'name': 'emissions_factor_finder_tool'}, 'type': 'function'}, {'id': 'call_IvuaVz3QZaRr7CyRNeyKvATR', 'function': {'arguments': '{\"process_desc\": \"plastic production\", \"phase\": \"production\"}', 'name': 'emissions_factor_finder_tool'}, 'type': 'function'}], 'refusal': None}, response_metadata={'token_usage': {'completion_tokens': 172, 'prompt_tokens': 235, 'total_tokens': 407, 'completion_tokens_details': {'accepted_prediction_tokens': 0, 'audio_tokens': 0, 'reasoning_tokens': 0, 'rejected_prediction_tokens': 0}, 'prompt_tokens_details': {'audio_tokens': 0, 'cached_tokens': 0}}, 'model_name': 'gpt-4o-2024-08-06', 'system_fingerprint': 'fp_90122d973c', 'id': 'chatcmpl-BUqFq8vXe4aFqEyjzr6SKZgL2ZhYi', 'finish_reason': 'tool_calls', 'logprobs': None}, name='packaging_agent', id='run-5c1b9c3f-5450-4cf0-b183-12f65c7878ce-0', tool_calls=[{'name': 'emissions_factor_finder_tool', 'args': {'process_desc': 'cardboard production', 'phase': 'production'}, 'id': 'call_SbCtCUh6I7w8Y45coCloiwsY', 'type': 'tool_call'}, {'name': 'emissions_factor_finder_tool', 'args': {'process_desc': 'paper production', 'phase': 'production'}, 'id': 'call_WRlJGqxroyOpfyWUcQV3TDHa', 'type': 'tool_call'}, {'name': 'emissions_factor_finder_tool', 'args': {'process_desc': 'plastic production', 'phase': 'production'}, 'id': 'call_IvuaVz3QZaRr7CyRNeyKvATR', 'type': 'tool_call'}], usage_metadata={'input_tokens': 235, 'output_tokens': 172, 'total_tokens': 407, 'input_token_details': {'audio': 0, 'cache_read': 0}, 'output_token_details': {'audio': 0, 'reasoning': 0}}),\n",
       "   ToolMessage(content='{\"kgCO2e\": 1.5, \"units\": \"kgCO2e per kg of cardboard\", \"description\": \"The carbon emissions factor for the production phase of cardboard manufacturing, which includes the energy consumption and raw material processing involved in producing one kilogram of cardboard.\"}', name='emissions_factor_finder_tool', id='dcb4fd59-1063-4300-b439-208fc72c5fb4', tool_call_id='call_SbCtCUh6I7w8Y45coCloiwsY'),\n",
       "   ToolMessage(content='{\"kgCO2e\": 1.5, \"units\": \"kgCO2e per kg of paper\", \"description\": \"The carbon emissions factor for paper production during the production phase is estimated to be 1.5 kgCO2e per kg of paper. This includes emissions from energy consumption, chemical processing, and other related activities in the production phase.\"}', name='emissions_factor_finder_tool', id='9048f278-09da-47c4-a716-38c85f198d2e', tool_call_id='call_WRlJGqxroyOpfyWUcQV3TDHa'),\n",
       "   ToolMessage(content='{\"kgCO2e\": 2.5, \"units\": \"per kg of plastic\", \"description\": \"The carbon emissions factor for plastic production during the production phase is estimated to be 2.5 kgCO2e per kilogram of plastic. This estimate considers the energy-intensive processes involved in converting raw materials into plastic products, including polymerization, extrusion, and molding. The emissions factor can vary based on the type of plastic, the energy sources used, and the efficiency of the production process.\"}', name='emissions_factor_finder_tool', id='4fe0cc3d-43bd-46a6-a062-016a3a6b52af', tool_call_id='call_IvuaVz3QZaRr7CyRNeyKvATR'),\n",
       "   AIMessage(content=\"We have the following emissions factors for the production of packaging materials:\\n\\n- Cardboard: 1.5 kgCO2e per kg\\n- Paper: 1.5 kgCO2e per kg\\n- Plastic: 2.5 kgCO2e per kg\\n\\nNext, we need to estimate the weight of each material used in the packaging of an Apple iPhone 15 Pro. Based on typical smartphone packaging, let's assume the following reasonable estimates:\\n\\n- Cardboard: 0.2 kg\\n- Paper: 0.05 kg\\n- Plastic: 0.01 kg\\n\\nNow, let's calculate the total carbon footprint of the packaging by multiplying the weight of each material by its respective emissions factor and summing the results.\", additional_kwargs={'tool_calls': [{'id': 'call_17A7icH9vqVKOyJPVwKxB1cJ', 'function': {'arguments': '{\"expression\":\"(0.2 * 1.5) + (0.05 * 1.5) + (0.01 * 2.5)\"}', 'name': 'calculator'}, 'type': 'function'}], 'refusal': None}, response_metadata={'token_usage': {'completion_tokens': 198, 'prompt_tokens': 664, 'total_tokens': 862, 'completion_tokens_details': {'accepted_prediction_tokens': 0, 'audio_tokens': 0, 'reasoning_tokens': 0, 'rejected_prediction_tokens': 0}, 'prompt_tokens_details': {'audio_tokens': 0, 'cached_tokens': 0}}, 'model_name': 'gpt-4o-2024-08-06', 'system_fingerprint': 'fp_90122d973c', 'id': 'chatcmpl-BUqFxlviA9zRLvaE87rPaybsikxEH', 'finish_reason': 'tool_calls', 'logprobs': None}, name='packaging_agent', id='run-7a9ff3e1-c00a-46c0-a01e-e23a5fd4058e-0', tool_calls=[{'name': 'calculator', 'args': {'expression': '(0.2 * 1.5) + (0.05 * 1.5) + (0.01 * 2.5)'}, 'id': 'call_17A7icH9vqVKOyJPVwKxB1cJ', 'type': 'tool_call'}], usage_metadata={'input_tokens': 664, 'output_tokens': 198, 'total_tokens': 862, 'input_token_details': {'audio': 0, 'cache_read': 0}, 'output_token_details': {'audio': 0, 'reasoning': 0}}),\n",
       "   ToolMessage(content='0.4000000000000001', name='calculator', id='07011760-6eb5-45c8-be35-b9af9286d26a', tool_call_id='call_17A7icH9vqVKOyJPVwKxB1cJ'),\n",
       "   AIMessage(content='The estimated carbon footprint of the packaging for the Apple iPhone 15 Pro is approximately 0.4 kg of CO2e.', additional_kwargs={'refusal': None}, response_metadata={'token_usage': {'completion_tokens': 29, 'prompt_tokens': 886, 'total_tokens': 915, 'completion_tokens_details': {'accepted_prediction_tokens': 0, 'audio_tokens': 0, 'reasoning_tokens': 0, 'rejected_prediction_tokens': 0}, 'prompt_tokens_details': {'audio_tokens': 0, 'cached_tokens': 0}}, 'model_name': 'gpt-4o-2024-08-06', 'system_fingerprint': 'fp_90122d973c', 'id': 'chatcmpl-BUqG2p2c6B1skwac1EDq5t6KbBUqG', 'finish_reason': 'stop', 'logprobs': None}, name='packaging_agent', id='run-26506f03-3aa7-4ac3-a2db-a21741c35b9a-0', usage_metadata={'input_tokens': 886, 'output_tokens': 29, 'total_tokens': 915, 'input_token_details': {'audio': 0, 'cache_read': 0}, 'output_token_details': {'audio': 0, 'reasoning': 0}})]},\n",
       " 'transportation': {'carbon': 0.04,\n",
       "  'summary': 'The transportation of an Apple iPhone 15 Pro involves sea freight from China and road transport to the final destination, resulting in an estimated carbon footprint of 0.04 kg CO2e. This calculation considers the weight of the phone and average distances traveled by each mode of transport.',\n",
       "  'messages': [HumanMessage(content='Brand: Apple\\nCategory: cellphone\\nDescription: An Apple iPhone 15 Pro', additional_kwargs={}, response_metadata={}, id='cc16a36a-079f-4b86-93a6-de46c106a708'),\n",
       "   AIMessage(content=\"To estimate the carbon footprint of transporting an Apple iPhone 15 Pro, we need to consider the following steps:\\n\\n1. Determine the transportation modes involved in the supply chain of the iPhone 15 Pro.\\n2. Find the emissions factors for each mode of transportation.\\n3. Calculate the total carbon footprint based on the distance and weight of the product.\\n\\nLet's start by identifying the typical transportation modes for an iPhone:\\n\\n- **Manufacturing Location**: iPhones are primarily manufactured in China.\\n- **Distribution**: They are then shipped globally, often by sea freight to distribution centers.\\n- **Final Delivery**: From distribution centers, they are transported by road (truck) to retail stores or directly to customers.\\n\\nNext, we need to find the emissions factors for these transportation modes:\\n\\n1. **Sea Freight**: Transport from China to the destination country.\\n2. **Road Transport by Truck**: From distribution centers to retail stores or customers.\\n\\nLet's find the emissions factors for these transportation modes.\", additional_kwargs={'tool_calls': [{'id': 'call_kqxAFJQ08XLpvunM8DTCKOO2', 'function': {'arguments': '{\"process_desc\": \"Transport, freight, sea, container ship | average\", \"phase\": \"transportation\"}', 'name': 'emissions_factor_finder_tool'}, 'type': 'function'}, {'id': 'call_4zkjX2wxiip3uG9XlA7BFM9P', 'function': {'arguments': '{\"process_desc\": \"Transport, freight, articulated truck | diesel | EU average\", \"phase\": \"transportation\"}', 'name': 'emissions_factor_finder_tool'}, 'type': 'function'}], 'refusal': None}, response_metadata={'token_usage': {'completion_tokens': 287, 'prompt_tokens': 294, 'total_tokens': 581, 'completion_tokens_details': {'accepted_prediction_tokens': 0, 'audio_tokens': 0, 'reasoning_tokens': 0, 'rejected_prediction_tokens': 0}, 'prompt_tokens_details': {'audio_tokens': 0, 'cached_tokens': 0}}, 'model_name': 'gpt-4o-2024-08-06', 'system_fingerprint': 'fp_90122d973c', 'id': 'chatcmpl-BUqFqMLCpZyedcurC76yxTMFrTvRa', 'finish_reason': 'tool_calls', 'logprobs': None}, name='transportation_agent', id='run-0b5fc3d7-dbd6-4360-9326-fd2b38ed1a58-0', tool_calls=[{'name': 'emissions_factor_finder_tool', 'args': {'process_desc': 'Transport, freight, sea, container ship | average', 'phase': 'transportation'}, 'id': 'call_kqxAFJQ08XLpvunM8DTCKOO2', 'type': 'tool_call'}, {'name': 'emissions_factor_finder_tool', 'args': {'process_desc': 'Transport, freight, articulated truck | diesel | EU average', 'phase': 'transportation'}, 'id': 'call_4zkjX2wxiip3uG9XlA7BFM9P', 'type': 'tool_call'}], usage_metadata={'input_tokens': 294, 'output_tokens': 287, 'total_tokens': 581, 'input_token_details': {'audio': 0, 'cache_read': 0}, 'output_token_details': {'audio': 0, 'reasoning': 0}}),\n",
       "   ToolMessage(content='{\"kgCO2e\": 0.015, \"units\": \"kgCO2e per tonne-kilometer\", \"description\": \"The carbon emissions factor for transporting freight via sea using an average container ship. This factor represents the emissions per tonne of cargo transported over one kilometer.\"}', name='emissions_factor_finder_tool', id='468f28ab-19f2-46e4-96f7-617d025b43d7', tool_call_id='call_kqxAFJQ08XLpvunM8DTCKOO2'),\n",
       "   ToolMessage(content='{\"kgCO2e\": 0.1, \"units\": \"tonne-km\", \"description\": \"The carbon emissions factor for transporting freight using an articulated truck powered by diesel, based on the EU average. This factor represents the emissions per tonne of goods transported over one kilometer.\"}', name='emissions_factor_finder_tool', id='a1782fd5-ea87-439c-9fc6-7c8172db57b3', tool_call_id='call_4zkjX2wxiip3uG9XlA7BFM9P'),\n",
       "   AIMessage(content='', additional_kwargs={'tool_calls': [{'id': 'call_XCMBIspjYN5TgXoKR60Gnnv7', 'function': {'arguments': '{\"expression\":\"0.1 * 1000\"}', 'name': 'calculator'}, 'type': 'function'}], 'refusal': None}, response_metadata={'token_usage': {'completion_tokens': 21, 'prompt_tokens': 720, 'total_tokens': 741, 'completion_tokens_details': {'accepted_prediction_tokens': 0, 'audio_tokens': 0, 'reasoning_tokens': 0, 'rejected_prediction_tokens': 0}, 'prompt_tokens_details': {'audio_tokens': 0, 'cached_tokens': 0}}, 'model_name': 'gpt-4o-2024-08-06', 'system_fingerprint': 'fp_90122d973c', 'id': 'chatcmpl-BUqFxDBSLDrrqywSKufDmIayqcOxb', 'finish_reason': 'tool_calls', 'logprobs': None}, name='transportation_agent', id='run-538a59b1-e73b-42c1-9c42-40cf6b60fc28-0', tool_calls=[{'name': 'calculator', 'args': {'expression': '0.1 * 1000'}, 'id': 'call_XCMBIspjYN5TgXoKR60Gnnv7', 'type': 'tool_call'}], usage_metadata={'input_tokens': 720, 'output_tokens': 21, 'total_tokens': 741, 'input_token_details': {'audio': 0, 'cache_read': 0}, 'output_token_details': {'audio': 0, 'reasoning': 0}}),\n",
       "   ToolMessage(content='100.0', name='calculator', id='273874c5-d6c4-4c4d-8320-a71df4bd7656', tool_call_id='call_XCMBIspjYN5TgXoKR60Gnnv7'),\n",
       "   AIMessage(content=\"We have the emissions factors for the transportation modes:\\n\\n1. **Sea Freight**: 0.015 kgCO2e per tonne-kilometer\\n2. **Road Transport by Truck**: 0.1 kgCO2e per tonne-kilometer\\n\\nNow, let's make some assumptions to calculate the carbon footprint:\\n\\n- **Weight of iPhone 15 Pro**: Approximately 0.2 kg (0.0002 tonnes)\\n- **Distance by Sea**: Assume an average distance of 10,000 km from China to the destination country.\\n- **Distance by Road**: Assume an average distance of 500 km from the distribution center to the final destination.\\n\\nNow, let's calculate the carbon footprint for each mode of transportation:\\n\\n1. **Sea Freight**: \\n   \\\\[\\n   \\\\text{Carbon Footprint} = 0.015 \\\\, \\\\text{kgCO2e/tonne-km} \\\\times 0.0002 \\\\, \\\\text{tonnes} \\\\times 10,000 \\\\, \\\\text{km}\\n   \\\\]\\n\\n2. **Road Transport by Truck**: \\n   \\\\[\\n   \\\\text{Carbon Footprint} = 0.1 \\\\, \\\\text{kgCO2e/tonne-km} \\\\times 0.0002 \\\\, \\\\text{tonnes} \\\\times 500 \\\\, \\\\text{km}\\n   \\\\]\\n\\nLet's calculate these values.\", additional_kwargs={'tool_calls': [{'id': 'call_hL93oYe80oE4o9AdKYFqinjj', 'function': {'arguments': '{\"expression\": \"0.015 * 0.0002 * 10000\"}', 'name': 'calculator'}, 'type': 'function'}, {'id': 'call_TdxQ0kC2F6Wz711SKvp12YUg', 'function': {'arguments': '{\"expression\": \"0.1 * 0.0002 * 500\"}', 'name': 'calculator'}, 'type': 'function'}], 'refusal': None}, response_metadata={'token_usage': {'completion_tokens': 366, 'prompt_tokens': 754, 'total_tokens': 1120, 'completion_tokens_details': {'accepted_prediction_tokens': 0, 'audio_tokens': 0, 'reasoning_tokens': 0, 'rejected_prediction_tokens': 0}, 'prompt_tokens_details': {'audio_tokens': 0, 'cached_tokens': 0}}, 'model_name': 'gpt-4o-2024-08-06', 'system_fingerprint': 'fp_90122d973c', 'id': 'chatcmpl-BUqFyDNmHoevLHXQKiMz6aCzch1Gj', 'finish_reason': 'tool_calls', 'logprobs': None}, name='transportation_agent', id='run-0c84aa25-fe82-44ea-82cb-5c8e70d4aa5c-0', tool_calls=[{'name': 'calculator', 'args': {'expression': '0.015 * 0.0002 * 10000'}, 'id': 'call_hL93oYe80oE4o9AdKYFqinjj', 'type': 'tool_call'}, {'name': 'calculator', 'args': {'expression': '0.1 * 0.0002 * 500'}, 'id': 'call_TdxQ0kC2F6Wz711SKvp12YUg', 'type': 'tool_call'}], usage_metadata={'input_tokens': 754, 'output_tokens': 366, 'total_tokens': 1120, 'input_token_details': {'audio': 0, 'cache_read': 0}, 'output_token_details': {'audio': 0, 'reasoning': 0}}),\n",
       "   ToolMessage(content='0.030000000000000002', name='calculator', id='8eb1689b-3b7e-4e72-8dd2-8ae891dcd93c', tool_call_id='call_hL93oYe80oE4o9AdKYFqinjj'),\n",
       "   ToolMessage(content='0.01', name='calculator', id='0e9bd4c5-e584-43d7-8bc8-af46980e2e18', tool_call_id='call_TdxQ0kC2F6Wz711SKvp12YUg'),\n",
       "   AIMessage(content='The estimated carbon footprint for transporting an Apple iPhone 15 Pro is as follows:\\n\\n1. **Sea Freight**: 0.03 kg CO2e\\n2. **Road Transport by Truck**: 0.01 kg CO2e\\n\\n**Total Carbon Footprint**: 0.03 kg CO2e + 0.01 kg CO2e = 0.04 kg CO2e\\n\\nTherefore, the estimated carbon footprint for the transportation of an Apple iPhone 15 Pro is approximately **0.04 kg CO2e**.', additional_kwargs={'refusal': None}, response_metadata={'token_usage': {'completion_tokens': 116, 'prompt_tokens': 1154, 'total_tokens': 1270, 'completion_tokens_details': {'accepted_prediction_tokens': 0, 'audio_tokens': 0, 'reasoning_tokens': 0, 'rejected_prediction_tokens': 0}, 'prompt_tokens_details': {'audio_tokens': 0, 'cached_tokens': 0}}, 'model_name': 'gpt-4o-2024-08-06', 'system_fingerprint': 'fp_90122d973c', 'id': 'chatcmpl-BUqG4CbzcdxiUHHgiXRgDkUWLhL0w', 'finish_reason': 'stop', 'logprobs': None}, name='transportation_agent', id='run-57f36a91-21a4-4bc3-8f1c-37a64851ed63-0', usage_metadata={'input_tokens': 1154, 'output_tokens': 116, 'total_tokens': 1270, 'input_token_details': {'audio': 0, 'cache_read': 0}, 'output_token_details': {'audio': 0, 'reasoning': 0}})]},\n",
       " 'use': {'carbon': 6.38,\n",
       "  'summary': 'The use-phase LCA of an Apple iPhone 15 Pro primarily involves the energy consumed during charging over its lifespan. This phase contributes approximately 6.38 kg of CO2e, based on average electricity emissions factors and daily charging habits.',\n",
       "  'messages': [HumanMessage(content='Brand: Apple\\nCategory: cellphone\\nDescription: An Apple iPhone 15 Pro', additional_kwargs={}, response_metadata={}, id='cec7a684-13bf-4940-97d3-90f6f906ce7f'),\n",
       "   AIMessage(content=\"To estimate the carbon footprint of the use-phase of an Apple iPhone 15 Pro, we need to consider the energy consumption during its use and the emissions factor for electricity. The use-phase typically involves charging the device, so we need to know the average energy consumption for charging and the emissions factor for electricity.\\n\\nLet's proceed with the following steps:\\n\\n1. Determine the average energy consumption for charging an iPhone 15 Pro over its expected lifespan.\\n2. Find the emissions factor for electricity.\\n3. Calculate the carbon footprint using these values.\\n\\nLet's start by finding the emissions factor for electricity and then calculate the energy consumption.\", additional_kwargs={'tool_calls': [{'id': 'call_tSRn81HlfuDrr02AoCOu5yCI', 'function': {'arguments': '{\"process_desc\": \"electricity consumption\", \"phase\": \"use\"}', 'name': 'emissions_factor_finder_tool'}, 'type': 'function'}, {'id': 'call_r8JGak9bVqeXBydA61ewgVBo', 'function': {'arguments': '{\"expression\": \"5 * 365 * 3 * 0.005\"}', 'name': 'calculator'}, 'type': 'function'}], 'refusal': None}, response_metadata={'token_usage': {'completion_tokens': 193, 'prompt_tokens': 237, 'total_tokens': 430, 'completion_tokens_details': {'accepted_prediction_tokens': 0, 'audio_tokens': 0, 'reasoning_tokens': 0, 'rejected_prediction_tokens': 0}, 'prompt_tokens_details': {'audio_tokens': 0, 'cached_tokens': 0}}, 'model_name': 'gpt-4o-2024-08-06', 'system_fingerprint': 'fp_90122d973c', 'id': 'chatcmpl-BUqFqAK7gRSRrX0K5UD2Qo9Ux5ezE', 'finish_reason': 'tool_calls', 'logprobs': None}, name='use_agent', id='run-a83f0ab6-841b-4f5c-b945-aa0b782e8ab8-0', tool_calls=[{'name': 'emissions_factor_finder_tool', 'args': {'process_desc': 'electricity consumption', 'phase': 'use'}, 'id': 'call_tSRn81HlfuDrr02AoCOu5yCI', 'type': 'tool_call'}, {'name': 'calculator', 'args': {'expression': '5 * 365 * 3 * 0.005'}, 'id': 'call_r8JGak9bVqeXBydA61ewgVBo', 'type': 'tool_call'}], usage_metadata={'input_tokens': 237, 'output_tokens': 193, 'total_tokens': 430, 'input_token_details': {'audio': 0, 'cache_read': 0}, 'output_token_details': {'audio': 0, 'reasoning': 0}}),\n",
       "   ToolMessage(content='{\"kgCO2e\": 0.233, \"units\": \"kWh\", \"description\": \"The carbon emissions factor for electricity consumption during the use phase is an average value that represents the amount of carbon dioxide equivalent emissions produced per kilowatt-hour of electricity consumed. This factor can vary based on the energy mix of the electricity grid, with regions relying more on fossil fuels having higher emissions factors compared to those with a higher share of renewable energy sources.\"}', name='emissions_factor_finder_tool', id='ac3bb04d-3309-4aac-abc0-ef46e64f64ab', tool_call_id='call_tSRn81HlfuDrr02AoCOu5yCI'),\n",
       "   ToolMessage(content='27.375', name='calculator', id='ee716184-b016-49d1-97b7-0aa8928baa09', tool_call_id='call_r8JGak9bVqeXBydA61ewgVBo'),\n",
       "   AIMessage(content=\"The average energy consumption for charging an iPhone 15 Pro over its expected lifespan is approximately 27.375 kWh. This is based on an assumption of charging the phone once a day for three years, with each charge consuming about 5 watt-hours (0.005 kWh).\\n\\nThe emissions factor for electricity consumption during the use phase is 0.233 kg CO2e per kWh.\\n\\nNow, let's calculate the carbon footprint of the use-phase of the iPhone 15 Pro by multiplying the total energy consumption by the emissions factor.\", additional_kwargs={'tool_calls': [{'id': 'call_njwAJGQcrxplwEmeRIQ97uOj', 'function': {'arguments': '{\"expression\":\"27.375 * 0.233\"}', 'name': 'calculator'}, 'type': 'function'}], 'refusal': None}, response_metadata={'token_usage': {'completion_tokens': 134, 'prompt_tokens': 546, 'total_tokens': 680, 'completion_tokens_details': {'accepted_prediction_tokens': 0, 'audio_tokens': 0, 'reasoning_tokens': 0, 'rejected_prediction_tokens': 0}, 'prompt_tokens_details': {'audio_tokens': 0, 'cached_tokens': 0}}, 'model_name': 'gpt-4o-2024-08-06', 'system_fingerprint': 'fp_90122d973c', 'id': 'chatcmpl-BUqFx84Q9o5iDLtlIb276XMJsyO2U', 'finish_reason': 'tool_calls', 'logprobs': None}, name='use_agent', id='run-d1813657-f16c-4b0e-8bdb-60791746c45d-0', tool_calls=[{'name': 'calculator', 'args': {'expression': '27.375 * 0.233'}, 'id': 'call_njwAJGQcrxplwEmeRIQ97uOj', 'type': 'tool_call'}], usage_metadata={'input_tokens': 546, 'output_tokens': 134, 'total_tokens': 680, 'input_token_details': {'audio': 0, 'cache_read': 0}, 'output_token_details': {'audio': 0, 'reasoning': 0}}),\n",
       "   ToolMessage(content='6.378375', name='calculator', id='d1d33849-c905-481e-a742-b5feb2f734e2', tool_call_id='call_njwAJGQcrxplwEmeRIQ97uOj'),\n",
       "   AIMessage(content='The estimated carbon footprint of the use-phase of an Apple iPhone 15 Pro is approximately 6.38 kg of CO2e.', additional_kwargs={'refusal': None}, response_metadata={'token_usage': {'completion_tokens': 30, 'prompt_tokens': 698, 'total_tokens': 728, 'completion_tokens_details': {'accepted_prediction_tokens': 0, 'audio_tokens': 0, 'reasoning_tokens': 0, 'rejected_prediction_tokens': 0}, 'prompt_tokens_details': {'audio_tokens': 0, 'cached_tokens': 0}}, 'model_name': 'gpt-4o-2024-08-06', 'system_fingerprint': 'fp_90122d973c', 'id': 'chatcmpl-BUqG1mZGc7kDod3VJmyN9jn9EIgvn', 'finish_reason': 'stop', 'logprobs': None}, name='use_agent', id='run-eed4a367-e09a-4a49-bba4-5946743c5d04-0', usage_metadata={'input_tokens': 698, 'output_tokens': 30, 'total_tokens': 728, 'input_token_details': {'audio': 0, 'cache_read': 0}, 'output_token_details': {'audio': 0, 'reasoning': 0}})]}}"
      ]
     },
     "metadata": {},
     "output_type": "display_data"
    },
    {
     "name": "stdout",
     "output_type": "stream",
     "text": [
      "{'v': 3, 'id': '1f02b96c-a584-6778-8004-0b59359f0524', 'ts': '2025-05-07T22:58:28.835718+00:00', 'pending_sends': [], 'versions_seen': {'planner': {'branch:to:planner': '00000000000000000000000000000005.0.34834677744730924'}, '__input__': {}, '__start__': {'__start__': '00000000000000000000000000000004.0.5729936017661038'}}, 'channel_versions': {'messages': '00000000000000000000000000000006.0.9299760233956084', '__start__': '00000000000000000000000000000005.0.7149045235491153', 'branch:to:planner': '00000000000000000000000000000006.0.3830701059922407'}, 'channel_values': {'messages': [HumanMessage(content='This is a test message', additional_kwargs={}, response_metadata={}, id='d41082d2-ad51-41de-a398-0e7e12054599'), AIMessage(content='planner', additional_kwargs={}, response_metadata={}, id='63564d66-ec4b-47bd-9db3-c922bbaaaaba'), HumanMessage(content='This is a test message', additional_kwargs={}, response_metadata={}, id='c77b5682-c6d2-465a-9bcb-468fbd54b537'), AIMessage(content='planner', additional_kwargs={}, response_metadata={}, id='511991d9-e36e-4744-bfa9-f5c04cfbf546')]}}\n"
     ]
    }
   ],
   "source": [
    "config = {\"configurable\": {\"thread_id\": \"10\"}}\n",
    "with ConnectionPool(\n",
    "    conninfo=DB_URI,\n",
    "    max_size=20,\n",
    "    kwargs=connection_kwargs,\n",
    ") as pool:\n",
    "    checkpointer = PostgresSaver(pool)\n",
    "\n",
    "    #graph = graph_builder.compile(checkpointer=checkpointer)\n",
    "    # For testing, start over each time and don't use a checkpointer\n",
    "    graph = graph_builder.compile()\n",
    "    res = graph.invoke({\n",
    "        \"user_input\": \"calculate the cradle to gate footprint\",\n",
    "        \"url\": \"https://www.apple.com/iphone-15-pro/\",\n",
    "        \"messages\": [(\"human\", \"This is a test message\")]\n",
    "        # \"brand\": \"Apple\", \n",
    "        # \"category\": \"cellphone\", \n",
    "        # \"description\": \"An iPhone 15\"\n",
    "    }, config)\n",
    "    checkpoint = checkpointer.get(config)\n",
    "\n",
    "display(res)\n",
    "print(checkpoint)"
   ]
  },
  {
   "cell_type": "markdown",
   "metadata": {},
   "source": [
    "# Testing"
   ]
  },
  {
   "cell_type": "code",
   "execution_count": 23,
   "metadata": {},
   "outputs": [
    {
     "name": "stdout",
     "output_type": "stream",
     "text": [
      "TOOL: Emissions Factor Finder recycling of cellphone end-of-life\n",
      "TOOL: Emissions Factor Finder disposal of cellphone end-of-life\n",
      "TOOL: Emissions Factor Finder transportation of cellphone end-of-life\n",
      "kgCO2e=0.5 units='per cellphone' description='The carbon emissions factor for the disposal of a cellphone at its end-of-life phase, considering typical recycling and waste management processes.'\n",
      "kgCO2e=0.5 units='per kg' description='The carbon emissions factor for the transportation of a cellphone during its end-of-life phase, which includes the collection and transportation to recycling or disposal facilities.'\n",
      "kgCO2e=0.5 units='per cellphone' description='The carbon emissions factor for recycling a cellphone at its end-of-life phase. This estimate considers the energy and resources required to disassemble, process, and recycle the materials in a typical cellphone.'\n"
     ]
    },
    {
     "data": {
      "text/plain": [
       "{'eol': {'carbon': 1.1,\n",
       "  'summary': 'The end-of-life phase of an iPhone 15 involves recycling, disposal, and transportation, resulting in a carbon footprint of approximately 1.1 kg CO2e. This estimate considers the emissions from processing, waste management, and logistics.',\n",
       "  'messages': [HumanMessage(content='Brand: Apple\\nCategory: cellphone\\nDescription: An iPhone 15', additional_kwargs={}, response_metadata={}, id='bc5f7634-b64b-40ad-a6c4-70f452e4ee78'),\n",
       "   AIMessage(content=\"To estimate the carbon footprint of the end-of-life phase for an iPhone 15, we need to consider the processes involved in this phase, such as recycling, disposal, and transportation. Let's start by finding the emissions factors for these processes. \\n\\nI'll look for emissions factors for the following processes related to the end-of-life phase of a cellphone:\\n\\n1. Recycling\\n2. Disposal\\n3. Transportation\\n\\nLet's proceed with finding these emissions factors.\", additional_kwargs={'tool_calls': [{'id': 'call_4j9WGzuOaGCbRc0tiTsWg1FG', 'function': {'arguments': '{\"process_desc\": \"recycling of cellphone\", \"phase\": \"end-of-life\"}', 'name': 'emissions_factor_finder_tool'}, 'type': 'function'}, {'id': 'call_NwZrryI0hLWmjbZr7lLwW5Z4', 'function': {'arguments': '{\"process_desc\": \"disposal of cellphone\", \"phase\": \"end-of-life\"}', 'name': 'emissions_factor_finder_tool'}, 'type': 'function'}, {'id': 'call_JFLwFSWqpSkT3Zau4bErCgk0', 'function': {'arguments': '{\"process_desc\": \"transportation of cellphone\", \"phase\": \"end-of-life\"}', 'name': 'emissions_factor_finder_tool'}, 'type': 'function'}], 'refusal': None}, response_metadata={'token_usage': {'completion_tokens': 193, 'prompt_tokens': 235, 'total_tokens': 428, 'completion_tokens_details': {'accepted_prediction_tokens': 0, 'audio_tokens': 0, 'reasoning_tokens': 0, 'rejected_prediction_tokens': 0}, 'prompt_tokens_details': {'audio_tokens': 0, 'cached_tokens': 0}}, 'model_name': 'gpt-4o-2024-08-06', 'system_fingerprint': 'fp_90122d973c', 'id': 'chatcmpl-BUqJONmthsCtDlcxnfCmuex78kViA', 'finish_reason': 'tool_calls', 'logprobs': None}, name='eol_agent', id='run-fd5043fe-c129-4fc8-8e8f-456542e23294-0', tool_calls=[{'name': 'emissions_factor_finder_tool', 'args': {'process_desc': 'recycling of cellphone', 'phase': 'end-of-life'}, 'id': 'call_4j9WGzuOaGCbRc0tiTsWg1FG', 'type': 'tool_call'}, {'name': 'emissions_factor_finder_tool', 'args': {'process_desc': 'disposal of cellphone', 'phase': 'end-of-life'}, 'id': 'call_NwZrryI0hLWmjbZr7lLwW5Z4', 'type': 'tool_call'}, {'name': 'emissions_factor_finder_tool', 'args': {'process_desc': 'transportation of cellphone', 'phase': 'end-of-life'}, 'id': 'call_JFLwFSWqpSkT3Zau4bErCgk0', 'type': 'tool_call'}], usage_metadata={'input_tokens': 235, 'output_tokens': 193, 'total_tokens': 428, 'input_token_details': {'audio': 0, 'cache_read': 0}, 'output_token_details': {'audio': 0, 'reasoning': 0}}),\n",
       "   ToolMessage(content='{\"kgCO2e\": 0.5, \"units\": \"per cellphone\", \"description\": \"The carbon emissions factor for recycling a cellphone at its end-of-life phase. This estimate considers the energy and resources required to disassemble, process, and recycle the materials in a typical cellphone.\"}', name='emissions_factor_finder_tool', id='0057b57d-36a9-4a43-9dd5-5bf64eb41d80', tool_call_id='call_4j9WGzuOaGCbRc0tiTsWg1FG'),\n",
       "   ToolMessage(content='{\"kgCO2e\": 0.5, \"units\": \"per cellphone\", \"description\": \"The carbon emissions factor for the disposal of a cellphone at its end-of-life phase, considering typical recycling and waste management processes.\"}', name='emissions_factor_finder_tool', id='1581faa3-f8e0-4b9f-a8d4-5a30c99019df', tool_call_id='call_NwZrryI0hLWmjbZr7lLwW5Z4'),\n",
       "   ToolMessage(content='{\"kgCO2e\": 0.5, \"units\": \"per kg\", \"description\": \"The carbon emissions factor for the transportation of a cellphone during its end-of-life phase, which includes the collection and transportation to recycling or disposal facilities.\"}', name='emissions_factor_finder_tool', id='23c3c5c8-6248-4a88-9759-a926f82743da', tool_call_id='call_JFLwFSWqpSkT3Zau4bErCgk0'),\n",
       "   AIMessage(content=\"We have obtained the following emissions factors for the end-of-life phase of an iPhone 15:\\n\\n1. **Recycling**: 0.5 kg CO2e per cellphone\\n2. **Disposal**: 0.5 kg CO2e per cellphone\\n3. **Transportation**: 0.5 kg CO2e per kg\\n\\nTo estimate the total carbon footprint, we need to consider the weight of the iPhone 15 for the transportation emissions. Let's assume the weight of an iPhone 15 is approximately 0.2 kg (200 grams).\\n\\nNow, let's calculate the total carbon footprint for the end-of-life phase:\\n\\n- Recycling: 0.5 kg CO2e\\n- Disposal: 0.5 kg CO2e\\n- Transportation: 0.5 kg CO2e/kg * 0.2 kg\\n\\nLet's calculate the total emissions.\", additional_kwargs={'tool_calls': [{'id': 'call_U3Icw4smqNWqCpIlKpwFQ5qb', 'function': {'arguments': '{\"expression\":\"0.5 + 0.5 + (0.5 * 0.2)\"}', 'name': 'calculator'}, 'type': 'function'}], 'refusal': None}, response_metadata={'token_usage': {'completion_tokens': 217, 'prompt_tokens': 607, 'total_tokens': 824, 'completion_tokens_details': {'accepted_prediction_tokens': 0, 'audio_tokens': 0, 'reasoning_tokens': 0, 'rejected_prediction_tokens': 0}, 'prompt_tokens_details': {'audio_tokens': 0, 'cached_tokens': 0}}, 'model_name': 'gpt-4o-2024-08-06', 'system_fingerprint': 'fp_90122d973c', 'id': 'chatcmpl-BUqJTdNerbCobzUBQinrPk5lJFUVh', 'finish_reason': 'tool_calls', 'logprobs': None}, name='eol_agent', id='run-22eb2f46-ce8e-41a7-b160-9e239dba4d64-0', tool_calls=[{'name': 'calculator', 'args': {'expression': '0.5 + 0.5 + (0.5 * 0.2)'}, 'id': 'call_U3Icw4smqNWqCpIlKpwFQ5qb', 'type': 'tool_call'}], usage_metadata={'input_tokens': 607, 'output_tokens': 217, 'total_tokens': 824, 'input_token_details': {'audio': 0, 'cache_read': 0}, 'output_token_details': {'audio': 0, 'reasoning': 0}}),\n",
       "   ToolMessage(content='1.1', name='calculator', id='7febbd67-a2b4-4bd5-a17b-f4a6b927e734', tool_call_id='call_U3Icw4smqNWqCpIlKpwFQ5qb'),\n",
       "   AIMessage(content='The estimated carbon footprint for the end-of-life phase of an iPhone 15 is approximately **1.1 kg CO2e**.', additional_kwargs={'refusal': None}, response_metadata={'token_usage': {'completion_tokens': 30, 'prompt_tokens': 841, 'total_tokens': 871, 'completion_tokens_details': {'accepted_prediction_tokens': 0, 'audio_tokens': 0, 'reasoning_tokens': 0, 'rejected_prediction_tokens': 0}, 'prompt_tokens_details': {'audio_tokens': 0, 'cached_tokens': 0}}, 'model_name': 'gpt-4o-2024-08-06', 'system_fingerprint': 'fp_90122d973c', 'id': 'chatcmpl-BUqJWqF36DmB9IK6dyRgM4PmVcUi6', 'finish_reason': 'stop', 'logprobs': None}, name='eol_agent', id='run-d1a86c84-a1b0-4d8a-b571-3f27bb1c80c8-0', usage_metadata={'input_tokens': 841, 'output_tokens': 30, 'total_tokens': 871, 'input_token_details': {'audio': 0, 'cache_read': 0}, 'output_token_details': {'audio': 0, 'reasoning': 0}})]}}"
      ]
     },
     "execution_count": 23,
     "metadata": {},
     "output_type": "execute_result"
    }
   ],
   "source": [
    "from agents.transportation import transportation_phase\n",
    "from agents.use import use_phase\n",
    "from agents.eol import eol_phase\n",
    "#transportation_phase({\"brand\": \"Apple\", \"category\": \"cellphone\", \"description\": \"An iPhone 15\"})\n",
    "#use_phase({\"brand\": \"Apple\", \"category\": \"cellphone\", \"description\": \"An iPhone 15\"})\n",
    "eol_phase({\"brand\": \"Apple\", \"category\": \"cellphone\", \"description\": \"An iPhone 15\"})"
   ]
  }
 ],
 "metadata": {
  "kernelspec": {
   "display_name": ".venv",
   "language": "python",
   "name": "python3"
  },
  "language_info": {
   "codemirror_mode": {
    "name": "ipython",
    "version": 3
   },
   "file_extension": ".py",
   "mimetype": "text/x-python",
   "name": "python",
   "nbconvert_exporter": "python",
   "pygments_lexer": "ipython3",
   "version": "3.11.6"
  }
 },
 "nbformat": 4,
 "nbformat_minor": 2
}
