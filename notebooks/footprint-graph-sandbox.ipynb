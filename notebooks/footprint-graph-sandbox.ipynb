{
 "cells": [
  {
   "cell_type": "markdown",
   "metadata": {},
   "source": [
    "# Graph that calculates the footprint\n",
    "\n",
    "Let's start by having all agents share the same state. We're going to have the following nodes\n",
    "\n",
    "* Planner\n",
    "* Manufacturing\n",
    "* Raw materials\n",
    "* Packaging\n",
    "* Transportation\n",
    "* Use phase\n",
    "* End of life\n"
   ]
  },
  {
   "cell_type": "code",
   "execution_count": 1,
   "metadata": {},
   "outputs": [],
   "source": [
    "%load_ext autoreload\n",
    "%autoreload 2\n",
    "\n",
    "from dotenv import load_dotenv\n",
    "from time import sleep\n",
    "import os\n",
    "\n",
    "while 'requirements.txt' not in os.listdir():\n",
    "    os.chdir('..')\n",
    "\n",
    "# Load environment variables from .env.local file\n",
    "load_dotenv(dotenv_path='.env.local')\n",
    "\n",
    "# Update with your name to group your own traces\n",
    "os.environ['LANGCHAIN_PROJECT'] = 'steve-fap-sandbox'"
   ]
  },
  {
   "cell_type": "code",
   "execution_count": 2,
   "metadata": {},
   "outputs": [],
   "source": [
    "from typing import Annotated, TypedDict\n",
    "from langgraph.graph import StateGraph, START, END\n",
    "from langgraph.graph.message import add_messages\n",
    "from pydantic import Field, BaseModel\n",
    "from langchain_openai import ChatOpenAI\n",
    "from state import FootprintState"
   ]
  },
  {
   "cell_type": "markdown",
   "metadata": {},
   "source": [
    "# Tools"
   ]
  },
  {
   "cell_type": "markdown",
   "metadata": {},
   "source": [
    "## Page Analyzer"
   ]
  },
  {
   "cell_type": "code",
   "execution_count": 3,
   "metadata": {},
   "outputs": [],
   "source": [
    "from langchain_core.tools import tool\n",
    "\n",
    "def page_analyzer(url: str, questions: list[str]) -> list:\n",
    "    # If the url has not been crawled, crawl and cache it\n",
    "    # {\"brand\": \"Apple\", \"category\": \"cellphone\", \"description\": \"An iPhone 15\"}\n",
    "    answers = []\n",
    "    for question in questions:\n",
    "        if \"packaging\" in question:\n",
    "            answers.append({\"question\":question, \"answer\":\"A cardboard box\"})\n",
    "        elif \"brand\" in question:\n",
    "            answers.append({\"question\":question, \"answer\":\"Apple\"})\n",
    "        elif \"category\" in question:\n",
    "            answers.append({\"question\":question, \"answer\":\"cellphone\"})\n",
    "        elif \"description\" in question:\n",
    "            answers.append({\"question\":question, \"answer\":\"An Apple iPhone 15 Pro\"})\n",
    "        elif \"weight\" in question:\n",
    "            answers.append({\"question\":question, \"answer\":0.17})\n",
    "        else:\n",
    "            answers.append({\"question\":question, \"answer\":f\"not found\"})\n",
    "    return answers\n",
    "\n",
    "@tool\n",
    "def page_analyzer_tool(url: str, questions: list[str]) -> list:\n",
    "    \"\"\"Given a list of questions about a product described at url, returns a\n",
    "    list of question and answer pairs. If an answer for a question cannot be\n",
    "    found, it will be \"not found\".\"\"\"\n",
    "    return page_analyzer(url, questions)\n"
   ]
  },
  {
   "cell_type": "markdown",
   "metadata": {},
   "source": [
    "## Material Estimator"
   ]
  },
  {
   "cell_type": "code",
   "execution_count": 4,
   "metadata": {},
   "outputs": [],
   "source": [
    "def material_estimator(url: str) -> float:\n",
    "    return [{\n",
    "        \"kgCO2e\": 100,\n",
    "        \"description\": f\"This is a test description for {url}\",\n",
    "        \"source\": \"This is a test source\"\n",
    "    }]\n",
    "\n",
    "@tool\n",
    "def material_estimator_tool(url) -> float:\n",
    "    \"\"\"For a given product url, returns a list of materials in the product.\"\"\"\n",
    "    return material_estimator(url)\n",
    "\n",
    "#material_estimator(\"6.12 inch LCD display for a cell phone\", \"manufacturing\")"
   ]
  },
  {
   "cell_type": "markdown",
   "metadata": {},
   "source": [
    "# Agents"
   ]
  },
  {
   "cell_type": "markdown",
   "metadata": {},
   "source": [
    "## Planner"
   ]
  },
  {
   "cell_type": "code",
   "execution_count": 5,
   "metadata": {},
   "outputs": [
    {
     "name": "stdout",
     "output_type": "stream",
     "text": [
      "Running Planner\n",
      "[{'question': 'What is the brand of the product?', 'answer': 'Apple'}, {'question': 'What is the product category?', 'answer': 'cellphone'}, {'question': 'What is a 1 sentence, factual description of the product?', 'answer': 'An Apple iPhone 15 Pro'}, {'question': \"What is the product's weight?\", 'answer': 0.17}]\n",
      "[{'kgCO2e': 100, 'description': 'This is a test description for https://www.apple.com/iphone-15-pro/', 'source': 'This is a test source'}]\n"
     ]
    },
    {
     "data": {
      "text/plain": [
       "{'messages': [{'role': 'ai', 'content': 'planner'}],\n",
       " 'brand': 'Apple',\n",
       " 'category': 'cellphone',\n",
       " 'description': 'An Apple iPhone 15 Pro'}"
      ]
     },
     "execution_count": 5,
     "metadata": {},
     "output_type": "execute_result"
    }
   ],
   "source": [
    "from langchain_openai.chat_models import ChatOpenAI\n",
    "from langgraph.prebuilt import create_react_agent\n",
    "\n",
    "# The planner orchestrates the work\n",
    "def planner(state: FootprintState):\n",
    "    print('Running Planner')\n",
    "\n",
    "    starting_questions = [\n",
    "        \"What is the brand of the product?\",\n",
    "        \"What is the product category?\",\n",
    "        \"What is a 1 sentence, factual description of the product?\",\n",
    "        \"What is the product's weight?\"\n",
    "    ]\n",
    "    \n",
    "    # Call the page analyzer directly to get the high level product details\n",
    "    high_level_product_details = page_analyzer(state[\"url\"], starting_questions)\n",
    "    print(high_level_product_details)\n",
    "    materials = material_estimator(state[\"url\"])\n",
    "    print(materials)\n",
    "    \n",
    "    return {\n",
    "        \"messages\": [{\"role\": \"ai\", \"content\": \"planner\"}],\n",
    "        \"brand\": high_level_product_details[0][\"answer\"],\n",
    "        \"category\": high_level_product_details[1][\"answer\"],\n",
    "        \"description\": high_level_product_details[2][\"answer\"],\n",
    "    }\n",
    "\n",
    "planner({\"url\": \"https://www.apple.com/iphone-15-pro/\"})"
   ]
  },
  {
   "cell_type": "markdown",
   "metadata": {},
   "source": [
    "## Manufacturing"
   ]
  },
  {
   "cell_type": "code",
   "execution_count": 6,
   "metadata": {},
   "outputs": [],
   "source": [
    "# The maufacturing agent estimates the footprint of assembling the product\n",
    "def manufacturing_phase(state: FootprintState):\n",
    "    print('Running raw materials and manufacturing')\n",
    "    sleep(4)\n",
    "    print('Finished raw materials and manufacturing')\n",
    "    return {\"messages\": [{\"role\": \"ai\", \"content\": \"manufacturing\"}]}"
   ]
  },
  {
   "cell_type": "markdown",
   "metadata": {},
   "source": [
    "## Summarizer"
   ]
  },
  {
   "cell_type": "code",
   "execution_count": 7,
   "metadata": {},
   "outputs": [],
   "source": [
    "def summarizer(state: FootprintState):\n",
    "    print('Running summarizer')\n",
    "    sleep(3)\n",
    "    print('Finished summarizer')\n",
    "    return {\"messages\": [{\"role\": \"ai\", \"content\": \"summarizer\"}]}\n"
   ]
  },
  {
   "cell_type": "markdown",
   "metadata": {},
   "source": [
    "# Assemble the Analysis Graph"
   ]
  },
  {
   "cell_type": "code",
   "execution_count": 8,
   "metadata": {},
   "outputs": [
    {
     "name": "stdout",
     "output_type": "stream",
     "text": [
      "                                                              +-----------+                                                              \n",
      "                                                              | __start__ |                                                              \n",
      "                                                              +-----------+                                                              \n",
      "                                                                    *                                                                    \n",
      "                                                                    *                                                                    \n",
      "                                                                    *                                                                    \n",
      "                                                          ****+---------+******                                                          \n",
      "                                                **********   *| planner |***   **********                                                \n",
      "                                      **********       ****** +---------+   ******       **********                                      \n",
      "                            **********            *****             *             *****            **********                            \n",
      "                  **********                ******                  *                  ******                **********                  \n",
      "            ******                       ***                        *                        ***                       ******            \n",
      "+-----------+           +---------------------+           +-----------------+           +----------------------+           +-----------+ \n",
      "| eol_phase |******     | manufacturing_phase |           | packaging_phase |           | transportation_phase |      *****| use_phase | \n",
      "+-----------+      *****+---------------------+***        +-----------------+          *+----------------------+******     +-----------+ \n",
      "                               ************       *****             *             *****       ************                               \n",
      "                                           ******************       *       ******************                                           \n",
      "                                                       *********    *    *********                                                       \n",
      "                                                             +------------+                                                              \n",
      "                                                             | summarizer |                                                              \n",
      "                                                             +------------+                                                              \n",
      "                                                                    *                                                                    \n",
      "                                                                    *                                                                    \n",
      "                                                                    *                                                                    \n",
      "                                                              +---------+                                                                \n",
      "                                                              | __end__ |                                                                \n",
      "                                                              +---------+                                                                \n"
     ]
    }
   ],
   "source": [
    "from psycopg_pool import ConnectionPool\n",
    "from langgraph.checkpoint.postgres import PostgresSaver\n",
    "from agents.packaging import packaging_phase\n",
    "from agents.transportation import transportation_phase\n",
    "from agents.use import use_phase\n",
    "from agents.eol import eol_phase\n",
    "\n",
    "# See https://langchain-ai.github.io/langgraph/how-tos/persistence_postgres/\n",
    "DB_URI = os.environ['DB_DEV_CONNECTION']\n",
    "connection_kwargs = {\n",
    "    \"autocommit\": True,\n",
    "    \"prepare_threshold\": 0,\n",
    "}\n",
    "\n",
    "model = ChatOpenAI(model_name=\"o3\", temperature=0)\n",
    "\n",
    "# Setup the building with that state\n",
    "graph_builder = StateGraph(FootprintState)\n",
    "\n",
    "graph_builder.add_node(\"planner\", planner)\n",
    "graph_builder.add_edge(START, \"planner\")\n",
    "graph_builder.add_node(\"manufacturing_phase\", manufacturing_phase)\n",
    "graph_builder.add_node(\"packaging_phase\", packaging_phase)\n",
    "graph_builder.add_node(\"transportation_phase\", transportation_phase)\n",
    "graph_builder.add_node(\"use_phase\", use_phase)\n",
    "graph_builder.add_node(\"eol_phase\", eol_phase)\n",
    "graph_builder.add_node(\"summarizer\", summarizer)\n",
    "\n",
    "\n",
    "phases = [\"manufacturing_phase\", \"packaging_phase\", \"transportation_phase\", \"use_phase\", \"eol_phase\"]\n",
    "for phase in phases:\n",
    "    graph_builder.add_edge(\"planner\", phase)\n",
    "\n",
    "# By using a list for the first argument, the summarizer knows to wait for all\n",
    "# phases to finish before running\n",
    "graph_builder.add_edge(phases, \"summarizer\")\n",
    "graph_builder.add_edge(\"summarizer\", END)\n",
    "\n",
    "# Compile with no checkpointer just to generate the graph image\n",
    "# Mermaid is having issues...\n",
    "#from IPython.display import Image\n",
    "#Image(graph_builder.compile().get_graph().draw_mermaid_png())\n",
    "graph_builder.compile().get_graph().print_ascii()"
   ]
  },
  {
   "cell_type": "code",
   "execution_count": null,
   "metadata": {},
   "outputs": [
    {
     "name": "stdout",
     "output_type": "stream",
     "text": [
      "VALUES: {'messages': [HumanMessage(content='This is a test message', additional_kwargs={}, response_metadata={}, id='cf486573-2c66-437d-aa35-242705072784')], 'user_input': 'calculate the cradle to gate footprint', 'url': 'https://www.apple.com/iphone-15-pro/'}\n",
      "Running Planner\n",
      "[{'question': 'What is the brand of the product?', 'answer': 'Apple'}, {'question': 'What is the product category?', 'answer': 'cellphone'}, {'question': 'What is a 1 sentence, factual description of the product?', 'answer': 'An Apple iPhone 15 Pro'}, {'question': \"What is the product's weight?\", 'answer': 0.17}]\n",
      "[{'kgCO2e': 100, 'description': 'This is a test description for https://www.apple.com/iphone-15-pro/', 'source': 'This is a test source'}]\n",
      "UPDATE: {'planner': {'messages': [{'role': 'ai', 'content': 'planner'}], 'brand': 'Apple', 'category': 'cellphone', 'description': 'An Apple iPhone 15 Pro'}}\n",
      "VALUES: {'messages': [HumanMessage(content='This is a test message', additional_kwargs={}, response_metadata={}, id='cf486573-2c66-437d-aa35-242705072784'), AIMessage(content='planner', additional_kwargs={}, response_metadata={}, id='75435617-2c52-4315-825b-1707e6e5074b')], 'user_input': 'calculate the cradle to gate footprint', 'url': 'https://www.apple.com/iphone-15-pro/', 'brand': 'Apple', 'category': 'cellphone', 'description': 'An Apple iPhone 15 Pro'}\n",
      "Running raw materials and manufacturing\n",
      "Finished raw materials and manufacturing\n",
      "UPDATE: {'manufacturing_phase': {'messages': [{'role': 'ai', 'content': 'manufacturing'}]}}\n",
      "TOOL: Emissions Factor Finder recycling of cellphone end-of-life\n",
      "TOOL: Emissions Factor Finder disposal of cellphone end-of-life\n",
      "TOOL: Emissions Factor Finder cardboard production productionTOOL: Emissions Factor Finder paper production production\n",
      "\n",
      "TOOL: Emissions Factor Finder plastic production production\n",
      "kgCO2e=0.5 units='per cellphone' description='The carbon emissions factor for the disposal of a cellphone at its end-of-life phase, considering typical recycling and waste management processes.'\n",
      "kgCO2e=0.5 units='per cellphone' description='The carbon emissions factor for recycling a cellphone at its end-of-life phase, considering the energy and processes involved in dismantling, material recovery, and transportation.'\n",
      "TOOL: Emissions Factor Finder electricity generation use\n",
      "kgCO2e=1.5 units='kgCO2e per kg of paper' description='The carbon emissions factor for paper production during the production phase, which includes the energy used in the manufacturing process, emissions from chemical reactions, and other related activities.'\n",
      "kgCO2e=1.5 units='kgCO2e per kg of cardboard' description='The carbon emissions factor for the production phase of cardboard manufacturing, which includes the energy used in processing raw materials, transportation, and the operation of machinery.'\n",
      "kgCO2e=2.5 units='per kg of plastic' description='The carbon emissions factor for plastic production during the production phase is estimated to be 2.5 kgCO2e per kg of plastic. This estimate accounts for the energy-intensive processes involved in converting raw materials into plastic products, including polymerization, extrusion, and molding. The emissions factor can vary based on the type of plastic, the energy sources used, and the efficiency of the production process.'\n",
      "kgCO2e=0.233 units='kWh' description='The carbon emissions factor for electricity generation during the use phase is an average value that represents the amount of carbon dioxide equivalent emissions produced per kilowatt-hour of electricity consumed. This factor can vary significantly depending on the energy mix of the electricity grid, with renewable sources like wind and solar having lower emissions compared to fossil fuels like coal and natural gas. The given value is an average estimate for a grid with a moderate mix of renewable and non-renewable energy sources.'\n",
      "TOOL: Emissions Factor Finder Transport, freight, sea, container ship | ocean-going | average transportation\n",
      "TOOL: Emissions Factor Finder Transport, freight, articulated truck | diesel | EU average transportation\n",
      "UPDATE: {'eol_phase': {'eol': {'carbon': 1.0, 'summary': 'The end-of-life phase for an Apple iPhone 15 Pro involves recycling and disposal processes, resulting in a carbon footprint of approximately 1.0 kg CO2e. This includes emissions from dismantling, material recovery, and waste management.', 'messages': [HumanMessage(content='Brand: Apple\\nCategory: cellphone\\nDescription: An Apple iPhone 15 Pro', additional_kwargs={}, response_metadata={}, id='faa60617-eee3-44a6-95d8-e9ee1a08fdb8'), AIMessage(content=\"To estimate the carbon footprint of the end-of-life phase for an Apple iPhone 15 Pro, we need to consider the processes involved in this phase, such as recycling, disposal, and transportation. Let's find the emissions factors for these processes and calculate the total carbon footprint.\\n\\nI'll start by finding the emissions factors for recycling and disposal of a cellphone.\", additional_kwargs={'tool_calls': [{'id': 'call_welwdy2dHNpWajfaMxhc16ZX', 'function': {'arguments': '{\"process_desc\": \"recycling of cellphone\", \"phase\": \"end-of-life\"}', 'name': 'emissions_factor_finder_tool'}, 'type': 'function'}, {'id': 'call_vuLLpaIPkKjKpIXA27uh3WjI', 'function': {'arguments': '{\"process_desc\": \"disposal of cellphone\", \"phase\": \"end-of-life\"}', 'name': 'emissions_factor_finder_tool'}, 'type': 'function'}], 'refusal': None}, response_metadata={'token_usage': {'completion_tokens': 145, 'prompt_tokens': 237, 'total_tokens': 382, 'completion_tokens_details': {'accepted_prediction_tokens': 0, 'audio_tokens': 0, 'reasoning_tokens': 0, 'rejected_prediction_tokens': 0}, 'prompt_tokens_details': {'audio_tokens': 0, 'cached_tokens': 0}}, 'model_name': 'gpt-4o-2024-08-06', 'system_fingerprint': 'fp_90122d973c', 'id': 'chatcmpl-BUyakZskyTQs6sq0StZjmOUPPwnWf', 'finish_reason': 'tool_calls', 'logprobs': None}, name='eol_agent', id='run-c7a5491d-9656-4c64-ad73-283c16c1fb1b-0', tool_calls=[{'name': 'emissions_factor_finder_tool', 'args': {'process_desc': 'recycling of cellphone', 'phase': 'end-of-life'}, 'id': 'call_welwdy2dHNpWajfaMxhc16ZX', 'type': 'tool_call'}, {'name': 'emissions_factor_finder_tool', 'args': {'process_desc': 'disposal of cellphone', 'phase': 'end-of-life'}, 'id': 'call_vuLLpaIPkKjKpIXA27uh3WjI', 'type': 'tool_call'}], usage_metadata={'input_tokens': 237, 'output_tokens': 145, 'total_tokens': 382, 'input_token_details': {'audio': 0, 'cache_read': 0}, 'output_token_details': {'audio': 0, 'reasoning': 0}}), ToolMessage(content='{\"kgCO2e\": 0.5, \"units\": \"per cellphone\", \"description\": \"The carbon emissions factor for recycling a cellphone at its end-of-life phase, considering the energy and processes involved in dismantling, material recovery, and transportation.\"}', name='emissions_factor_finder_tool', id='9996f272-3ff4-4f3b-9b9c-500f8a0bb3ab', tool_call_id='call_welwdy2dHNpWajfaMxhc16ZX'), ToolMessage(content='{\"kgCO2e\": 0.5, \"units\": \"per cellphone\", \"description\": \"The carbon emissions factor for the disposal of a cellphone at its end-of-life phase, considering typical recycling and waste management processes.\"}', name='emissions_factor_finder_tool', id='8f983ca0-3fb7-444b-a9ce-2e182907e934', tool_call_id='call_vuLLpaIPkKjKpIXA27uh3WjI'), AIMessage(content=\"The emissions factors for the end-of-life phase of an Apple iPhone 15 Pro are as follows:\\n\\n- Recycling: 0.5 kg CO2e per cellphone\\n- Disposal: 0.5 kg CO2e per cellphone\\n\\nAssuming that the end-of-life phase involves both recycling and disposal processes, the total carbon footprint for the end-of-life phase of an Apple iPhone 15 Pro would be the sum of these two factors.\\n\\nLet's calculate the total carbon footprint.\", additional_kwargs={'tool_calls': [{'id': 'call_aVLaprnhMOiUbgBahnOImKET', 'function': {'arguments': '{\"expression\":\"0.5 + 0.5\"}', 'name': 'calculator'}, 'type': 'function'}], 'refusal': None}, response_metadata={'token_usage': {'completion_tokens': 122, 'prompt_tokens': 502, 'total_tokens': 624, 'completion_tokens_details': {'accepted_prediction_tokens': 0, 'audio_tokens': 0, 'reasoning_tokens': 0, 'rejected_prediction_tokens': 0}, 'prompt_tokens_details': {'audio_tokens': 0, 'cached_tokens': 0}}, 'model_name': 'gpt-4o-2024-08-06', 'system_fingerprint': 'fp_90122d973c', 'id': 'chatcmpl-BUyar3Uw30BZUAtaMto5diUBggEwe', 'finish_reason': 'tool_calls', 'logprobs': None}, name='eol_agent', id='run-8de7b39b-89f5-4af8-9091-afe4b7fd36d9-0', tool_calls=[{'name': 'calculator', 'args': {'expression': '0.5 + 0.5'}, 'id': 'call_aVLaprnhMOiUbgBahnOImKET', 'type': 'tool_call'}], usage_metadata={'input_tokens': 502, 'output_tokens': 122, 'total_tokens': 624, 'input_token_details': {'audio': 0, 'cache_read': 0}, 'output_token_details': {'audio': 0, 'reasoning': 0}}), ToolMessage(content='1.0', name='calculator', id='f2f5f262-e09f-45a5-a557-cd370d7c4cbf', tool_call_id='call_aVLaprnhMOiUbgBahnOImKET'), AIMessage(content='The estimated carbon footprint for the end-of-life phase of an Apple iPhone 15 Pro is 1.0 kg of CO2e.', additional_kwargs={'refusal': None}, response_metadata={'token_usage': {'completion_tokens': 31, 'prompt_tokens': 641, 'total_tokens': 672, 'completion_tokens_details': {'accepted_prediction_tokens': 0, 'audio_tokens': 0, 'reasoning_tokens': 0, 'rejected_prediction_tokens': 0}, 'prompt_tokens_details': {'audio_tokens': 0, 'cached_tokens': 0}}, 'model_name': 'gpt-4o-2024-08-06', 'system_fingerprint': 'fp_90122d973c', 'id': 'chatcmpl-BUyauo0FrIG1EryfByfjp3FYjrNZ2', 'finish_reason': 'stop', 'logprobs': None}, name='eol_agent', id='run-b8407843-3016-4e1e-9daa-5b32b2e7a1e2-0', usage_metadata={'input_tokens': 641, 'output_tokens': 31, 'total_tokens': 672, 'input_token_details': {'audio': 0, 'cache_read': 0}, 'output_token_details': {'audio': 0, 'reasoning': 0}})]}}}\n",
      "kgCO2e=0.1 units='tonne-km' description='The emissions factor for transporting freight using an articulated truck powered by diesel in the EU. This factor represents the average carbon emissions per tonne of goods transported over one kilometer.'\n",
      "kgCO2e=0.015 units='kgCO2e per tonne-km' description='This emissions factor represents the average carbon emissions for transporting freight via container ships over ocean routes. It is calculated based on the average fuel consumption and emissions of container ships, considering the typical load and distance traveled.'\n",
      "UPDATE: {'packaging_phase': {'packaging': {'carbon': 0.4, 'summary': 'The packaging life cycle assessment (LCA) for the Apple iPhone 15 Pro involves evaluating the carbon emissions from the production of materials like cardboard, paper, and plastic. The total carbon footprint of the packaging is estimated to be 0.4 kg of CO2e, considering the typical weights and emissions factors of these materials.', 'messages': [HumanMessage(content='Brand: Apple\\nCategory: cellphone\\nDescription: An Apple iPhone 15 Pro', additional_kwargs={}, response_metadata={}, id='59f38443-efee-46a2-b008-bcea38aa5c3f'), AIMessage(content=\"To estimate the carbon footprint of the packaging for the Apple iPhone 15 Pro, we need to consider the materials used in the packaging and the processes involved in its production. Typically, smartphone packaging includes materials like cardboard, paper, and possibly some plastic components. \\n\\nLet's proceed with the following steps:\\n1. Identify the emissions factors for the materials and processes involved in the packaging.\\n2. Calculate the total carbon footprint based on these factors.\\n\\nI'll start by finding the emissions factors for the typical materials used in smartphone packaging.\", additional_kwargs={'tool_calls': [{'id': 'call_fcSGTOMnI3o31DUk9zoKk2iF', 'function': {'arguments': '{\"process_desc\": \"cardboard production\", \"phase\": \"production\"}', 'name': 'emissions_factor_finder_tool'}, 'type': 'function'}, {'id': 'call_kRXHVxS4KMU5SJEyeNk3jl1h', 'function': {'arguments': '{\"process_desc\": \"paper production\", \"phase\": \"production\"}', 'name': 'emissions_factor_finder_tool'}, 'type': 'function'}, {'id': 'call_Bvtszlmlb8bPcjbt0zJxDBWw', 'function': {'arguments': '{\"process_desc\": \"plastic production\", \"phase\": \"production\"}', 'name': 'emissions_factor_finder_tool'}, 'type': 'function'}], 'refusal': None}, response_metadata={'token_usage': {'completion_tokens': 196, 'prompt_tokens': 235, 'total_tokens': 431, 'completion_tokens_details': {'accepted_prediction_tokens': 0, 'audio_tokens': 0, 'reasoning_tokens': 0, 'rejected_prediction_tokens': 0}, 'prompt_tokens_details': {'audio_tokens': 0, 'cached_tokens': 0}}, 'model_name': 'gpt-4o-2024-08-06', 'system_fingerprint': 'fp_90122d973c', 'id': 'chatcmpl-BUyakj7lqoxSpYXiOf1zFxO9wdgAH', 'finish_reason': 'tool_calls', 'logprobs': None}, name='packaging_agent', id='run-4733342f-219b-4cf8-b93c-7e75650577a1-0', tool_calls=[{'name': 'emissions_factor_finder_tool', 'args': {'process_desc': 'cardboard production', 'phase': 'production'}, 'id': 'call_fcSGTOMnI3o31DUk9zoKk2iF', 'type': 'tool_call'}, {'name': 'emissions_factor_finder_tool', 'args': {'process_desc': 'paper production', 'phase': 'production'}, 'id': 'call_kRXHVxS4KMU5SJEyeNk3jl1h', 'type': 'tool_call'}, {'name': 'emissions_factor_finder_tool', 'args': {'process_desc': 'plastic production', 'phase': 'production'}, 'id': 'call_Bvtszlmlb8bPcjbt0zJxDBWw', 'type': 'tool_call'}], usage_metadata={'input_tokens': 235, 'output_tokens': 196, 'total_tokens': 431, 'input_token_details': {'audio': 0, 'cache_read': 0}, 'output_token_details': {'audio': 0, 'reasoning': 0}}), ToolMessage(content='{\"kgCO2e\": 1.5, \"units\": \"kgCO2e per kg of cardboard\", \"description\": \"The carbon emissions factor for the production phase of cardboard manufacturing, which includes the energy used in processing raw materials, transportation, and the operation of machinery.\"}', name='emissions_factor_finder_tool', id='ee8f1a0e-5c05-4b04-9c8f-88ba75fddaef', tool_call_id='call_fcSGTOMnI3o31DUk9zoKk2iF'), ToolMessage(content='{\"kgCO2e\": 1.5, \"units\": \"kgCO2e per kg of paper\", \"description\": \"The carbon emissions factor for paper production during the production phase, which includes the energy used in the manufacturing process, emissions from chemical reactions, and other related activities.\"}', name='emissions_factor_finder_tool', id='7054e560-30b1-4326-ac35-1e7ef8194aa4', tool_call_id='call_kRXHVxS4KMU5SJEyeNk3jl1h'), ToolMessage(content='{\"kgCO2e\": 2.5, \"units\": \"per kg of plastic\", \"description\": \"The carbon emissions factor for plastic production during the production phase is estimated to be 2.5 kgCO2e per kg of plastic. This estimate accounts for the energy-intensive processes involved in converting raw materials into plastic products, including polymerization, extrusion, and molding. The emissions factor can vary based on the type of plastic, the energy sources used, and the efficiency of the production process.\"}', name='emissions_factor_finder_tool', id='ee2620a3-f7bc-47dc-84b3-17d639457c6f', tool_call_id='call_Bvtszlmlb8bPcjbt0zJxDBWw'), AIMessage(content=\"We have the following emissions factors for the materials typically used in smartphone packaging:\\n\\n1. **Cardboard**: 1.5 kgCO2e per kg\\n2. **Paper**: 1.5 kgCO2e per kg\\n3. **Plastic**: 2.5 kgCO2e per kg\\n\\nNext, we need to estimate the weight of each material used in the packaging of an Apple iPhone 15 Pro. Based on typical smartphone packaging, let's assume the following reasonable estimates:\\n\\n- Cardboard: 0.2 kg\\n- Paper: 0.05 kg\\n- Plastic: 0.01 kg\\n\\nNow, let's calculate the total carbon footprint of the packaging by multiplying the weight of each material by its respective emissions factor and summing the results.\", additional_kwargs={'tool_calls': [{'id': 'call_aAFgDo8nuI5CXdb9nAlcYRSM', 'function': {'arguments': '{\"expression\":\"(0.2 * 1.5) + (0.05 * 1.5) + (0.01 * 2.5)\"}', 'name': 'calculator'}, 'type': 'function'}], 'refusal': None}, response_metadata={'token_usage': {'completion_tokens': 209, 'prompt_tokens': 675, 'total_tokens': 884, 'completion_tokens_details': {'accepted_prediction_tokens': 0, 'audio_tokens': 0, 'reasoning_tokens': 0, 'rejected_prediction_tokens': 0}, 'prompt_tokens_details': {'audio_tokens': 0, 'cached_tokens': 0}}, 'model_name': 'gpt-4o-2024-08-06', 'system_fingerprint': 'fp_90122d973c', 'id': 'chatcmpl-BUyassKGvBZ6ChXK1ELndkwNW52Ku', 'finish_reason': 'tool_calls', 'logprobs': None}, name='packaging_agent', id='run-3b800aa3-e2b2-47ab-a5f3-4730ebf6b78a-0', tool_calls=[{'name': 'calculator', 'args': {'expression': '(0.2 * 1.5) + (0.05 * 1.5) + (0.01 * 2.5)'}, 'id': 'call_aAFgDo8nuI5CXdb9nAlcYRSM', 'type': 'tool_call'}], usage_metadata={'input_tokens': 675, 'output_tokens': 209, 'total_tokens': 884, 'input_token_details': {'audio': 0, 'cache_read': 0}, 'output_token_details': {'audio': 0, 'reasoning': 0}}), ToolMessage(content='0.4000000000000001', name='calculator', id='ab70ab33-aa51-47f9-96b6-2cff53f5d393', tool_call_id='call_aAFgDo8nuI5CXdb9nAlcYRSM'), AIMessage(content='The estimated carbon footprint of the packaging for the Apple iPhone 15 Pro is approximately 0.4 kg of CO2e.', additional_kwargs={'refusal': None}, response_metadata={'token_usage': {'completion_tokens': 29, 'prompt_tokens': 908, 'total_tokens': 937, 'completion_tokens_details': {'accepted_prediction_tokens': 0, 'audio_tokens': 0, 'reasoning_tokens': 0, 'rejected_prediction_tokens': 0}, 'prompt_tokens_details': {'audio_tokens': 0, 'cached_tokens': 0}}, 'model_name': 'gpt-4o-2024-08-06', 'system_fingerprint': 'fp_90122d973c', 'id': 'chatcmpl-BUyay56vHz82wgYH9j32dPQUYxJHS', 'finish_reason': 'stop', 'logprobs': None}, name='packaging_agent', id='run-c01c0f15-5dd7-4aa0-bf21-1322f3629102-0', usage_metadata={'input_tokens': 908, 'output_tokens': 29, 'total_tokens': 937, 'input_token_details': {'audio': 0, 'cache_read': 0}, 'output_token_details': {'audio': 0, 'reasoning': 0}})]}}}\n",
      "UPDATE: {'use_phase': {'use': {'carbon': 3.1, 'summary': \"The use-phase of an Apple iPhone 15 Pro involves charging the device regularly, contributing to its carbon footprint. Over a typical lifespan, the phone's use results in approximately 3.10 kg of CO2e emissions, primarily from electricity consumption.\", 'messages': [HumanMessage(content='Brand: Apple\\nCategory: cellphone\\nDescription: An Apple iPhone 15 Pro', additional_kwargs={}, response_metadata={}, id='8895f107-06e6-47df-9777-1eb9ff9eed9c'), AIMessage(content=\"To estimate the carbon footprint of the use-phase of an Apple iPhone 15 Pro, we need to consider the energy consumption during its use and the emissions factor for electricity. The use-phase typically involves charging the device over its expected lifespan.\\n\\n### Steps to Estimate Carbon Footprint:\\n\\n1. **Determine the Average Energy Consumption:**\\n   - Estimate the average energy consumption per charge cycle.\\n   - Estimate the number of charge cycles over the expected lifespan of the phone.\\n\\n2. **Find the Emissions Factor for Electricity:**\\n   - Use the emissions factor for electricity generation, which varies by region.\\n\\n3. **Calculate the Total Carbon Footprint:**\\n   - Multiply the total energy consumption by the emissions factor to get the carbon footprint in kg CO2e.\\n\\nLet's start by finding the emissions factor for electricity and then proceed with the calculations.\", additional_kwargs={'tool_calls': [{'id': 'call_KhklKp1dHMVeqtRmD93vBCR0', 'function': {'arguments': '{\"process_desc\":\"electricity generation\",\"phase\":\"use\"}', 'name': 'emissions_factor_finder_tool'}, 'type': 'function'}], 'refusal': None}, response_metadata={'token_usage': {'completion_tokens': 197, 'prompt_tokens': 237, 'total_tokens': 434, 'completion_tokens_details': {'accepted_prediction_tokens': 0, 'audio_tokens': 0, 'reasoning_tokens': 0, 'rejected_prediction_tokens': 0}, 'prompt_tokens_details': {'audio_tokens': 0, 'cached_tokens': 0}}, 'model_name': 'gpt-4o-2024-08-06', 'system_fingerprint': 'fp_d8864f8b6b', 'id': 'chatcmpl-BUyakIT7Uy11QIa0RzoV9q43IoZmo', 'finish_reason': 'tool_calls', 'logprobs': None}, name='use_agent', id='run-d9531eb8-82e1-410a-b431-868e046514a5-0', tool_calls=[{'name': 'emissions_factor_finder_tool', 'args': {'process_desc': 'electricity generation', 'phase': 'use'}, 'id': 'call_KhklKp1dHMVeqtRmD93vBCR0', 'type': 'tool_call'}], usage_metadata={'input_tokens': 237, 'output_tokens': 197, 'total_tokens': 434, 'input_token_details': {'audio': 0, 'cache_read': 0}, 'output_token_details': {'audio': 0, 'reasoning': 0}}), ToolMessage(content='{\"kgCO2e\": 0.233, \"units\": \"kWh\", \"description\": \"The carbon emissions factor for electricity generation during the use phase is an average value that represents the amount of carbon dioxide equivalent emissions produced per kilowatt-hour of electricity consumed. This factor can vary significantly depending on the energy mix of the electricity grid, with renewable sources like wind and solar having lower emissions compared to fossil fuels like coal and natural gas. The given value is an average estimate for a grid with a moderate mix of renewable and non-renewable energy sources.\"}', name='emissions_factor_finder_tool', id='13b5db70-6afa-465c-a5aa-f32485bb2dce', tool_call_id='call_KhklKp1dHMVeqtRmD93vBCR0'), AIMessage(content=\"The emissions factor for electricity generation during the use phase is approximately 0.233 kg CO2e per kWh.\\n\\n### Assumptions for Calculation:\\n1. **Average Energy Consumption per Charge Cycle:**\\n   - Assume the iPhone 15 Pro has a battery capacity of approximately 3,200 mAh (3.2 Ah) at 3.8V, which is about 12.16 Wh per full charge.\\n\\n2. **Number of Charge Cycles:**\\n   - Assume the phone is charged once every day over a lifespan of 3 years (approximately 1,095 charge cycles).\\n\\n### Calculation:\\n1. **Total Energy Consumption:**\\n   - Total energy consumption over the lifespan = 12.16 Wh/charge * 1,095 charges = 13,315.2 Wh = 13.3152 kWh\\n\\n2. **Total Carbon Footprint:**\\n   - Total carbon footprint = 13.3152 kWh * 0.233 kg CO2e/kWh\\n\\nLet's calculate the total carbon footprint.\", additional_kwargs={'tool_calls': [{'id': 'call_t9LthdgSNTgXEfXsAFVHtncQ', 'function': {'arguments': '{\"expression\":\"13.3152 * 0.233\"}', 'name': 'calculator'}, 'type': 'function'}], 'refusal': None}, response_metadata={'token_usage': {'completion_tokens': 240, 'prompt_tokens': 568, 'total_tokens': 808, 'completion_tokens_details': {'accepted_prediction_tokens': 0, 'audio_tokens': 0, 'reasoning_tokens': 0, 'rejected_prediction_tokens': 0}, 'prompt_tokens_details': {'audio_tokens': 0, 'cached_tokens': 0}}, 'model_name': 'gpt-4o-2024-08-06', 'system_fingerprint': 'fp_d8864f8b6b', 'id': 'chatcmpl-BUyat1bYMfilYaNS1yLix9mjQepiu', 'finish_reason': 'tool_calls', 'logprobs': None}, name='use_agent', id='run-d7f4283a-3e0d-4234-b5b8-6fec271543da-0', tool_calls=[{'name': 'calculator', 'args': {'expression': '13.3152 * 0.233'}, 'id': 'call_t9LthdgSNTgXEfXsAFVHtncQ', 'type': 'tool_call'}], usage_metadata={'input_tokens': 568, 'output_tokens': 240, 'total_tokens': 808, 'input_token_details': {'audio': 0, 'cache_read': 0}, 'output_token_details': {'audio': 0, 'reasoning': 0}}), ToolMessage(content='3.1024416000000006', name='calculator', id='b15b14b5-926c-498f-afe7-dbbafd8aef89', tool_call_id='call_t9LthdgSNTgXEfXsAFVHtncQ'), AIMessage(content='The estimated carbon footprint of the use-phase of an Apple iPhone 15 Pro is approximately 3.10 kg CO2e over its expected lifespan.', additional_kwargs={'refusal': None}, response_metadata={'token_usage': {'completion_tokens': 33, 'prompt_tokens': 830, 'total_tokens': 863, 'completion_tokens_details': {'accepted_prediction_tokens': 0, 'audio_tokens': 0, 'reasoning_tokens': 0, 'rejected_prediction_tokens': 0}, 'prompt_tokens_details': {'audio_tokens': 0, 'cached_tokens': 0}}, 'model_name': 'gpt-4o-2024-08-06', 'system_fingerprint': 'fp_d8864f8b6b', 'id': 'chatcmpl-BUyb0NDfLMGmd235sZV9Qwc40DpyB', 'finish_reason': 'stop', 'logprobs': None}, name='use_agent', id='run-0155835b-e15b-458c-b25b-62c6dc4af6ca-0', usage_metadata={'input_tokens': 830, 'output_tokens': 33, 'total_tokens': 863, 'input_token_details': {'audio': 0, 'cache_read': 0}, 'output_token_details': {'audio': 0, 'reasoning': 0}})]}}}\n",
      "UPDATE: {'transportation_phase': {'transportation': {'carbon': 0.1, 'summary': 'The transportation of an Apple iPhone 15 Pro from China to the United States involves ocean freight and road transport, resulting in an estimated carbon footprint of 0.1 kg CO2e. This calculation considers the weight of the product and the distance traveled by each mode of transportation.', 'messages': [HumanMessage(content='Brand: Apple\\nCategory: cellphone\\nDescription: An Apple iPhone 15 Pro', additional_kwargs={}, response_metadata={}, id='68e192a8-8202-48aa-a19a-e9a3749494ef'), AIMessage(content=\"To estimate the carbon footprint of transporting an Apple iPhone 15 Pro, we need to consider the following:\\n\\n1. **Mode of Transportation**: Determine the likely modes of transportation used for shipping the product from the manufacturing site to the end consumer. This typically includes:\\n   - Ocean freight for international shipping.\\n   - Air freight for expedited shipping.\\n   - Road transport by truck for regional distribution.\\n\\n2. **Distance**: Estimate the distance traveled by each mode of transportation. This can vary based on the manufacturing location and the final destination.\\n\\n3. **Weight of the Product**: The weight of the iPhone 15 Pro, including packaging, is needed to calculate the emissions per unit.\\n\\nLet's proceed with the following assumptions:\\n- The iPhone is manufactured in China and shipped to the United States.\\n- The weight of the iPhone 15 Pro, including packaging, is approximately 0.5 kg.\\n- The transportation involves:\\n  - Ocean freight from China to the U.S. (approximately 10,000 km).\\n  - Road transport by truck within the U.S. (approximately 500 km).\\n\\nI will now find the emissions factors for these modes of transportation.\", additional_kwargs={'tool_calls': [{'id': 'call_ou4CaM6YDGzdlUTml8rlVIlM', 'function': {'arguments': '{\"process_desc\": \"Transport, freight, sea, container ship | ocean-going | average\", \"phase\": \"transportation\"}', 'name': 'emissions_factor_finder_tool'}, 'type': 'function'}, {'id': 'call_dU0SDlwc1s6H7pE8tDmGZdKd', 'function': {'arguments': '{\"process_desc\": \"Transport, freight, articulated truck | diesel | EU average\", \"phase\": \"transportation\"}', 'name': 'emissions_factor_finder_tool'}, 'type': 'function'}], 'refusal': None}, response_metadata={'token_usage': {'completion_tokens': 327, 'prompt_tokens': 294, 'total_tokens': 621, 'completion_tokens_details': {'accepted_prediction_tokens': 0, 'audio_tokens': 0, 'reasoning_tokens': 0, 'rejected_prediction_tokens': 0}, 'prompt_tokens_details': {'audio_tokens': 0, 'cached_tokens': 0}}, 'model_name': 'gpt-4o-2024-08-06', 'system_fingerprint': 'fp_d8864f8b6b', 'id': 'chatcmpl-BUyaktDlLpy7Usif6xq5YpTJhHph0', 'finish_reason': 'tool_calls', 'logprobs': None}, name='transportation_agent', id='run-61f198b0-78f3-46bb-baee-b7f7ebac622a-0', tool_calls=[{'name': 'emissions_factor_finder_tool', 'args': {'process_desc': 'Transport, freight, sea, container ship | ocean-going | average', 'phase': 'transportation'}, 'id': 'call_ou4CaM6YDGzdlUTml8rlVIlM', 'type': 'tool_call'}, {'name': 'emissions_factor_finder_tool', 'args': {'process_desc': 'Transport, freight, articulated truck | diesel | EU average', 'phase': 'transportation'}, 'id': 'call_dU0SDlwc1s6H7pE8tDmGZdKd', 'type': 'tool_call'}], usage_metadata={'input_tokens': 294, 'output_tokens': 327, 'total_tokens': 621, 'input_token_details': {'audio': 0, 'cache_read': 0}, 'output_token_details': {'audio': 0, 'reasoning': 0}}), ToolMessage(content='{\"kgCO2e\": 0.015, \"units\": \"kgCO2e per tonne-km\", \"description\": \"This emissions factor represents the average carbon emissions for transporting freight via container ships over ocean routes. It is calculated based on the average fuel consumption and emissions of container ships, considering the typical load and distance traveled.\"}', name='emissions_factor_finder_tool', id='b7efe561-1e72-4826-a58b-c66818b71e96', tool_call_id='call_ou4CaM6YDGzdlUTml8rlVIlM'), ToolMessage(content='{\"kgCO2e\": 0.1, \"units\": \"tonne-km\", \"description\": \"The emissions factor for transporting freight using an articulated truck powered by diesel in the EU. This factor represents the average carbon emissions per tonne of goods transported over one kilometer.\"}', name='emissions_factor_finder_tool', id='b127e9da-392f-48cf-af8a-cddc7374a1fe', tool_call_id='call_dU0SDlwc1s6H7pE8tDmGZdKd'), AIMessage(content='', additional_kwargs={'tool_calls': [{'id': 'call_iL4RINm5jYnJVnAnxgrUt9ie', 'function': {'arguments': '{\"expression\":\"0.5 * 0.015 * 10\"}', 'name': 'calculator'}, 'type': 'function'}], 'refusal': None}, response_metadata={'token_usage': {'completion_tokens': 25, 'prompt_tokens': 769, 'total_tokens': 794, 'completion_tokens_details': {'accepted_prediction_tokens': 0, 'audio_tokens': 0, 'reasoning_tokens': 0, 'rejected_prediction_tokens': 0}, 'prompt_tokens_details': {'audio_tokens': 0, 'cached_tokens': 0}}, 'model_name': 'gpt-4o-2024-08-06', 'system_fingerprint': 'fp_d8864f8b6b', 'id': 'chatcmpl-BUyayhYT2TtD1KsK4JOEvdNFcRwsD', 'finish_reason': 'tool_calls', 'logprobs': None}, name='transportation_agent', id='run-d270857a-20a8-4680-925c-6eb45d707cf6-0', tool_calls=[{'name': 'calculator', 'args': {'expression': '0.5 * 0.015 * 10'}, 'id': 'call_iL4RINm5jYnJVnAnxgrUt9ie', 'type': 'tool_call'}], usage_metadata={'input_tokens': 769, 'output_tokens': 25, 'total_tokens': 794, 'input_token_details': {'audio': 0, 'cache_read': 0}, 'output_token_details': {'audio': 0, 'reasoning': 0}}), ToolMessage(content='0.075', name='calculator', id='67b46ec1-1aeb-417b-9819-5bbbbb600459', tool_call_id='call_iL4RINm5jYnJVnAnxgrUt9ie'), AIMessage(content='', additional_kwargs={'tool_calls': [{'id': 'call_HwR3YcEjK7Aj6VMn8Fmi6wjY', 'function': {'arguments': '{\"expression\":\"0.5 * 0.1 * 0.5\"}', 'name': 'calculator'}, 'type': 'function'}], 'refusal': None}, response_metadata={'token_usage': {'completion_tokens': 27, 'prompt_tokens': 807, 'total_tokens': 834, 'completion_tokens_details': {'accepted_prediction_tokens': 0, 'audio_tokens': 0, 'reasoning_tokens': 0, 'rejected_prediction_tokens': 0}, 'prompt_tokens_details': {'audio_tokens': 0, 'cached_tokens': 0}}, 'model_name': 'gpt-4o-2024-08-06', 'system_fingerprint': 'fp_d8864f8b6b', 'id': 'chatcmpl-BUyazmeGiw4v3MmCHPveNZL0RRsHI', 'finish_reason': 'tool_calls', 'logprobs': None}, name='transportation_agent', id='run-e7ebe6ed-d27d-43e0-b42f-f17776bf8282-0', tool_calls=[{'name': 'calculator', 'args': {'expression': '0.5 * 0.1 * 0.5'}, 'id': 'call_HwR3YcEjK7Aj6VMn8Fmi6wjY', 'type': 'tool_call'}], usage_metadata={'input_tokens': 807, 'output_tokens': 27, 'total_tokens': 834, 'input_token_details': {'audio': 0, 'cache_read': 0}, 'output_token_details': {'audio': 0, 'reasoning': 0}}), ToolMessage(content='0.025', name='calculator', id='4722b472-4535-4630-bdd8-63eaf1f41cdf', tool_call_id='call_HwR3YcEjK7Aj6VMn8Fmi6wjY'), AIMessage(content='The estimated carbon footprint for transporting an Apple iPhone 15 Pro is calculated as follows:\\n\\n1. **Ocean Freight**: \\n   - Emissions Factor: 0.015 kgCO2e per tonne-km\\n   - Distance: 10,000 km\\n   - Weight: 0.5 kg (0.0005 tonnes)\\n   - Carbon Footprint: \\\\(0.0005 \\\\times 0.015 \\\\times 10,000 = 0.075 \\\\, \\\\text{kgCO2e}\\\\)\\n\\n2. **Road Transport by Truck**:\\n   - Emissions Factor: 0.1 kgCO2e per tonne-km\\n   - Distance: 500 km\\n   - Weight: 0.5 kg (0.0005 tonnes)\\n   - Carbon Footprint: \\\\(0.0005 \\\\times 0.1 \\\\times 500 = 0.025 \\\\, \\\\text{kgCO2e}\\\\)\\n\\n**Total Carbon Footprint**: \\\\(0.075 + 0.025 = 0.1 \\\\, \\\\text{kgCO2e}\\\\)\\n\\nTherefore, the estimated carbon footprint for transporting an Apple iPhone 15 Pro is approximately 0.1 kg of CO2e.', additional_kwargs={'refusal': None}, response_metadata={'token_usage': {'completion_tokens': 260, 'prompt_tokens': 847, 'total_tokens': 1107, 'completion_tokens_details': {'accepted_prediction_tokens': 0, 'audio_tokens': 0, 'reasoning_tokens': 0, 'rejected_prediction_tokens': 0}, 'prompt_tokens_details': {'audio_tokens': 0, 'cached_tokens': 0}}, 'model_name': 'gpt-4o-2024-08-06', 'system_fingerprint': 'fp_d8864f8b6b', 'id': 'chatcmpl-BUyb0BiZNZzWEa0jB033Fob3EyHPK', 'finish_reason': 'stop', 'logprobs': None}, name='transportation_agent', id='run-3131d598-7c9a-441a-b282-a063503214d2-0', usage_metadata={'input_tokens': 847, 'output_tokens': 260, 'total_tokens': 1107, 'input_token_details': {'audio': 0, 'cache_read': 0}, 'output_token_details': {'audio': 0, 'reasoning': 0}})]}}}\n",
      "VALUES: {'messages': [HumanMessage(content='This is a test message', additional_kwargs={}, response_metadata={}, id='cf486573-2c66-437d-aa35-242705072784'), AIMessage(content='planner', additional_kwargs={}, response_metadata={}, id='75435617-2c52-4315-825b-1707e6e5074b'), AIMessage(content='manufacturing', additional_kwargs={}, response_metadata={}, id='8a912fe4-656f-4f11-9396-3deac7206a59')], 'user_input': 'calculate the cradle to gate footprint', 'url': 'https://www.apple.com/iphone-15-pro/', 'brand': 'Apple', 'category': 'cellphone', 'description': 'An Apple iPhone 15 Pro', 'packaging': {'carbon': 0.4, 'summary': 'The packaging life cycle assessment (LCA) for the Apple iPhone 15 Pro involves evaluating the carbon emissions from the production of materials like cardboard, paper, and plastic. The total carbon footprint of the packaging is estimated to be 0.4 kg of CO2e, considering the typical weights and emissions factors of these materials.', 'messages': [HumanMessage(content='Brand: Apple\\nCategory: cellphone\\nDescription: An Apple iPhone 15 Pro', additional_kwargs={}, response_metadata={}, id='59f38443-efee-46a2-b008-bcea38aa5c3f'), AIMessage(content=\"To estimate the carbon footprint of the packaging for the Apple iPhone 15 Pro, we need to consider the materials used in the packaging and the processes involved in its production. Typically, smartphone packaging includes materials like cardboard, paper, and possibly some plastic components. \\n\\nLet's proceed with the following steps:\\n1. Identify the emissions factors for the materials and processes involved in the packaging.\\n2. Calculate the total carbon footprint based on these factors.\\n\\nI'll start by finding the emissions factors for the typical materials used in smartphone packaging.\", additional_kwargs={'tool_calls': [{'id': 'call_fcSGTOMnI3o31DUk9zoKk2iF', 'function': {'arguments': '{\"process_desc\": \"cardboard production\", \"phase\": \"production\"}', 'name': 'emissions_factor_finder_tool'}, 'type': 'function'}, {'id': 'call_kRXHVxS4KMU5SJEyeNk3jl1h', 'function': {'arguments': '{\"process_desc\": \"paper production\", \"phase\": \"production\"}', 'name': 'emissions_factor_finder_tool'}, 'type': 'function'}, {'id': 'call_Bvtszlmlb8bPcjbt0zJxDBWw', 'function': {'arguments': '{\"process_desc\": \"plastic production\", \"phase\": \"production\"}', 'name': 'emissions_factor_finder_tool'}, 'type': 'function'}], 'refusal': None}, response_metadata={'token_usage': {'completion_tokens': 196, 'prompt_tokens': 235, 'total_tokens': 431, 'completion_tokens_details': {'accepted_prediction_tokens': 0, 'audio_tokens': 0, 'reasoning_tokens': 0, 'rejected_prediction_tokens': 0}, 'prompt_tokens_details': {'audio_tokens': 0, 'cached_tokens': 0}}, 'model_name': 'gpt-4o-2024-08-06', 'system_fingerprint': 'fp_90122d973c', 'id': 'chatcmpl-BUyakj7lqoxSpYXiOf1zFxO9wdgAH', 'finish_reason': 'tool_calls', 'logprobs': None}, name='packaging_agent', id='run-4733342f-219b-4cf8-b93c-7e75650577a1-0', tool_calls=[{'name': 'emissions_factor_finder_tool', 'args': {'process_desc': 'cardboard production', 'phase': 'production'}, 'id': 'call_fcSGTOMnI3o31DUk9zoKk2iF', 'type': 'tool_call'}, {'name': 'emissions_factor_finder_tool', 'args': {'process_desc': 'paper production', 'phase': 'production'}, 'id': 'call_kRXHVxS4KMU5SJEyeNk3jl1h', 'type': 'tool_call'}, {'name': 'emissions_factor_finder_tool', 'args': {'process_desc': 'plastic production', 'phase': 'production'}, 'id': 'call_Bvtszlmlb8bPcjbt0zJxDBWw', 'type': 'tool_call'}], usage_metadata={'input_tokens': 235, 'output_tokens': 196, 'total_tokens': 431, 'input_token_details': {'audio': 0, 'cache_read': 0}, 'output_token_details': {'audio': 0, 'reasoning': 0}}), ToolMessage(content='{\"kgCO2e\": 1.5, \"units\": \"kgCO2e per kg of cardboard\", \"description\": \"The carbon emissions factor for the production phase of cardboard manufacturing, which includes the energy used in processing raw materials, transportation, and the operation of machinery.\"}', name='emissions_factor_finder_tool', id='ee8f1a0e-5c05-4b04-9c8f-88ba75fddaef', tool_call_id='call_fcSGTOMnI3o31DUk9zoKk2iF'), ToolMessage(content='{\"kgCO2e\": 1.5, \"units\": \"kgCO2e per kg of paper\", \"description\": \"The carbon emissions factor for paper production during the production phase, which includes the energy used in the manufacturing process, emissions from chemical reactions, and other related activities.\"}', name='emissions_factor_finder_tool', id='7054e560-30b1-4326-ac35-1e7ef8194aa4', tool_call_id='call_kRXHVxS4KMU5SJEyeNk3jl1h'), ToolMessage(content='{\"kgCO2e\": 2.5, \"units\": \"per kg of plastic\", \"description\": \"The carbon emissions factor for plastic production during the production phase is estimated to be 2.5 kgCO2e per kg of plastic. This estimate accounts for the energy-intensive processes involved in converting raw materials into plastic products, including polymerization, extrusion, and molding. The emissions factor can vary based on the type of plastic, the energy sources used, and the efficiency of the production process.\"}', name='emissions_factor_finder_tool', id='ee2620a3-f7bc-47dc-84b3-17d639457c6f', tool_call_id='call_Bvtszlmlb8bPcjbt0zJxDBWw'), AIMessage(content=\"We have the following emissions factors for the materials typically used in smartphone packaging:\\n\\n1. **Cardboard**: 1.5 kgCO2e per kg\\n2. **Paper**: 1.5 kgCO2e per kg\\n3. **Plastic**: 2.5 kgCO2e per kg\\n\\nNext, we need to estimate the weight of each material used in the packaging of an Apple iPhone 15 Pro. Based on typical smartphone packaging, let's assume the following reasonable estimates:\\n\\n- Cardboard: 0.2 kg\\n- Paper: 0.05 kg\\n- Plastic: 0.01 kg\\n\\nNow, let's calculate the total carbon footprint of the packaging by multiplying the weight of each material by its respective emissions factor and summing the results.\", additional_kwargs={'tool_calls': [{'id': 'call_aAFgDo8nuI5CXdb9nAlcYRSM', 'function': {'arguments': '{\"expression\":\"(0.2 * 1.5) + (0.05 * 1.5) + (0.01 * 2.5)\"}', 'name': 'calculator'}, 'type': 'function'}], 'refusal': None}, response_metadata={'token_usage': {'completion_tokens': 209, 'prompt_tokens': 675, 'total_tokens': 884, 'completion_tokens_details': {'accepted_prediction_tokens': 0, 'audio_tokens': 0, 'reasoning_tokens': 0, 'rejected_prediction_tokens': 0}, 'prompt_tokens_details': {'audio_tokens': 0, 'cached_tokens': 0}}, 'model_name': 'gpt-4o-2024-08-06', 'system_fingerprint': 'fp_90122d973c', 'id': 'chatcmpl-BUyassKGvBZ6ChXK1ELndkwNW52Ku', 'finish_reason': 'tool_calls', 'logprobs': None}, name='packaging_agent', id='run-3b800aa3-e2b2-47ab-a5f3-4730ebf6b78a-0', tool_calls=[{'name': 'calculator', 'args': {'expression': '(0.2 * 1.5) + (0.05 * 1.5) + (0.01 * 2.5)'}, 'id': 'call_aAFgDo8nuI5CXdb9nAlcYRSM', 'type': 'tool_call'}], usage_metadata={'input_tokens': 675, 'output_tokens': 209, 'total_tokens': 884, 'input_token_details': {'audio': 0, 'cache_read': 0}, 'output_token_details': {'audio': 0, 'reasoning': 0}}), ToolMessage(content='0.4000000000000001', name='calculator', id='ab70ab33-aa51-47f9-96b6-2cff53f5d393', tool_call_id='call_aAFgDo8nuI5CXdb9nAlcYRSM'), AIMessage(content='The estimated carbon footprint of the packaging for the Apple iPhone 15 Pro is approximately 0.4 kg of CO2e.', additional_kwargs={'refusal': None}, response_metadata={'token_usage': {'completion_tokens': 29, 'prompt_tokens': 908, 'total_tokens': 937, 'completion_tokens_details': {'accepted_prediction_tokens': 0, 'audio_tokens': 0, 'reasoning_tokens': 0, 'rejected_prediction_tokens': 0}, 'prompt_tokens_details': {'audio_tokens': 0, 'cached_tokens': 0}}, 'model_name': 'gpt-4o-2024-08-06', 'system_fingerprint': 'fp_90122d973c', 'id': 'chatcmpl-BUyay56vHz82wgYH9j32dPQUYxJHS', 'finish_reason': 'stop', 'logprobs': None}, name='packaging_agent', id='run-c01c0f15-5dd7-4aa0-bf21-1322f3629102-0', usage_metadata={'input_tokens': 908, 'output_tokens': 29, 'total_tokens': 937, 'input_token_details': {'audio': 0, 'cache_read': 0}, 'output_token_details': {'audio': 0, 'reasoning': 0}})]}, 'transportation': {'carbon': 0.1, 'summary': 'The transportation of an Apple iPhone 15 Pro from China to the United States involves ocean freight and road transport, resulting in an estimated carbon footprint of 0.1 kg CO2e. This calculation considers the weight of the product and the distance traveled by each mode of transportation.', 'messages': [HumanMessage(content='Brand: Apple\\nCategory: cellphone\\nDescription: An Apple iPhone 15 Pro', additional_kwargs={}, response_metadata={}, id='68e192a8-8202-48aa-a19a-e9a3749494ef'), AIMessage(content=\"To estimate the carbon footprint of transporting an Apple iPhone 15 Pro, we need to consider the following:\\n\\n1. **Mode of Transportation**: Determine the likely modes of transportation used for shipping the product from the manufacturing site to the end consumer. This typically includes:\\n   - Ocean freight for international shipping.\\n   - Air freight for expedited shipping.\\n   - Road transport by truck for regional distribution.\\n\\n2. **Distance**: Estimate the distance traveled by each mode of transportation. This can vary based on the manufacturing location and the final destination.\\n\\n3. **Weight of the Product**: The weight of the iPhone 15 Pro, including packaging, is needed to calculate the emissions per unit.\\n\\nLet's proceed with the following assumptions:\\n- The iPhone is manufactured in China and shipped to the United States.\\n- The weight of the iPhone 15 Pro, including packaging, is approximately 0.5 kg.\\n- The transportation involves:\\n  - Ocean freight from China to the U.S. (approximately 10,000 km).\\n  - Road transport by truck within the U.S. (approximately 500 km).\\n\\nI will now find the emissions factors for these modes of transportation.\", additional_kwargs={'tool_calls': [{'id': 'call_ou4CaM6YDGzdlUTml8rlVIlM', 'function': {'arguments': '{\"process_desc\": \"Transport, freight, sea, container ship | ocean-going | average\", \"phase\": \"transportation\"}', 'name': 'emissions_factor_finder_tool'}, 'type': 'function'}, {'id': 'call_dU0SDlwc1s6H7pE8tDmGZdKd', 'function': {'arguments': '{\"process_desc\": \"Transport, freight, articulated truck | diesel | EU average\", \"phase\": \"transportation\"}', 'name': 'emissions_factor_finder_tool'}, 'type': 'function'}], 'refusal': None}, response_metadata={'token_usage': {'completion_tokens': 327, 'prompt_tokens': 294, 'total_tokens': 621, 'completion_tokens_details': {'accepted_prediction_tokens': 0, 'audio_tokens': 0, 'reasoning_tokens': 0, 'rejected_prediction_tokens': 0}, 'prompt_tokens_details': {'audio_tokens': 0, 'cached_tokens': 0}}, 'model_name': 'gpt-4o-2024-08-06', 'system_fingerprint': 'fp_d8864f8b6b', 'id': 'chatcmpl-BUyaktDlLpy7Usif6xq5YpTJhHph0', 'finish_reason': 'tool_calls', 'logprobs': None}, name='transportation_agent', id='run-61f198b0-78f3-46bb-baee-b7f7ebac622a-0', tool_calls=[{'name': 'emissions_factor_finder_tool', 'args': {'process_desc': 'Transport, freight, sea, container ship | ocean-going | average', 'phase': 'transportation'}, 'id': 'call_ou4CaM6YDGzdlUTml8rlVIlM', 'type': 'tool_call'}, {'name': 'emissions_factor_finder_tool', 'args': {'process_desc': 'Transport, freight, articulated truck | diesel | EU average', 'phase': 'transportation'}, 'id': 'call_dU0SDlwc1s6H7pE8tDmGZdKd', 'type': 'tool_call'}], usage_metadata={'input_tokens': 294, 'output_tokens': 327, 'total_tokens': 621, 'input_token_details': {'audio': 0, 'cache_read': 0}, 'output_token_details': {'audio': 0, 'reasoning': 0}}), ToolMessage(content='{\"kgCO2e\": 0.015, \"units\": \"kgCO2e per tonne-km\", \"description\": \"This emissions factor represents the average carbon emissions for transporting freight via container ships over ocean routes. It is calculated based on the average fuel consumption and emissions of container ships, considering the typical load and distance traveled.\"}', name='emissions_factor_finder_tool', id='b7efe561-1e72-4826-a58b-c66818b71e96', tool_call_id='call_ou4CaM6YDGzdlUTml8rlVIlM'), ToolMessage(content='{\"kgCO2e\": 0.1, \"units\": \"tonne-km\", \"description\": \"The emissions factor for transporting freight using an articulated truck powered by diesel in the EU. This factor represents the average carbon emissions per tonne of goods transported over one kilometer.\"}', name='emissions_factor_finder_tool', id='b127e9da-392f-48cf-af8a-cddc7374a1fe', tool_call_id='call_dU0SDlwc1s6H7pE8tDmGZdKd'), AIMessage(content='', additional_kwargs={'tool_calls': [{'id': 'call_iL4RINm5jYnJVnAnxgrUt9ie', 'function': {'arguments': '{\"expression\":\"0.5 * 0.015 * 10\"}', 'name': 'calculator'}, 'type': 'function'}], 'refusal': None}, response_metadata={'token_usage': {'completion_tokens': 25, 'prompt_tokens': 769, 'total_tokens': 794, 'completion_tokens_details': {'accepted_prediction_tokens': 0, 'audio_tokens': 0, 'reasoning_tokens': 0, 'rejected_prediction_tokens': 0}, 'prompt_tokens_details': {'audio_tokens': 0, 'cached_tokens': 0}}, 'model_name': 'gpt-4o-2024-08-06', 'system_fingerprint': 'fp_d8864f8b6b', 'id': 'chatcmpl-BUyayhYT2TtD1KsK4JOEvdNFcRwsD', 'finish_reason': 'tool_calls', 'logprobs': None}, name='transportation_agent', id='run-d270857a-20a8-4680-925c-6eb45d707cf6-0', tool_calls=[{'name': 'calculator', 'args': {'expression': '0.5 * 0.015 * 10'}, 'id': 'call_iL4RINm5jYnJVnAnxgrUt9ie', 'type': 'tool_call'}], usage_metadata={'input_tokens': 769, 'output_tokens': 25, 'total_tokens': 794, 'input_token_details': {'audio': 0, 'cache_read': 0}, 'output_token_details': {'audio': 0, 'reasoning': 0}}), ToolMessage(content='0.075', name='calculator', id='67b46ec1-1aeb-417b-9819-5bbbbb600459', tool_call_id='call_iL4RINm5jYnJVnAnxgrUt9ie'), AIMessage(content='', additional_kwargs={'tool_calls': [{'id': 'call_HwR3YcEjK7Aj6VMn8Fmi6wjY', 'function': {'arguments': '{\"expression\":\"0.5 * 0.1 * 0.5\"}', 'name': 'calculator'}, 'type': 'function'}], 'refusal': None}, response_metadata={'token_usage': {'completion_tokens': 27, 'prompt_tokens': 807, 'total_tokens': 834, 'completion_tokens_details': {'accepted_prediction_tokens': 0, 'audio_tokens': 0, 'reasoning_tokens': 0, 'rejected_prediction_tokens': 0}, 'prompt_tokens_details': {'audio_tokens': 0, 'cached_tokens': 0}}, 'model_name': 'gpt-4o-2024-08-06', 'system_fingerprint': 'fp_d8864f8b6b', 'id': 'chatcmpl-BUyazmeGiw4v3MmCHPveNZL0RRsHI', 'finish_reason': 'tool_calls', 'logprobs': None}, name='transportation_agent', id='run-e7ebe6ed-d27d-43e0-b42f-f17776bf8282-0', tool_calls=[{'name': 'calculator', 'args': {'expression': '0.5 * 0.1 * 0.5'}, 'id': 'call_HwR3YcEjK7Aj6VMn8Fmi6wjY', 'type': 'tool_call'}], usage_metadata={'input_tokens': 807, 'output_tokens': 27, 'total_tokens': 834, 'input_token_details': {'audio': 0, 'cache_read': 0}, 'output_token_details': {'audio': 0, 'reasoning': 0}}), ToolMessage(content='0.025', name='calculator', id='4722b472-4535-4630-bdd8-63eaf1f41cdf', tool_call_id='call_HwR3YcEjK7Aj6VMn8Fmi6wjY'), AIMessage(content='The estimated carbon footprint for transporting an Apple iPhone 15 Pro is calculated as follows:\\n\\n1. **Ocean Freight**: \\n   - Emissions Factor: 0.015 kgCO2e per tonne-km\\n   - Distance: 10,000 km\\n   - Weight: 0.5 kg (0.0005 tonnes)\\n   - Carbon Footprint: \\\\(0.0005 \\\\times 0.015 \\\\times 10,000 = 0.075 \\\\, \\\\text{kgCO2e}\\\\)\\n\\n2. **Road Transport by Truck**:\\n   - Emissions Factor: 0.1 kgCO2e per tonne-km\\n   - Distance: 500 km\\n   - Weight: 0.5 kg (0.0005 tonnes)\\n   - Carbon Footprint: \\\\(0.0005 \\\\times 0.1 \\\\times 500 = 0.025 \\\\, \\\\text{kgCO2e}\\\\)\\n\\n**Total Carbon Footprint**: \\\\(0.075 + 0.025 = 0.1 \\\\, \\\\text{kgCO2e}\\\\)\\n\\nTherefore, the estimated carbon footprint for transporting an Apple iPhone 15 Pro is approximately 0.1 kg of CO2e.', additional_kwargs={'refusal': None}, response_metadata={'token_usage': {'completion_tokens': 260, 'prompt_tokens': 847, 'total_tokens': 1107, 'completion_tokens_details': {'accepted_prediction_tokens': 0, 'audio_tokens': 0, 'reasoning_tokens': 0, 'rejected_prediction_tokens': 0}, 'prompt_tokens_details': {'audio_tokens': 0, 'cached_tokens': 0}}, 'model_name': 'gpt-4o-2024-08-06', 'system_fingerprint': 'fp_d8864f8b6b', 'id': 'chatcmpl-BUyb0BiZNZzWEa0jB033Fob3EyHPK', 'finish_reason': 'stop', 'logprobs': None}, name='transportation_agent', id='run-3131d598-7c9a-441a-b282-a063503214d2-0', usage_metadata={'input_tokens': 847, 'output_tokens': 260, 'total_tokens': 1107, 'input_token_details': {'audio': 0, 'cache_read': 0}, 'output_token_details': {'audio': 0, 'reasoning': 0}})]}, 'use': {'carbon': 3.1, 'summary': \"The use-phase of an Apple iPhone 15 Pro involves charging the device regularly, contributing to its carbon footprint. Over a typical lifespan, the phone's use results in approximately 3.10 kg of CO2e emissions, primarily from electricity consumption.\", 'messages': [HumanMessage(content='Brand: Apple\\nCategory: cellphone\\nDescription: An Apple iPhone 15 Pro', additional_kwargs={}, response_metadata={}, id='8895f107-06e6-47df-9777-1eb9ff9eed9c'), AIMessage(content=\"To estimate the carbon footprint of the use-phase of an Apple iPhone 15 Pro, we need to consider the energy consumption during its use and the emissions factor for electricity. The use-phase typically involves charging the device over its expected lifespan.\\n\\n### Steps to Estimate Carbon Footprint:\\n\\n1. **Determine the Average Energy Consumption:**\\n   - Estimate the average energy consumption per charge cycle.\\n   - Estimate the number of charge cycles over the expected lifespan of the phone.\\n\\n2. **Find the Emissions Factor for Electricity:**\\n   - Use the emissions factor for electricity generation, which varies by region.\\n\\n3. **Calculate the Total Carbon Footprint:**\\n   - Multiply the total energy consumption by the emissions factor to get the carbon footprint in kg CO2e.\\n\\nLet's start by finding the emissions factor for electricity and then proceed with the calculations.\", additional_kwargs={'tool_calls': [{'id': 'call_KhklKp1dHMVeqtRmD93vBCR0', 'function': {'arguments': '{\"process_desc\":\"electricity generation\",\"phase\":\"use\"}', 'name': 'emissions_factor_finder_tool'}, 'type': 'function'}], 'refusal': None}, response_metadata={'token_usage': {'completion_tokens': 197, 'prompt_tokens': 237, 'total_tokens': 434, 'completion_tokens_details': {'accepted_prediction_tokens': 0, 'audio_tokens': 0, 'reasoning_tokens': 0, 'rejected_prediction_tokens': 0}, 'prompt_tokens_details': {'audio_tokens': 0, 'cached_tokens': 0}}, 'model_name': 'gpt-4o-2024-08-06', 'system_fingerprint': 'fp_d8864f8b6b', 'id': 'chatcmpl-BUyakIT7Uy11QIa0RzoV9q43IoZmo', 'finish_reason': 'tool_calls', 'logprobs': None}, name='use_agent', id='run-d9531eb8-82e1-410a-b431-868e046514a5-0', tool_calls=[{'name': 'emissions_factor_finder_tool', 'args': {'process_desc': 'electricity generation', 'phase': 'use'}, 'id': 'call_KhklKp1dHMVeqtRmD93vBCR0', 'type': 'tool_call'}], usage_metadata={'input_tokens': 237, 'output_tokens': 197, 'total_tokens': 434, 'input_token_details': {'audio': 0, 'cache_read': 0}, 'output_token_details': {'audio': 0, 'reasoning': 0}}), ToolMessage(content='{\"kgCO2e\": 0.233, \"units\": \"kWh\", \"description\": \"The carbon emissions factor for electricity generation during the use phase is an average value that represents the amount of carbon dioxide equivalent emissions produced per kilowatt-hour of electricity consumed. This factor can vary significantly depending on the energy mix of the electricity grid, with renewable sources like wind and solar having lower emissions compared to fossil fuels like coal and natural gas. The given value is an average estimate for a grid with a moderate mix of renewable and non-renewable energy sources.\"}', name='emissions_factor_finder_tool', id='13b5db70-6afa-465c-a5aa-f32485bb2dce', tool_call_id='call_KhklKp1dHMVeqtRmD93vBCR0'), AIMessage(content=\"The emissions factor for electricity generation during the use phase is approximately 0.233 kg CO2e per kWh.\\n\\n### Assumptions for Calculation:\\n1. **Average Energy Consumption per Charge Cycle:**\\n   - Assume the iPhone 15 Pro has a battery capacity of approximately 3,200 mAh (3.2 Ah) at 3.8V, which is about 12.16 Wh per full charge.\\n\\n2. **Number of Charge Cycles:**\\n   - Assume the phone is charged once every day over a lifespan of 3 years (approximately 1,095 charge cycles).\\n\\n### Calculation:\\n1. **Total Energy Consumption:**\\n   - Total energy consumption over the lifespan = 12.16 Wh/charge * 1,095 charges = 13,315.2 Wh = 13.3152 kWh\\n\\n2. **Total Carbon Footprint:**\\n   - Total carbon footprint = 13.3152 kWh * 0.233 kg CO2e/kWh\\n\\nLet's calculate the total carbon footprint.\", additional_kwargs={'tool_calls': [{'id': 'call_t9LthdgSNTgXEfXsAFVHtncQ', 'function': {'arguments': '{\"expression\":\"13.3152 * 0.233\"}', 'name': 'calculator'}, 'type': 'function'}], 'refusal': None}, response_metadata={'token_usage': {'completion_tokens': 240, 'prompt_tokens': 568, 'total_tokens': 808, 'completion_tokens_details': {'accepted_prediction_tokens': 0, 'audio_tokens': 0, 'reasoning_tokens': 0, 'rejected_prediction_tokens': 0}, 'prompt_tokens_details': {'audio_tokens': 0, 'cached_tokens': 0}}, 'model_name': 'gpt-4o-2024-08-06', 'system_fingerprint': 'fp_d8864f8b6b', 'id': 'chatcmpl-BUyat1bYMfilYaNS1yLix9mjQepiu', 'finish_reason': 'tool_calls', 'logprobs': None}, name='use_agent', id='run-d7f4283a-3e0d-4234-b5b8-6fec271543da-0', tool_calls=[{'name': 'calculator', 'args': {'expression': '13.3152 * 0.233'}, 'id': 'call_t9LthdgSNTgXEfXsAFVHtncQ', 'type': 'tool_call'}], usage_metadata={'input_tokens': 568, 'output_tokens': 240, 'total_tokens': 808, 'input_token_details': {'audio': 0, 'cache_read': 0}, 'output_token_details': {'audio': 0, 'reasoning': 0}}), ToolMessage(content='3.1024416000000006', name='calculator', id='b15b14b5-926c-498f-afe7-dbbafd8aef89', tool_call_id='call_t9LthdgSNTgXEfXsAFVHtncQ'), AIMessage(content='The estimated carbon footprint of the use-phase of an Apple iPhone 15 Pro is approximately 3.10 kg CO2e over its expected lifespan.', additional_kwargs={'refusal': None}, response_metadata={'token_usage': {'completion_tokens': 33, 'prompt_tokens': 830, 'total_tokens': 863, 'completion_tokens_details': {'accepted_prediction_tokens': 0, 'audio_tokens': 0, 'reasoning_tokens': 0, 'rejected_prediction_tokens': 0}, 'prompt_tokens_details': {'audio_tokens': 0, 'cached_tokens': 0}}, 'model_name': 'gpt-4o-2024-08-06', 'system_fingerprint': 'fp_d8864f8b6b', 'id': 'chatcmpl-BUyb0NDfLMGmd235sZV9Qwc40DpyB', 'finish_reason': 'stop', 'logprobs': None}, name='use_agent', id='run-0155835b-e15b-458c-b25b-62c6dc4af6ca-0', usage_metadata={'input_tokens': 830, 'output_tokens': 33, 'total_tokens': 863, 'input_token_details': {'audio': 0, 'cache_read': 0}, 'output_token_details': {'audio': 0, 'reasoning': 0}})]}, 'eol': {'carbon': 1.0, 'summary': 'The end-of-life phase for an Apple iPhone 15 Pro involves recycling and disposal processes, resulting in a carbon footprint of approximately 1.0 kg CO2e. This includes emissions from dismantling, material recovery, and waste management.', 'messages': [HumanMessage(content='Brand: Apple\\nCategory: cellphone\\nDescription: An Apple iPhone 15 Pro', additional_kwargs={}, response_metadata={}, id='faa60617-eee3-44a6-95d8-e9ee1a08fdb8'), AIMessage(content=\"To estimate the carbon footprint of the end-of-life phase for an Apple iPhone 15 Pro, we need to consider the processes involved in this phase, such as recycling, disposal, and transportation. Let's find the emissions factors for these processes and calculate the total carbon footprint.\\n\\nI'll start by finding the emissions factors for recycling and disposal of a cellphone.\", additional_kwargs={'tool_calls': [{'id': 'call_welwdy2dHNpWajfaMxhc16ZX', 'function': {'arguments': '{\"process_desc\": \"recycling of cellphone\", \"phase\": \"end-of-life\"}', 'name': 'emissions_factor_finder_tool'}, 'type': 'function'}, {'id': 'call_vuLLpaIPkKjKpIXA27uh3WjI', 'function': {'arguments': '{\"process_desc\": \"disposal of cellphone\", \"phase\": \"end-of-life\"}', 'name': 'emissions_factor_finder_tool'}, 'type': 'function'}], 'refusal': None}, response_metadata={'token_usage': {'completion_tokens': 145, 'prompt_tokens': 237, 'total_tokens': 382, 'completion_tokens_details': {'accepted_prediction_tokens': 0, 'audio_tokens': 0, 'reasoning_tokens': 0, 'rejected_prediction_tokens': 0}, 'prompt_tokens_details': {'audio_tokens': 0, 'cached_tokens': 0}}, 'model_name': 'gpt-4o-2024-08-06', 'system_fingerprint': 'fp_90122d973c', 'id': 'chatcmpl-BUyakZskyTQs6sq0StZjmOUPPwnWf', 'finish_reason': 'tool_calls', 'logprobs': None}, name='eol_agent', id='run-c7a5491d-9656-4c64-ad73-283c16c1fb1b-0', tool_calls=[{'name': 'emissions_factor_finder_tool', 'args': {'process_desc': 'recycling of cellphone', 'phase': 'end-of-life'}, 'id': 'call_welwdy2dHNpWajfaMxhc16ZX', 'type': 'tool_call'}, {'name': 'emissions_factor_finder_tool', 'args': {'process_desc': 'disposal of cellphone', 'phase': 'end-of-life'}, 'id': 'call_vuLLpaIPkKjKpIXA27uh3WjI', 'type': 'tool_call'}], usage_metadata={'input_tokens': 237, 'output_tokens': 145, 'total_tokens': 382, 'input_token_details': {'audio': 0, 'cache_read': 0}, 'output_token_details': {'audio': 0, 'reasoning': 0}}), ToolMessage(content='{\"kgCO2e\": 0.5, \"units\": \"per cellphone\", \"description\": \"The carbon emissions factor for recycling a cellphone at its end-of-life phase, considering the energy and processes involved in dismantling, material recovery, and transportation.\"}', name='emissions_factor_finder_tool', id='9996f272-3ff4-4f3b-9b9c-500f8a0bb3ab', tool_call_id='call_welwdy2dHNpWajfaMxhc16ZX'), ToolMessage(content='{\"kgCO2e\": 0.5, \"units\": \"per cellphone\", \"description\": \"The carbon emissions factor for the disposal of a cellphone at its end-of-life phase, considering typical recycling and waste management processes.\"}', name='emissions_factor_finder_tool', id='8f983ca0-3fb7-444b-a9ce-2e182907e934', tool_call_id='call_vuLLpaIPkKjKpIXA27uh3WjI'), AIMessage(content=\"The emissions factors for the end-of-life phase of an Apple iPhone 15 Pro are as follows:\\n\\n- Recycling: 0.5 kg CO2e per cellphone\\n- Disposal: 0.5 kg CO2e per cellphone\\n\\nAssuming that the end-of-life phase involves both recycling and disposal processes, the total carbon footprint for the end-of-life phase of an Apple iPhone 15 Pro would be the sum of these two factors.\\n\\nLet's calculate the total carbon footprint.\", additional_kwargs={'tool_calls': [{'id': 'call_aVLaprnhMOiUbgBahnOImKET', 'function': {'arguments': '{\"expression\":\"0.5 + 0.5\"}', 'name': 'calculator'}, 'type': 'function'}], 'refusal': None}, response_metadata={'token_usage': {'completion_tokens': 122, 'prompt_tokens': 502, 'total_tokens': 624, 'completion_tokens_details': {'accepted_prediction_tokens': 0, 'audio_tokens': 0, 'reasoning_tokens': 0, 'rejected_prediction_tokens': 0}, 'prompt_tokens_details': {'audio_tokens': 0, 'cached_tokens': 0}}, 'model_name': 'gpt-4o-2024-08-06', 'system_fingerprint': 'fp_90122d973c', 'id': 'chatcmpl-BUyar3Uw30BZUAtaMto5diUBggEwe', 'finish_reason': 'tool_calls', 'logprobs': None}, name='eol_agent', id='run-8de7b39b-89f5-4af8-9091-afe4b7fd36d9-0', tool_calls=[{'name': 'calculator', 'args': {'expression': '0.5 + 0.5'}, 'id': 'call_aVLaprnhMOiUbgBahnOImKET', 'type': 'tool_call'}], usage_metadata={'input_tokens': 502, 'output_tokens': 122, 'total_tokens': 624, 'input_token_details': {'audio': 0, 'cache_read': 0}, 'output_token_details': {'audio': 0, 'reasoning': 0}}), ToolMessage(content='1.0', name='calculator', id='f2f5f262-e09f-45a5-a557-cd370d7c4cbf', tool_call_id='call_aVLaprnhMOiUbgBahnOImKET'), AIMessage(content='The estimated carbon footprint for the end-of-life phase of an Apple iPhone 15 Pro is 1.0 kg of CO2e.', additional_kwargs={'refusal': None}, response_metadata={'token_usage': {'completion_tokens': 31, 'prompt_tokens': 641, 'total_tokens': 672, 'completion_tokens_details': {'accepted_prediction_tokens': 0, 'audio_tokens': 0, 'reasoning_tokens': 0, 'rejected_prediction_tokens': 0}, 'prompt_tokens_details': {'audio_tokens': 0, 'cached_tokens': 0}}, 'model_name': 'gpt-4o-2024-08-06', 'system_fingerprint': 'fp_90122d973c', 'id': 'chatcmpl-BUyauo0FrIG1EryfByfjp3FYjrNZ2', 'finish_reason': 'stop', 'logprobs': None}, name='eol_agent', id='run-b8407843-3016-4e1e-9daa-5b32b2e7a1e2-0', usage_metadata={'input_tokens': 641, 'output_tokens': 31, 'total_tokens': 672, 'input_token_details': {'audio': 0, 'cache_read': 0}, 'output_token_details': {'audio': 0, 'reasoning': 0}})]}}\n",
      "Running summarizer\n",
      "Finished summarizer\n",
      "UPDATE: {'summarizer': {'messages': [{'role': 'ai', 'content': 'summarizer'}]}}\n",
      "VALUES: {'messages': [HumanMessage(content='This is a test message', additional_kwargs={}, response_metadata={}, id='cf486573-2c66-437d-aa35-242705072784'), AIMessage(content='planner', additional_kwargs={}, response_metadata={}, id='75435617-2c52-4315-825b-1707e6e5074b'), AIMessage(content='manufacturing', additional_kwargs={}, response_metadata={}, id='8a912fe4-656f-4f11-9396-3deac7206a59'), AIMessage(content='summarizer', additional_kwargs={}, response_metadata={}, id='9d49fe10-3cf2-4e87-b0f2-a22e713e59cc')], 'user_input': 'calculate the cradle to gate footprint', 'url': 'https://www.apple.com/iphone-15-pro/', 'brand': 'Apple', 'category': 'cellphone', 'description': 'An Apple iPhone 15 Pro', 'packaging': {'carbon': 0.4, 'summary': 'The packaging life cycle assessment (LCA) for the Apple iPhone 15 Pro involves evaluating the carbon emissions from the production of materials like cardboard, paper, and plastic. The total carbon footprint of the packaging is estimated to be 0.4 kg of CO2e, considering the typical weights and emissions factors of these materials.', 'messages': [HumanMessage(content='Brand: Apple\\nCategory: cellphone\\nDescription: An Apple iPhone 15 Pro', additional_kwargs={}, response_metadata={}, id='59f38443-efee-46a2-b008-bcea38aa5c3f'), AIMessage(content=\"To estimate the carbon footprint of the packaging for the Apple iPhone 15 Pro, we need to consider the materials used in the packaging and the processes involved in its production. Typically, smartphone packaging includes materials like cardboard, paper, and possibly some plastic components. \\n\\nLet's proceed with the following steps:\\n1. Identify the emissions factors for the materials and processes involved in the packaging.\\n2. Calculate the total carbon footprint based on these factors.\\n\\nI'll start by finding the emissions factors for the typical materials used in smartphone packaging.\", additional_kwargs={'tool_calls': [{'id': 'call_fcSGTOMnI3o31DUk9zoKk2iF', 'function': {'arguments': '{\"process_desc\": \"cardboard production\", \"phase\": \"production\"}', 'name': 'emissions_factor_finder_tool'}, 'type': 'function'}, {'id': 'call_kRXHVxS4KMU5SJEyeNk3jl1h', 'function': {'arguments': '{\"process_desc\": \"paper production\", \"phase\": \"production\"}', 'name': 'emissions_factor_finder_tool'}, 'type': 'function'}, {'id': 'call_Bvtszlmlb8bPcjbt0zJxDBWw', 'function': {'arguments': '{\"process_desc\": \"plastic production\", \"phase\": \"production\"}', 'name': 'emissions_factor_finder_tool'}, 'type': 'function'}], 'refusal': None}, response_metadata={'token_usage': {'completion_tokens': 196, 'prompt_tokens': 235, 'total_tokens': 431, 'completion_tokens_details': {'accepted_prediction_tokens': 0, 'audio_tokens': 0, 'reasoning_tokens': 0, 'rejected_prediction_tokens': 0}, 'prompt_tokens_details': {'audio_tokens': 0, 'cached_tokens': 0}}, 'model_name': 'gpt-4o-2024-08-06', 'system_fingerprint': 'fp_90122d973c', 'id': 'chatcmpl-BUyakj7lqoxSpYXiOf1zFxO9wdgAH', 'finish_reason': 'tool_calls', 'logprobs': None}, name='packaging_agent', id='run-4733342f-219b-4cf8-b93c-7e75650577a1-0', tool_calls=[{'name': 'emissions_factor_finder_tool', 'args': {'process_desc': 'cardboard production', 'phase': 'production'}, 'id': 'call_fcSGTOMnI3o31DUk9zoKk2iF', 'type': 'tool_call'}, {'name': 'emissions_factor_finder_tool', 'args': {'process_desc': 'paper production', 'phase': 'production'}, 'id': 'call_kRXHVxS4KMU5SJEyeNk3jl1h', 'type': 'tool_call'}, {'name': 'emissions_factor_finder_tool', 'args': {'process_desc': 'plastic production', 'phase': 'production'}, 'id': 'call_Bvtszlmlb8bPcjbt0zJxDBWw', 'type': 'tool_call'}], usage_metadata={'input_tokens': 235, 'output_tokens': 196, 'total_tokens': 431, 'input_token_details': {'audio': 0, 'cache_read': 0}, 'output_token_details': {'audio': 0, 'reasoning': 0}}), ToolMessage(content='{\"kgCO2e\": 1.5, \"units\": \"kgCO2e per kg of cardboard\", \"description\": \"The carbon emissions factor for the production phase of cardboard manufacturing, which includes the energy used in processing raw materials, transportation, and the operation of machinery.\"}', name='emissions_factor_finder_tool', id='ee8f1a0e-5c05-4b04-9c8f-88ba75fddaef', tool_call_id='call_fcSGTOMnI3o31DUk9zoKk2iF'), ToolMessage(content='{\"kgCO2e\": 1.5, \"units\": \"kgCO2e per kg of paper\", \"description\": \"The carbon emissions factor for paper production during the production phase, which includes the energy used in the manufacturing process, emissions from chemical reactions, and other related activities.\"}', name='emissions_factor_finder_tool', id='7054e560-30b1-4326-ac35-1e7ef8194aa4', tool_call_id='call_kRXHVxS4KMU5SJEyeNk3jl1h'), ToolMessage(content='{\"kgCO2e\": 2.5, \"units\": \"per kg of plastic\", \"description\": \"The carbon emissions factor for plastic production during the production phase is estimated to be 2.5 kgCO2e per kg of plastic. This estimate accounts for the energy-intensive processes involved in converting raw materials into plastic products, including polymerization, extrusion, and molding. The emissions factor can vary based on the type of plastic, the energy sources used, and the efficiency of the production process.\"}', name='emissions_factor_finder_tool', id='ee2620a3-f7bc-47dc-84b3-17d639457c6f', tool_call_id='call_Bvtszlmlb8bPcjbt0zJxDBWw'), AIMessage(content=\"We have the following emissions factors for the materials typically used in smartphone packaging:\\n\\n1. **Cardboard**: 1.5 kgCO2e per kg\\n2. **Paper**: 1.5 kgCO2e per kg\\n3. **Plastic**: 2.5 kgCO2e per kg\\n\\nNext, we need to estimate the weight of each material used in the packaging of an Apple iPhone 15 Pro. Based on typical smartphone packaging, let's assume the following reasonable estimates:\\n\\n- Cardboard: 0.2 kg\\n- Paper: 0.05 kg\\n- Plastic: 0.01 kg\\n\\nNow, let's calculate the total carbon footprint of the packaging by multiplying the weight of each material by its respective emissions factor and summing the results.\", additional_kwargs={'tool_calls': [{'id': 'call_aAFgDo8nuI5CXdb9nAlcYRSM', 'function': {'arguments': '{\"expression\":\"(0.2 * 1.5) + (0.05 * 1.5) + (0.01 * 2.5)\"}', 'name': 'calculator'}, 'type': 'function'}], 'refusal': None}, response_metadata={'token_usage': {'completion_tokens': 209, 'prompt_tokens': 675, 'total_tokens': 884, 'completion_tokens_details': {'accepted_prediction_tokens': 0, 'audio_tokens': 0, 'reasoning_tokens': 0, 'rejected_prediction_tokens': 0}, 'prompt_tokens_details': {'audio_tokens': 0, 'cached_tokens': 0}}, 'model_name': 'gpt-4o-2024-08-06', 'system_fingerprint': 'fp_90122d973c', 'id': 'chatcmpl-BUyassKGvBZ6ChXK1ELndkwNW52Ku', 'finish_reason': 'tool_calls', 'logprobs': None}, name='packaging_agent', id='run-3b800aa3-e2b2-47ab-a5f3-4730ebf6b78a-0', tool_calls=[{'name': 'calculator', 'args': {'expression': '(0.2 * 1.5) + (0.05 * 1.5) + (0.01 * 2.5)'}, 'id': 'call_aAFgDo8nuI5CXdb9nAlcYRSM', 'type': 'tool_call'}], usage_metadata={'input_tokens': 675, 'output_tokens': 209, 'total_tokens': 884, 'input_token_details': {'audio': 0, 'cache_read': 0}, 'output_token_details': {'audio': 0, 'reasoning': 0}}), ToolMessage(content='0.4000000000000001', name='calculator', id='ab70ab33-aa51-47f9-96b6-2cff53f5d393', tool_call_id='call_aAFgDo8nuI5CXdb9nAlcYRSM'), AIMessage(content='The estimated carbon footprint of the packaging for the Apple iPhone 15 Pro is approximately 0.4 kg of CO2e.', additional_kwargs={'refusal': None}, response_metadata={'token_usage': {'completion_tokens': 29, 'prompt_tokens': 908, 'total_tokens': 937, 'completion_tokens_details': {'accepted_prediction_tokens': 0, 'audio_tokens': 0, 'reasoning_tokens': 0, 'rejected_prediction_tokens': 0}, 'prompt_tokens_details': {'audio_tokens': 0, 'cached_tokens': 0}}, 'model_name': 'gpt-4o-2024-08-06', 'system_fingerprint': 'fp_90122d973c', 'id': 'chatcmpl-BUyay56vHz82wgYH9j32dPQUYxJHS', 'finish_reason': 'stop', 'logprobs': None}, name='packaging_agent', id='run-c01c0f15-5dd7-4aa0-bf21-1322f3629102-0', usage_metadata={'input_tokens': 908, 'output_tokens': 29, 'total_tokens': 937, 'input_token_details': {'audio': 0, 'cache_read': 0}, 'output_token_details': {'audio': 0, 'reasoning': 0}})]}, 'transportation': {'carbon': 0.1, 'summary': 'The transportation of an Apple iPhone 15 Pro from China to the United States involves ocean freight and road transport, resulting in an estimated carbon footprint of 0.1 kg CO2e. This calculation considers the weight of the product and the distance traveled by each mode of transportation.', 'messages': [HumanMessage(content='Brand: Apple\\nCategory: cellphone\\nDescription: An Apple iPhone 15 Pro', additional_kwargs={}, response_metadata={}, id='68e192a8-8202-48aa-a19a-e9a3749494ef'), AIMessage(content=\"To estimate the carbon footprint of transporting an Apple iPhone 15 Pro, we need to consider the following:\\n\\n1. **Mode of Transportation**: Determine the likely modes of transportation used for shipping the product from the manufacturing site to the end consumer. This typically includes:\\n   - Ocean freight for international shipping.\\n   - Air freight for expedited shipping.\\n   - Road transport by truck for regional distribution.\\n\\n2. **Distance**: Estimate the distance traveled by each mode of transportation. This can vary based on the manufacturing location and the final destination.\\n\\n3. **Weight of the Product**: The weight of the iPhone 15 Pro, including packaging, is needed to calculate the emissions per unit.\\n\\nLet's proceed with the following assumptions:\\n- The iPhone is manufactured in China and shipped to the United States.\\n- The weight of the iPhone 15 Pro, including packaging, is approximately 0.5 kg.\\n- The transportation involves:\\n  - Ocean freight from China to the U.S. (approximately 10,000 km).\\n  - Road transport by truck within the U.S. (approximately 500 km).\\n\\nI will now find the emissions factors for these modes of transportation.\", additional_kwargs={'tool_calls': [{'id': 'call_ou4CaM6YDGzdlUTml8rlVIlM', 'function': {'arguments': '{\"process_desc\": \"Transport, freight, sea, container ship | ocean-going | average\", \"phase\": \"transportation\"}', 'name': 'emissions_factor_finder_tool'}, 'type': 'function'}, {'id': 'call_dU0SDlwc1s6H7pE8tDmGZdKd', 'function': {'arguments': '{\"process_desc\": \"Transport, freight, articulated truck | diesel | EU average\", \"phase\": \"transportation\"}', 'name': 'emissions_factor_finder_tool'}, 'type': 'function'}], 'refusal': None}, response_metadata={'token_usage': {'completion_tokens': 327, 'prompt_tokens': 294, 'total_tokens': 621, 'completion_tokens_details': {'accepted_prediction_tokens': 0, 'audio_tokens': 0, 'reasoning_tokens': 0, 'rejected_prediction_tokens': 0}, 'prompt_tokens_details': {'audio_tokens': 0, 'cached_tokens': 0}}, 'model_name': 'gpt-4o-2024-08-06', 'system_fingerprint': 'fp_d8864f8b6b', 'id': 'chatcmpl-BUyaktDlLpy7Usif6xq5YpTJhHph0', 'finish_reason': 'tool_calls', 'logprobs': None}, name='transportation_agent', id='run-61f198b0-78f3-46bb-baee-b7f7ebac622a-0', tool_calls=[{'name': 'emissions_factor_finder_tool', 'args': {'process_desc': 'Transport, freight, sea, container ship | ocean-going | average', 'phase': 'transportation'}, 'id': 'call_ou4CaM6YDGzdlUTml8rlVIlM', 'type': 'tool_call'}, {'name': 'emissions_factor_finder_tool', 'args': {'process_desc': 'Transport, freight, articulated truck | diesel | EU average', 'phase': 'transportation'}, 'id': 'call_dU0SDlwc1s6H7pE8tDmGZdKd', 'type': 'tool_call'}], usage_metadata={'input_tokens': 294, 'output_tokens': 327, 'total_tokens': 621, 'input_token_details': {'audio': 0, 'cache_read': 0}, 'output_token_details': {'audio': 0, 'reasoning': 0}}), ToolMessage(content='{\"kgCO2e\": 0.015, \"units\": \"kgCO2e per tonne-km\", \"description\": \"This emissions factor represents the average carbon emissions for transporting freight via container ships over ocean routes. It is calculated based on the average fuel consumption and emissions of container ships, considering the typical load and distance traveled.\"}', name='emissions_factor_finder_tool', id='b7efe561-1e72-4826-a58b-c66818b71e96', tool_call_id='call_ou4CaM6YDGzdlUTml8rlVIlM'), ToolMessage(content='{\"kgCO2e\": 0.1, \"units\": \"tonne-km\", \"description\": \"The emissions factor for transporting freight using an articulated truck powered by diesel in the EU. This factor represents the average carbon emissions per tonne of goods transported over one kilometer.\"}', name='emissions_factor_finder_tool', id='b127e9da-392f-48cf-af8a-cddc7374a1fe', tool_call_id='call_dU0SDlwc1s6H7pE8tDmGZdKd'), AIMessage(content='', additional_kwargs={'tool_calls': [{'id': 'call_iL4RINm5jYnJVnAnxgrUt9ie', 'function': {'arguments': '{\"expression\":\"0.5 * 0.015 * 10\"}', 'name': 'calculator'}, 'type': 'function'}], 'refusal': None}, response_metadata={'token_usage': {'completion_tokens': 25, 'prompt_tokens': 769, 'total_tokens': 794, 'completion_tokens_details': {'accepted_prediction_tokens': 0, 'audio_tokens': 0, 'reasoning_tokens': 0, 'rejected_prediction_tokens': 0}, 'prompt_tokens_details': {'audio_tokens': 0, 'cached_tokens': 0}}, 'model_name': 'gpt-4o-2024-08-06', 'system_fingerprint': 'fp_d8864f8b6b', 'id': 'chatcmpl-BUyayhYT2TtD1KsK4JOEvdNFcRwsD', 'finish_reason': 'tool_calls', 'logprobs': None}, name='transportation_agent', id='run-d270857a-20a8-4680-925c-6eb45d707cf6-0', tool_calls=[{'name': 'calculator', 'args': {'expression': '0.5 * 0.015 * 10'}, 'id': 'call_iL4RINm5jYnJVnAnxgrUt9ie', 'type': 'tool_call'}], usage_metadata={'input_tokens': 769, 'output_tokens': 25, 'total_tokens': 794, 'input_token_details': {'audio': 0, 'cache_read': 0}, 'output_token_details': {'audio': 0, 'reasoning': 0}}), ToolMessage(content='0.075', name='calculator', id='67b46ec1-1aeb-417b-9819-5bbbbb600459', tool_call_id='call_iL4RINm5jYnJVnAnxgrUt9ie'), AIMessage(content='', additional_kwargs={'tool_calls': [{'id': 'call_HwR3YcEjK7Aj6VMn8Fmi6wjY', 'function': {'arguments': '{\"expression\":\"0.5 * 0.1 * 0.5\"}', 'name': 'calculator'}, 'type': 'function'}], 'refusal': None}, response_metadata={'token_usage': {'completion_tokens': 27, 'prompt_tokens': 807, 'total_tokens': 834, 'completion_tokens_details': {'accepted_prediction_tokens': 0, 'audio_tokens': 0, 'reasoning_tokens': 0, 'rejected_prediction_tokens': 0}, 'prompt_tokens_details': {'audio_tokens': 0, 'cached_tokens': 0}}, 'model_name': 'gpt-4o-2024-08-06', 'system_fingerprint': 'fp_d8864f8b6b', 'id': 'chatcmpl-BUyazmeGiw4v3MmCHPveNZL0RRsHI', 'finish_reason': 'tool_calls', 'logprobs': None}, name='transportation_agent', id='run-e7ebe6ed-d27d-43e0-b42f-f17776bf8282-0', tool_calls=[{'name': 'calculator', 'args': {'expression': '0.5 * 0.1 * 0.5'}, 'id': 'call_HwR3YcEjK7Aj6VMn8Fmi6wjY', 'type': 'tool_call'}], usage_metadata={'input_tokens': 807, 'output_tokens': 27, 'total_tokens': 834, 'input_token_details': {'audio': 0, 'cache_read': 0}, 'output_token_details': {'audio': 0, 'reasoning': 0}}), ToolMessage(content='0.025', name='calculator', id='4722b472-4535-4630-bdd8-63eaf1f41cdf', tool_call_id='call_HwR3YcEjK7Aj6VMn8Fmi6wjY'), AIMessage(content='The estimated carbon footprint for transporting an Apple iPhone 15 Pro is calculated as follows:\\n\\n1. **Ocean Freight**: \\n   - Emissions Factor: 0.015 kgCO2e per tonne-km\\n   - Distance: 10,000 km\\n   - Weight: 0.5 kg (0.0005 tonnes)\\n   - Carbon Footprint: \\\\(0.0005 \\\\times 0.015 \\\\times 10,000 = 0.075 \\\\, \\\\text{kgCO2e}\\\\)\\n\\n2. **Road Transport by Truck**:\\n   - Emissions Factor: 0.1 kgCO2e per tonne-km\\n   - Distance: 500 km\\n   - Weight: 0.5 kg (0.0005 tonnes)\\n   - Carbon Footprint: \\\\(0.0005 \\\\times 0.1 \\\\times 500 = 0.025 \\\\, \\\\text{kgCO2e}\\\\)\\n\\n**Total Carbon Footprint**: \\\\(0.075 + 0.025 = 0.1 \\\\, \\\\text{kgCO2e}\\\\)\\n\\nTherefore, the estimated carbon footprint for transporting an Apple iPhone 15 Pro is approximately 0.1 kg of CO2e.', additional_kwargs={'refusal': None}, response_metadata={'token_usage': {'completion_tokens': 260, 'prompt_tokens': 847, 'total_tokens': 1107, 'completion_tokens_details': {'accepted_prediction_tokens': 0, 'audio_tokens': 0, 'reasoning_tokens': 0, 'rejected_prediction_tokens': 0}, 'prompt_tokens_details': {'audio_tokens': 0, 'cached_tokens': 0}}, 'model_name': 'gpt-4o-2024-08-06', 'system_fingerprint': 'fp_d8864f8b6b', 'id': 'chatcmpl-BUyb0BiZNZzWEa0jB033Fob3EyHPK', 'finish_reason': 'stop', 'logprobs': None}, name='transportation_agent', id='run-3131d598-7c9a-441a-b282-a063503214d2-0', usage_metadata={'input_tokens': 847, 'output_tokens': 260, 'total_tokens': 1107, 'input_token_details': {'audio': 0, 'cache_read': 0}, 'output_token_details': {'audio': 0, 'reasoning': 0}})]}, 'use': {'carbon': 3.1, 'summary': \"The use-phase of an Apple iPhone 15 Pro involves charging the device regularly, contributing to its carbon footprint. Over a typical lifespan, the phone's use results in approximately 3.10 kg of CO2e emissions, primarily from electricity consumption.\", 'messages': [HumanMessage(content='Brand: Apple\\nCategory: cellphone\\nDescription: An Apple iPhone 15 Pro', additional_kwargs={}, response_metadata={}, id='8895f107-06e6-47df-9777-1eb9ff9eed9c'), AIMessage(content=\"To estimate the carbon footprint of the use-phase of an Apple iPhone 15 Pro, we need to consider the energy consumption during its use and the emissions factor for electricity. The use-phase typically involves charging the device over its expected lifespan.\\n\\n### Steps to Estimate Carbon Footprint:\\n\\n1. **Determine the Average Energy Consumption:**\\n   - Estimate the average energy consumption per charge cycle.\\n   - Estimate the number of charge cycles over the expected lifespan of the phone.\\n\\n2. **Find the Emissions Factor for Electricity:**\\n   - Use the emissions factor for electricity generation, which varies by region.\\n\\n3. **Calculate the Total Carbon Footprint:**\\n   - Multiply the total energy consumption by the emissions factor to get the carbon footprint in kg CO2e.\\n\\nLet's start by finding the emissions factor for electricity and then proceed with the calculations.\", additional_kwargs={'tool_calls': [{'id': 'call_KhklKp1dHMVeqtRmD93vBCR0', 'function': {'arguments': '{\"process_desc\":\"electricity generation\",\"phase\":\"use\"}', 'name': 'emissions_factor_finder_tool'}, 'type': 'function'}], 'refusal': None}, response_metadata={'token_usage': {'completion_tokens': 197, 'prompt_tokens': 237, 'total_tokens': 434, 'completion_tokens_details': {'accepted_prediction_tokens': 0, 'audio_tokens': 0, 'reasoning_tokens': 0, 'rejected_prediction_tokens': 0}, 'prompt_tokens_details': {'audio_tokens': 0, 'cached_tokens': 0}}, 'model_name': 'gpt-4o-2024-08-06', 'system_fingerprint': 'fp_d8864f8b6b', 'id': 'chatcmpl-BUyakIT7Uy11QIa0RzoV9q43IoZmo', 'finish_reason': 'tool_calls', 'logprobs': None}, name='use_agent', id='run-d9531eb8-82e1-410a-b431-868e046514a5-0', tool_calls=[{'name': 'emissions_factor_finder_tool', 'args': {'process_desc': 'electricity generation', 'phase': 'use'}, 'id': 'call_KhklKp1dHMVeqtRmD93vBCR0', 'type': 'tool_call'}], usage_metadata={'input_tokens': 237, 'output_tokens': 197, 'total_tokens': 434, 'input_token_details': {'audio': 0, 'cache_read': 0}, 'output_token_details': {'audio': 0, 'reasoning': 0}}), ToolMessage(content='{\"kgCO2e\": 0.233, \"units\": \"kWh\", \"description\": \"The carbon emissions factor for electricity generation during the use phase is an average value that represents the amount of carbon dioxide equivalent emissions produced per kilowatt-hour of electricity consumed. This factor can vary significantly depending on the energy mix of the electricity grid, with renewable sources like wind and solar having lower emissions compared to fossil fuels like coal and natural gas. The given value is an average estimate for a grid with a moderate mix of renewable and non-renewable energy sources.\"}', name='emissions_factor_finder_tool', id='13b5db70-6afa-465c-a5aa-f32485bb2dce', tool_call_id='call_KhklKp1dHMVeqtRmD93vBCR0'), AIMessage(content=\"The emissions factor for electricity generation during the use phase is approximately 0.233 kg CO2e per kWh.\\n\\n### Assumptions for Calculation:\\n1. **Average Energy Consumption per Charge Cycle:**\\n   - Assume the iPhone 15 Pro has a battery capacity of approximately 3,200 mAh (3.2 Ah) at 3.8V, which is about 12.16 Wh per full charge.\\n\\n2. **Number of Charge Cycles:**\\n   - Assume the phone is charged once every day over a lifespan of 3 years (approximately 1,095 charge cycles).\\n\\n### Calculation:\\n1. **Total Energy Consumption:**\\n   - Total energy consumption over the lifespan = 12.16 Wh/charge * 1,095 charges = 13,315.2 Wh = 13.3152 kWh\\n\\n2. **Total Carbon Footprint:**\\n   - Total carbon footprint = 13.3152 kWh * 0.233 kg CO2e/kWh\\n\\nLet's calculate the total carbon footprint.\", additional_kwargs={'tool_calls': [{'id': 'call_t9LthdgSNTgXEfXsAFVHtncQ', 'function': {'arguments': '{\"expression\":\"13.3152 * 0.233\"}', 'name': 'calculator'}, 'type': 'function'}], 'refusal': None}, response_metadata={'token_usage': {'completion_tokens': 240, 'prompt_tokens': 568, 'total_tokens': 808, 'completion_tokens_details': {'accepted_prediction_tokens': 0, 'audio_tokens': 0, 'reasoning_tokens': 0, 'rejected_prediction_tokens': 0}, 'prompt_tokens_details': {'audio_tokens': 0, 'cached_tokens': 0}}, 'model_name': 'gpt-4o-2024-08-06', 'system_fingerprint': 'fp_d8864f8b6b', 'id': 'chatcmpl-BUyat1bYMfilYaNS1yLix9mjQepiu', 'finish_reason': 'tool_calls', 'logprobs': None}, name='use_agent', id='run-d7f4283a-3e0d-4234-b5b8-6fec271543da-0', tool_calls=[{'name': 'calculator', 'args': {'expression': '13.3152 * 0.233'}, 'id': 'call_t9LthdgSNTgXEfXsAFVHtncQ', 'type': 'tool_call'}], usage_metadata={'input_tokens': 568, 'output_tokens': 240, 'total_tokens': 808, 'input_token_details': {'audio': 0, 'cache_read': 0}, 'output_token_details': {'audio': 0, 'reasoning': 0}}), ToolMessage(content='3.1024416000000006', name='calculator', id='b15b14b5-926c-498f-afe7-dbbafd8aef89', tool_call_id='call_t9LthdgSNTgXEfXsAFVHtncQ'), AIMessage(content='The estimated carbon footprint of the use-phase of an Apple iPhone 15 Pro is approximately 3.10 kg CO2e over its expected lifespan.', additional_kwargs={'refusal': None}, response_metadata={'token_usage': {'completion_tokens': 33, 'prompt_tokens': 830, 'total_tokens': 863, 'completion_tokens_details': {'accepted_prediction_tokens': 0, 'audio_tokens': 0, 'reasoning_tokens': 0, 'rejected_prediction_tokens': 0}, 'prompt_tokens_details': {'audio_tokens': 0, 'cached_tokens': 0}}, 'model_name': 'gpt-4o-2024-08-06', 'system_fingerprint': 'fp_d8864f8b6b', 'id': 'chatcmpl-BUyb0NDfLMGmd235sZV9Qwc40DpyB', 'finish_reason': 'stop', 'logprobs': None}, name='use_agent', id='run-0155835b-e15b-458c-b25b-62c6dc4af6ca-0', usage_metadata={'input_tokens': 830, 'output_tokens': 33, 'total_tokens': 863, 'input_token_details': {'audio': 0, 'cache_read': 0}, 'output_token_details': {'audio': 0, 'reasoning': 0}})]}, 'eol': {'carbon': 1.0, 'summary': 'The end-of-life phase for an Apple iPhone 15 Pro involves recycling and disposal processes, resulting in a carbon footprint of approximately 1.0 kg CO2e. This includes emissions from dismantling, material recovery, and waste management.', 'messages': [HumanMessage(content='Brand: Apple\\nCategory: cellphone\\nDescription: An Apple iPhone 15 Pro', additional_kwargs={}, response_metadata={}, id='faa60617-eee3-44a6-95d8-e9ee1a08fdb8'), AIMessage(content=\"To estimate the carbon footprint of the end-of-life phase for an Apple iPhone 15 Pro, we need to consider the processes involved in this phase, such as recycling, disposal, and transportation. Let's find the emissions factors for these processes and calculate the total carbon footprint.\\n\\nI'll start by finding the emissions factors for recycling and disposal of a cellphone.\", additional_kwargs={'tool_calls': [{'id': 'call_welwdy2dHNpWajfaMxhc16ZX', 'function': {'arguments': '{\"process_desc\": \"recycling of cellphone\", \"phase\": \"end-of-life\"}', 'name': 'emissions_factor_finder_tool'}, 'type': 'function'}, {'id': 'call_vuLLpaIPkKjKpIXA27uh3WjI', 'function': {'arguments': '{\"process_desc\": \"disposal of cellphone\", \"phase\": \"end-of-life\"}', 'name': 'emissions_factor_finder_tool'}, 'type': 'function'}], 'refusal': None}, response_metadata={'token_usage': {'completion_tokens': 145, 'prompt_tokens': 237, 'total_tokens': 382, 'completion_tokens_details': {'accepted_prediction_tokens': 0, 'audio_tokens': 0, 'reasoning_tokens': 0, 'rejected_prediction_tokens': 0}, 'prompt_tokens_details': {'audio_tokens': 0, 'cached_tokens': 0}}, 'model_name': 'gpt-4o-2024-08-06', 'system_fingerprint': 'fp_90122d973c', 'id': 'chatcmpl-BUyakZskyTQs6sq0StZjmOUPPwnWf', 'finish_reason': 'tool_calls', 'logprobs': None}, name='eol_agent', id='run-c7a5491d-9656-4c64-ad73-283c16c1fb1b-0', tool_calls=[{'name': 'emissions_factor_finder_tool', 'args': {'process_desc': 'recycling of cellphone', 'phase': 'end-of-life'}, 'id': 'call_welwdy2dHNpWajfaMxhc16ZX', 'type': 'tool_call'}, {'name': 'emissions_factor_finder_tool', 'args': {'process_desc': 'disposal of cellphone', 'phase': 'end-of-life'}, 'id': 'call_vuLLpaIPkKjKpIXA27uh3WjI', 'type': 'tool_call'}], usage_metadata={'input_tokens': 237, 'output_tokens': 145, 'total_tokens': 382, 'input_token_details': {'audio': 0, 'cache_read': 0}, 'output_token_details': {'audio': 0, 'reasoning': 0}}), ToolMessage(content='{\"kgCO2e\": 0.5, \"units\": \"per cellphone\", \"description\": \"The carbon emissions factor for recycling a cellphone at its end-of-life phase, considering the energy and processes involved in dismantling, material recovery, and transportation.\"}', name='emissions_factor_finder_tool', id='9996f272-3ff4-4f3b-9b9c-500f8a0bb3ab', tool_call_id='call_welwdy2dHNpWajfaMxhc16ZX'), ToolMessage(content='{\"kgCO2e\": 0.5, \"units\": \"per cellphone\", \"description\": \"The carbon emissions factor for the disposal of a cellphone at its end-of-life phase, considering typical recycling and waste management processes.\"}', name='emissions_factor_finder_tool', id='8f983ca0-3fb7-444b-a9ce-2e182907e934', tool_call_id='call_vuLLpaIPkKjKpIXA27uh3WjI'), AIMessage(content=\"The emissions factors for the end-of-life phase of an Apple iPhone 15 Pro are as follows:\\n\\n- Recycling: 0.5 kg CO2e per cellphone\\n- Disposal: 0.5 kg CO2e per cellphone\\n\\nAssuming that the end-of-life phase involves both recycling and disposal processes, the total carbon footprint for the end-of-life phase of an Apple iPhone 15 Pro would be the sum of these two factors.\\n\\nLet's calculate the total carbon footprint.\", additional_kwargs={'tool_calls': [{'id': 'call_aVLaprnhMOiUbgBahnOImKET', 'function': {'arguments': '{\"expression\":\"0.5 + 0.5\"}', 'name': 'calculator'}, 'type': 'function'}], 'refusal': None}, response_metadata={'token_usage': {'completion_tokens': 122, 'prompt_tokens': 502, 'total_tokens': 624, 'completion_tokens_details': {'accepted_prediction_tokens': 0, 'audio_tokens': 0, 'reasoning_tokens': 0, 'rejected_prediction_tokens': 0}, 'prompt_tokens_details': {'audio_tokens': 0, 'cached_tokens': 0}}, 'model_name': 'gpt-4o-2024-08-06', 'system_fingerprint': 'fp_90122d973c', 'id': 'chatcmpl-BUyar3Uw30BZUAtaMto5diUBggEwe', 'finish_reason': 'tool_calls', 'logprobs': None}, name='eol_agent', id='run-8de7b39b-89f5-4af8-9091-afe4b7fd36d9-0', tool_calls=[{'name': 'calculator', 'args': {'expression': '0.5 + 0.5'}, 'id': 'call_aVLaprnhMOiUbgBahnOImKET', 'type': 'tool_call'}], usage_metadata={'input_tokens': 502, 'output_tokens': 122, 'total_tokens': 624, 'input_token_details': {'audio': 0, 'cache_read': 0}, 'output_token_details': {'audio': 0, 'reasoning': 0}}), ToolMessage(content='1.0', name='calculator', id='f2f5f262-e09f-45a5-a557-cd370d7c4cbf', tool_call_id='call_aVLaprnhMOiUbgBahnOImKET'), AIMessage(content='The estimated carbon footprint for the end-of-life phase of an Apple iPhone 15 Pro is 1.0 kg of CO2e.', additional_kwargs={'refusal': None}, response_metadata={'token_usage': {'completion_tokens': 31, 'prompt_tokens': 641, 'total_tokens': 672, 'completion_tokens_details': {'accepted_prediction_tokens': 0, 'audio_tokens': 0, 'reasoning_tokens': 0, 'rejected_prediction_tokens': 0}, 'prompt_tokens_details': {'audio_tokens': 0, 'cached_tokens': 0}}, 'model_name': 'gpt-4o-2024-08-06', 'system_fingerprint': 'fp_90122d973c', 'id': 'chatcmpl-BUyauo0FrIG1EryfByfjp3FYjrNZ2', 'finish_reason': 'stop', 'logprobs': None}, name='eol_agent', id='run-b8407843-3016-4e1e-9daa-5b32b2e7a1e2-0', usage_metadata={'input_tokens': 641, 'output_tokens': 31, 'total_tokens': 672, 'input_token_details': {'audio': 0, 'cache_read': 0}, 'output_token_details': {'audio': 0, 'reasoning': 0}})]}}\n"
     ]
    }
   ],
   "source": [
    "config = {\"configurable\": {\"thread_id\": \"10\"}}\n",
    "with ConnectionPool(\n",
    "    conninfo=DB_URI,\n",
    "    max_size=20,\n",
    "    kwargs=connection_kwargs,\n",
    ") as pool:\n",
    "    checkpointer = PostgresSaver(pool)\n",
    "\n",
    "    #graph = graph_builder.compile(checkpointer=checkpointer)\n",
    "    # For testing, start over each time and don't use a checkpointer\n",
    "    graph = graph_builder.compile()\n",
    "    # res = graph.invoke({\n",
    "    #     \"user_input\": \"calculate the cradle to gate footprint\",\n",
    "    #     \"url\": \"https://www.apple.com/iphone-15-pro/\",\n",
    "    #     \"messages\": [(\"human\", \"This is a test message\")]\n",
    "    # }, config)\n",
    "    # checkpoint = checkpointer.get(config)\n",
    "\n",
    "    events = graph.stream(\n",
    "        {\n",
    "            \"user_input\": \"calculate the cradle to gate footprint\",\n",
    "            \"url\": \"https://www.apple.com/iphone-15-pro/\",\n",
    "            \"messages\": [(\"human\", \"This is a test message\")]\n",
    "        },\n",
    "        config, \n",
    "        # See https://langchain-ai.github.io/langgraph/how-tos/streaming/\n",
    "        stream_mode=[\"updates\", \"values\"]\n",
    "    )\n",
    "    # heads up, some print statements are actually debug prints from the tools and agents\n",
    "    for mode, event in events:\n",
    "        # This will stream the LLM calls as tokens are generated (suppressing here, gets messy)\n",
    "        # if mode == \"messages\":\n",
    "        #     print(\"MESSAGES:\")\n",
    "        #     msg, metadata = event\n",
    "        #     if msg.content:\n",
    "        #         print(msg.content, end=\"\", flush=True)\n",
    "        if mode == \"updates\":\n",
    "            print(\"UPDATE:\", event)\n",
    "\n",
    "        elif mode == \"values\":\n",
    "            print(\"VALUES:\", event)\n",
    "\n",
    "#display(res)\n",
    "# print(checkpoint)"
   ]
  },
  {
   "cell_type": "markdown",
   "metadata": {},
   "source": [
    "# Testing"
   ]
  },
  {
   "cell_type": "code",
   "execution_count": 18,
   "metadata": {},
   "outputs": [
    {
     "name": "stderr",
     "output_type": "stream",
     "text": [
      "INFO:httpx:HTTP Request: POST https://api.openai.com/v1/chat/completions \"HTTP/1.1 200 OK\"\n"
     ]
    },
    {
     "data": {
      "text/plain": [
       "{'kgCO2e': 0.5,\n",
       " 'units': 'kWh',\n",
       " 'description': 'The carbon emissions factor for electricity usage in Hawaii during the manufacturing phase. This estimate considers the energy mix in Hawaii, which includes a significant portion of renewable energy sources such as solar and wind, alongside traditional fossil fuels.',\n",
       " 'citation_desc': \"This value is from gpt-4o's parametric knowledge\",\n",
       " 'citation_url': 'N/A'}"
      ]
     },
     "metadata": {},
     "output_type": "display_data"
    },
    {
     "name": "stderr",
     "output_type": "stream",
     "text": [
      "INFO:httpx:HTTP Request: POST https://api.openai.com/v1/chat/completions \"HTTP/1.1 200 OK\"\n"
     ]
    },
    {
     "name": "stdout",
     "output_type": "stream",
     "text": [
      "kgCO2e=1122.1 units='MWh' description='Total output emission factor for electricity usage in the HICC Miscellaneous subregion, which includes Maui County islands & Hawaiʻi (“Big Island”) grids.'\n"
     ]
    },
    {
     "data": {
      "text/plain": [
       "{'kgCO2e': 1122.1,\n",
       " 'units': 'MWh',\n",
       " 'description': 'Total output emission factor for electricity usage in the HICC Miscellaneous subregion, which includes Maui County islands & Hawaiʻi (“Big Island”) grids.',\n",
       " 'citation_desc': 'The 2025 annual update of the Emission Factors Hub (January 2025) includes updates to emission factors for purchased electricity from eGRID, mobile combustion, upstream and downstream transportation, business travel, product transport, and employee commuting.',\n",
       " 'citation_url': 'https://www.epa.gov/climateleadership/ghg-emission-factors-hub'}"
      ]
     },
     "metadata": {},
     "output_type": "display_data"
    }
   ],
   "source": [
    "from agents.transportation import transportation_phase\n",
    "from agents.use import use_phase\n",
    "from agents.eol import eol_phase\n",
    "from tools.emissions_factors import emissions_factor_finder, epa_ef_finder\n",
    "#transportation_phase({\"brand\": \"Apple\", \"category\": \"cellphone\", \"description\": \"An iPhone 15\"})\n",
    "#use_phase({\"brand\": \"Apple\", \"category\": \"cellphone\", \"description\": \"An iPhone 15\"})\n",
    "#eol_phase({\"brand\": \"Apple\", \"category\": \"cellphone\", \"description\": \"An iPhone 15\"})\n",
    "\n",
    "out = emissions_factor_finder(\"electricity usage in Hawaii\", \"manufacturing\")\n",
    "display(out)\n",
    "out = epa_ef_finder(\"electricity usage in Hawaii\", \"manufacturing\")\n",
    "display(out)"
   ]
  },
  {
   "cell_type": "code",
   "execution_count": null,
   "metadata": {},
   "outputs": [
    {
     "name": "stdout",
     "output_type": "stream",
     "text": [
      "           +-----------+             \n",
      "           | __start__ |             \n",
      "           +-----------+             \n",
      "           ***        ***            \n",
      "          *              *           \n",
      "        **                **         \n",
      "+----------+           +----------+  \n",
      "| source-0 |           | source-1 |  \n",
      "+----------+           +----------+  \n",
      "           ***        ***            \n",
      "              *      *               \n",
      "               **  **                \n",
      "         +---------------+           \n",
      "         | source_picker |           \n",
      "         +---------------+           \n",
      "                  *                  \n",
      "                  *                  \n",
      "                  *                  \n",
      "            +---------+              \n",
      "            | __end__ |              \n",
      "            +---------+              \n"
     ]
    }
   ],
   "source": [
    "from langgraph.graph import StateGraph, START, END\n",
    "from tools.emissions_factors import EFState\n",
    "from tools.emissions_factors_sources.epa_emissions_factors_hub import epa_ef_finder\n",
    "from tools.emissions_factors_sources.parametric_knowledge import parametric_knowledge_ef_finder\n",
    "\n",
    "\n",
    "def source_picker(state:EFState):\n",
    "    # Remove invalid candidates (those with a negative factor value)\n",
    "    valid_candidates = [c for c in state[\"ef_candidates\"] if c[\"CO2e_factor\"] >= 0]\n",
    "\n",
    "    # If there's only one valid candidate, just return it\n",
    "    if len(valid_candidates) == 1:\n",
    "        return {\"emissions_factor\": valid_candidates[0]}\n",
    "    \n",
    "    class BestIndex(BaseModel):\n",
    "        best_index: int = Field(description=\"The index (starting at zero) of the best emission factor candidate\")\n",
    "\n",
    "    ef_picker_llm = ChatOpenAI(\n",
    "        model_name=\"gpt-4o\", \n",
    "        temperature=0,\n",
    "    ).with_structured_output(BestIndex)\n",
    "\n",
    "    sys_prompt = \"\"\"\n",
    "    You will be provided with 2 or more CO2 emissions factor values. Evaluate\n",
    "    the sources and decide which is the best fit for the supplied process and\n",
    "    analysis phase. Always prefer an emissions factor with a real citation\n",
    "    over an emissions factor based on parametric knowledge.\n",
    "    \"\"\"\n",
    "    data_prompt = f\"Process: {state['process_desc']}, Phase: {state['phase']}\\n\\n---\\n\\n\"\n",
    "    data_prompt += \"\\n\\n\".join([f\"[{i}]: {c}\" for i, c in enumerate(valid_candidates)])\n",
    "\n",
    "    response:BestIndex = ef_picker_llm.invoke([\n",
    "        {\"role\": \"system\", \"content\": sys_prompt},\n",
    "        {\"role\": \"user\", \"content\": data_prompt}\n",
    "    ])\n",
    "\n",
    "    return {\"emissions_factor\": valid_candidates[response.best_index]}\n",
    "\n",
    "builder = StateGraph(EFState)\n",
    "builder.add_node(source_picker)\n",
    "sources = [\n",
    "    parametric_knowledge_ef_finder, \n",
    "    epa_ef_finder\n",
    "]\n",
    "named_sources = {f\"source-{i}\": source for i, source in enumerate(sources)}\n",
    "\n",
    "# Fan out\n",
    "for name, source in named_sources.items():\n",
    "    builder.add_node(name, source)\n",
    "    builder.add_edge(START, name)\n",
    "\n",
    "# Fan in\n",
    "builder.add_edge(named_sources.keys(), \"source_picker\")\n",
    "builder.add_edge(\"source_picker\", END)\n",
    "\n",
    "ef_graph = builder.compile()\n",
    "ef_graph.get_graph().print_ascii()"
   ]
  },
  {
   "cell_type": "code",
   "execution_count": 59,
   "metadata": {},
   "outputs": [
    {
     "name": "stderr",
     "output_type": "stream",
     "text": [
      "INFO:httpx:HTTP Request: POST https://api.openai.com/v1/chat/completions \"HTTP/1.1 200 OK\"\n",
      "INFO:httpx:HTTP Request: POST https://api.openai.com/v1/chat/completions \"HTTP/1.1 200 OK\"\n",
      "INFO:httpx:HTTP Request: POST https://api.openai.com/v1/chat/completions \"HTTP/1.1 200 OK\"\n"
     ]
    },
    {
     "data": {
      "text/plain": [
       "{'ef_candidates': [{'CO2e_factor': 0.2,\n",
       "   'units': 'kgCO2e/ton-mile',\n",
       "   'description': 'The emissions factor for heavy-duty trucks during the transportation phase represents the average carbon dioxide equivalent emissions per ton of freight transported over a mile. This factor accounts for the fuel efficiency, load capacity, and typical operating conditions of heavy-duty trucks.',\n",
       "   'citation_desc': 'parametric knowledge',\n",
       "   'citation_url': 'N/A'},\n",
       "  {'CO2e_factor': 0.2050278,\n",
       "   'units': 'kgCO2/tonne-mile',\n",
       "   'description': 'The emissions factor for medium- and heavy-duty trucks during transportation, measured in kg CO2 per short ton-mile.',\n",
       "   'citation_desc': 'The 2025 annual update of the Emission Factors Hub (January 2025)',\n",
       "   'citation_url': 'https://www.epa.gov/climateleadership/ghg-emission-factors-hub'}],\n",
       " 'emissions_factor': {'CO2e_factor': 0.2050278,\n",
       "  'units': 'kgCO2/tonne-mile',\n",
       "  'description': 'The emissions factor for medium- and heavy-duty trucks during transportation, measured in kg CO2 per short ton-mile.',\n",
       "  'citation_desc': 'The 2025 annual update of the Emission Factors Hub (January 2025)',\n",
       "  'citation_url': 'https://www.epa.gov/climateleadership/ghg-emission-factors-hub'},\n",
       " 'process_desc': 'Heavy duty truck',\n",
       " 'phase': 'transporation'}"
      ]
     },
     "execution_count": 59,
     "metadata": {},
     "output_type": "execute_result"
    }
   ],
   "source": [
    "#ef_graph.invoke({\"process_desc\": \"electricity usage in Hawaii\", \"phase\": \"manufacturing\"})\n",
    "#ef_graph.invoke({\"process_desc\": \"pig skin\", \"phase\": \"manufacturing\"})\n",
    "ef_graph.invoke({\"process_desc\": \"Heavy duty truck\", \"phase\": \"transporation\"})"
   ]
  },
  {
   "cell_type": "code",
   "execution_count": 6,
   "metadata": {},
   "outputs": [
    {
     "name": "stdout",
     "output_type": "stream",
     "text": [
      "TOOL: Emissions Factor Finder transportation of goods by truck transport\n",
      "TOOL: Emissions Factor Finder banana production production\n"
     ]
    },
    {
     "data": {
      "text/plain": [
       "{'messages': [AIMessage(content='', additional_kwargs={'tool_calls': [{'id': 'call_dYHRFGF2I8HLD4ja2RFXv9W9', 'function': {'arguments': '{\"process_desc\": \"transportation of goods by truck\", \"phase\": \"transport\"}', 'name': 'emissions_factor_finder_tool'}, 'type': 'function'}, {'id': 'call_JdebX0uUkNlH68SgflyyPRLE', 'function': {'arguments': '{\"process_desc\": \"banana production\", \"phase\": \"production\"}', 'name': 'emissions_factor_finder_tool'}, 'type': 'function'}], 'refusal': None}, response_metadata={'token_usage': {'completion_tokens': 69, 'prompt_tokens': 72, 'total_tokens': 141, 'completion_tokens_details': {'accepted_prediction_tokens': 0, 'audio_tokens': 0, 'reasoning_tokens': 0, 'rejected_prediction_tokens': 0}, 'prompt_tokens_details': {'audio_tokens': 0, 'cached_tokens': 0}}, 'model_name': 'gpt-4o-2024-08-06', 'system_fingerprint': 'fp_47f3ebdcfb', 'id': 'chatcmpl-BVB9avlOeD2kYoc4iuQzSIhGEgq3Z', 'finish_reason': 'tool_calls', 'logprobs': None}, name='test_agent', id='run-82af7422-3373-49cc-8a70-64a22b97ffc5-0', tool_calls=[{'name': 'emissions_factor_finder_tool', 'args': {'process_desc': 'transportation of goods by truck', 'phase': 'transport'}, 'id': 'call_dYHRFGF2I8HLD4ja2RFXv9W9', 'type': 'tool_call'}, {'name': 'emissions_factor_finder_tool', 'args': {'process_desc': 'banana production', 'phase': 'production'}, 'id': 'call_JdebX0uUkNlH68SgflyyPRLE', 'type': 'tool_call'}], usage_metadata={'input_tokens': 72, 'output_tokens': 69, 'total_tokens': 141, 'input_token_details': {'audio': 0, 'cache_read': 0}, 'output_token_details': {'audio': 0, 'reasoning': 0}}),\n",
       "  ToolMessage(content='{\"CO2e_factor\": 0.2050278, \"units\": \"kgCO2/tonne-mile\", \"description\": \"The emissions factor for transportation of goods by medium- and heavy-duty trucks, which are typically used for freight transportation.\", \"citation_desc\": \"The 2025 annual update of the Emission Factors Hub (January 2025)\", \"citation_url\": \"https://www.epa.gov/climateleadership/ghg-emission-factors-hub\"}', name='emissions_factor_finder_tool', id='66273147-18ac-401f-923d-242831655483', tool_call_id='call_dYHRFGF2I8HLD4ja2RFXv9W9'),\n",
       "  ToolMessage(content='{\"CO2e_factor\": 0.5, \"units\": \"kgCO2e/kg\", \"description\": \"This emissions factor represents the average carbon emissions associated with the production phase of banana cultivation. It includes emissions from activities such as land preparation, planting, fertilization, irrigation, and harvesting. The value is an estimate and can vary based on agricultural practices, geographical location, and the use of inputs like fertilizers and pesticides.\", \"citation_desc\": \"parametric knowledge\", \"citation_url\": \"N/A\"}', name='emissions_factor_finder_tool', id='61dd6747-4800-4a99-af63-6295eaacb099', tool_call_id='call_JdebX0uUkNlH68SgflyyPRLE'),\n",
       "  AIMessage(content='To calculate the emissions of a banana transported by truck from South America to Seattle, we need to consider both the production and transportation phases.\\n\\n### Emissions Factors:\\n1. **Transportation by Truck:**\\n   - **Emissions Factor:** 0.2050278 kgCO2e per tonne-mile\\n   - **Description:** This factor is for medium- and heavy-duty trucks typically used for freight transportation.\\n   - **Source:** [EPA Emission Factors Hub (2025)](https://www.epa.gov/climateleadership/ghg-emission-factors-hub)\\n\\n2. **Banana Production:**\\n   - **Emissions Factor:** 0.5 kgCO2e per kg of bananas\\n   - **Description:** This factor includes emissions from land preparation, planting, fertilization, irrigation, and harvesting.\\n   - **Source:** Parametric knowledge\\n\\n### Calculation Steps:\\n1. **Determine the Distance:**\\n   - Calculate the distance from a typical banana-producing region in South America (e.g., Ecuador) to Seattle. This is approximately 4,000 miles.\\n\\n2. **Calculate Transportation Emissions:**\\n   - Assume a typical truck load of bananas is about 20 tonnes.\\n   - Transportation emissions = 0.2050278 kgCO2e/tonne-mile * 20 tonnes * 4,000 miles\\n\\n3. **Calculate Production Emissions:**\\n   - Production emissions = 0.5 kgCO2e/kg * 20,000 kg (since 1 tonne = 1,000 kg)\\n\\n### Total Emissions:\\n- **Transportation Emissions:** \\\\(0.2050278 \\\\times 20 \\\\times 4,000 = 16,402.224 \\\\, \\\\text{kgCO2e}\\\\)\\n- **Production Emissions:** \\\\(0.5 \\\\times 20,000 = 10,000 \\\\, \\\\text{kgCO2e}\\\\)\\n\\n- **Total Emissions:** \\\\(16,402.224 + 10,000 = 26,402.224 \\\\, \\\\text{kgCO2e}\\\\)\\n\\nThis total represents the carbon emissions associated with transporting and producing a truckload of bananas from South America to Seattle.', additional_kwargs={'refusal': None}, response_metadata={'token_usage': {'completion_tokens': 453, 'prompt_tokens': 359, 'total_tokens': 812, 'completion_tokens_details': {'accepted_prediction_tokens': 0, 'audio_tokens': 0, 'reasoning_tokens': 0, 'rejected_prediction_tokens': 0}, 'prompt_tokens_details': {'audio_tokens': 0, 'cached_tokens': 0}}, 'model_name': 'gpt-4o-2024-08-06', 'system_fingerprint': 'fp_47f3ebdcfb', 'id': 'chatcmpl-BVB9fmPTsTah2tbfx9dvhnG1iDIkT', 'finish_reason': 'stop', 'logprobs': None}, name='test_agent', id='run-c0099d04-aab3-47c1-abff-a46ea1ac8779-0', usage_metadata={'input_tokens': 359, 'output_tokens': 453, 'total_tokens': 812, 'input_token_details': {'audio': 0, 'cache_read': 0}, 'output_token_details': {'audio': 0, 'reasoning': 0}})]}"
      ]
     },
     "execution_count": 6,
     "metadata": {},
     "output_type": "execute_result"
    }
   ],
   "source": [
    "from langgraph.prebuilt import create_react_agent\n",
    "from tools.emissions_factors import emissions_factor_finder_tool\n",
    "\n",
    "packaging_agent = create_react_agent(\n",
    "    model=ChatOpenAI(model_name=\"gpt-4o\", temperature=0),\n",
    "    tools=[emissions_factor_finder_tool],\n",
    "    prompt=\"Calculate the emissions of a banana, assume it goes by truck from South America to Seattle.\",\n",
    "    name=\"test_agent\"\n",
    ")\n",
    "\n",
    "packaging_agent.invoke({})"
   ]
  }
 ],
 "metadata": {
  "kernelspec": {
   "display_name": ".venv",
   "language": "python",
   "name": "python3"
  },
  "language_info": {
   "codemirror_mode": {
    "name": "ipython",
    "version": 3
   },
   "file_extension": ".py",
   "mimetype": "text/x-python",
   "name": "python",
   "nbconvert_exporter": "python",
   "pygments_lexer": "ipython3",
   "version": "3.11.6"
  }
 },
 "nbformat": 4,
 "nbformat_minor": 2
}
