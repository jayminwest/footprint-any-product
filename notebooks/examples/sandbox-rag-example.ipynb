{
 "cells": [
  {
   "cell_type": "markdown",
   "metadata": {},
   "source": [
    "# RAG Sandbox\n",
    "\n",
    "Example code about how to use LangChain to do RAG using pgvector.\n",
    "\n",
    "* https://python.langchain.com/docs/integrations/vectorstores/pgvector/\n",
    "* https://github.com/langchain-ai/langchain-postgres/blob/main/examples/pg_vectorstore.ipynb"
   ]
  },
  {
   "cell_type": "code",
   "execution_count": 1,
   "metadata": {},
   "outputs": [],
   "source": [
    "from dotenv import load_dotenv\n",
    "import os\n",
    "\n",
    "# Load environment variables from .env.local file\n",
    "load_dotenv(dotenv_path='../../.env.local')\n",
    "\n",
    "# Update with your name to group your own traces\n",
    "os.environ['LANGCHAIN_PROJECT'] = 'steve-fap-sandbox'"
   ]
  },
  {
   "cell_type": "markdown",
   "metadata": {},
   "source": [
    "# RAG Example\n",
    "\n",
    "Demonstration of Postgres pg_vector for document embedding and retrieval."
   ]
  },
  {
   "cell_type": "code",
   "execution_count": 2,
   "metadata": {},
   "outputs": [],
   "source": [
    "from langchain_openai import OpenAIEmbeddings\n",
    "from langchain_postgres import PGVector\n",
    "\n",
    "DB_URI = os.environ['DB_DEV_CONNECTION']\n",
    "embeddings = OpenAIEmbeddings(model=\"text-embedding-3-large\")\n",
    "\n",
    "vector_store = PGVector(\n",
    "    embeddings=embeddings,\n",
    "    collection_name=\"my_docs\",\n",
    "    connection=DB_URI.replace(\"postgresql\",\"postgresql+psycopg\"),\n",
    ")"
   ]
  },
  {
   "cell_type": "code",
   "execution_count": 3,
   "metadata": {},
   "outputs": [
    {
     "data": {
      "text/plain": [
       "[1, 2, 3, 4, 5, 6, 7, 8, 9, 10]"
      ]
     },
     "execution_count": 3,
     "metadata": {},
     "output_type": "execute_result"
    }
   ],
   "source": [
    "from langchain_core.documents import Document\n",
    "\n",
    "docs = [\n",
    "    Document(\n",
    "        page_content=\"there are cats in the pond\",\n",
    "        metadata={\"id\": 1, \"location\": \"pond\", \"topic\": \"animals\"},\n",
    "    ),\n",
    "    Document(\n",
    "        page_content=\"ducks are also found in the pond\",\n",
    "        metadata={\"id\": 2, \"location\": \"pond\", \"topic\": \"animals\"},\n",
    "    ),\n",
    "    Document(\n",
    "        page_content=\"fresh apples are available at the market\",\n",
    "        metadata={\"id\": 3, \"location\": \"market\", \"topic\": \"food\"},\n",
    "    ),\n",
    "    Document(\n",
    "        page_content=\"the market also sells fresh oranges\",\n",
    "        metadata={\"id\": 4, \"location\": \"market\", \"topic\": \"food\"},\n",
    "    ),\n",
    "    Document(\n",
    "        page_content=\"the new art exhibit is fascinating\",\n",
    "        metadata={\"id\": 5, \"location\": \"museum\", \"topic\": \"art\"},\n",
    "    ),\n",
    "    Document(\n",
    "        page_content=\"a sculpture exhibit is also at the museum\",\n",
    "        metadata={\"id\": 6, \"location\": \"museum\", \"topic\": \"art\"},\n",
    "    ),\n",
    "    Document(\n",
    "        page_content=\"a new coffee shop opened on Main Street\",\n",
    "        metadata={\"id\": 7, \"location\": \"Main Street\", \"topic\": \"food\"},\n",
    "    ),\n",
    "    Document(\n",
    "        page_content=\"the book club meets at the library\",\n",
    "        metadata={\"id\": 8, \"location\": \"library\", \"topic\": \"reading\"},\n",
    "    ),\n",
    "    Document(\n",
    "        page_content=\"the library hosts a weekly story time for kids\",\n",
    "        metadata={\"id\": 9, \"location\": \"library\", \"topic\": \"reading\"},\n",
    "    ),\n",
    "    Document(\n",
    "        page_content=\"a cooking class for beginners is offered at the community center\",\n",
    "        metadata={\"id\": 10, \"location\": \"community center\", \"topic\": \"classes\"},\n",
    "    ),\n",
    "]\n",
    "\n",
    "vector_store.add_documents(docs, ids=[doc.metadata[\"id\"] for doc in docs])"
   ]
  },
  {
   "cell_type": "code",
   "execution_count": null,
   "metadata": {},
   "outputs": [
    {
     "name": "stdout",
     "output_type": "stream",
     "text": [
      "* there are cats in the pond [{'id': 1, 'topic': 'animals', 'location': 'pond'}]\n",
      "* the library hosts a weekly story time for kids [{'id': 9, 'topic': 'reading', 'location': 'library'}]\n",
      "* ducks are also found in the pond [{'id': 2, 'topic': 'animals', 'location': 'pond'}]\n",
      "* the new art exhibit is fascinating [{'id': 5, 'topic': 'art', 'location': 'museum'}]\n"
     ]
    }
   ],
   "source": [
    "# Similarity search using a single filter\n",
    "results = vector_store.similarity_search(\n",
    "    \"kitty\", k=10, filter={\"id\": {\"$in\": [1, 5, 2, 9]}}\n",
    ")\n",
    "for doc in results:\n",
    "    print(f\"* {doc.page_content} [{doc.metadata}]\")"
   ]
  },
  {
   "cell_type": "code",
   "execution_count": null,
   "metadata": {},
   "outputs": [
    {
     "data": {
      "text/plain": [
       "[Document(id='2', metadata={'id': 2, 'topic': 'animals', 'location': 'pond'}, page_content='ducks are also found in the pond'),\n",
       " Document(id='1', metadata={'id': 1, 'topic': 'animals', 'location': 'pond'}, page_content='there are cats in the pond')]"
      ]
     },
     "execution_count": 5,
     "metadata": {},
     "output_type": "execute_result"
    }
   ],
   "source": [
    "# Similarity search using two filters (and'ed together)\n",
    "vector_store.similarity_search(\n",
    "    \"ducks\",\n",
    "    k=10,\n",
    "    filter={\"id\": {\"$in\": [1, 5, 2, 9]}, \"location\": {\"$in\": [\"pond\", \"market\"]}},\n",
    ")"
   ]
  },
  {
   "cell_type": "code",
   "execution_count": null,
   "metadata": {},
   "outputs": [
    {
     "name": "stdout",
     "output_type": "stream",
     "text": [
      "* [SIM=0.554739] there are cats in the pond [{'id': 1, 'topic': 'animals', 'location': 'pond'}]\n"
     ]
    }
   ],
   "source": [
    "# Similarity search where the score is returned as well\n",
    "results = vector_store.similarity_search_with_score(query=\"cats\", k=1)\n",
    "for doc, score in results:\n",
    "    print(f\"* [SIM={score:3f}] {doc.page_content} [{doc.metadata}]\")"
   ]
  },
  {
   "cell_type": "code",
   "execution_count": 15,
   "metadata": {},
   "outputs": [
    {
     "data": {
      "text/plain": [
       "[Document(id='1', metadata={'id': 1, 'topic': 'animals', 'location': 'pond'}, page_content='there are cats in the pond')]"
      ]
     },
     "execution_count": 15,
     "metadata": {},
     "output_type": "execute_result"
    }
   ],
   "source": [
    "# Langchain often uses retrievers, which are a wrapper around a vector store\n",
    "retriever = vector_store.as_retriever(search_type=\"mmr\", search_kwargs={\"k\": 1})\n",
    "retriever.invoke(\"kitty\")"
   ]
  },
  {
   "cell_type": "markdown",
   "metadata": {},
   "source": [
    "# RAG\n",
    "\n",
    "Now to use the vector store within a agent to answer questions"
   ]
  },
  {
   "cell_type": "code",
   "execution_count": 25,
   "metadata": {},
   "outputs": [
    {
     "data": {
      "text/plain": [
       "{'messages': [HumanMessage(content='testing', additional_kwargs={}, response_metadata={}, id='3e892564-99a8-46e7-a8bc-8c06e07c5233'),\n",
       "  AIMessage(content='1. The new art exhibit is captivating and engaging for visitors.\\n2. A cooking class designed for beginners is available at the community center.\\n3. Ducks inhabit the pond, adding to its natural appeal.', additional_kwargs={'refusal': None}, response_metadata={'token_usage': {'completion_tokens': 42, 'prompt_tokens': 41, 'total_tokens': 83, 'completion_tokens_details': {'accepted_prediction_tokens': 0, 'audio_tokens': 0, 'reasoning_tokens': 0, 'rejected_prediction_tokens': 0}, 'prompt_tokens_details': {'audio_tokens': 0, 'cached_tokens': 0}}, 'model_name': 'gpt-4o-mini-2024-07-18', 'system_fingerprint': 'fp_dbaca60df0', 'id': 'chatcmpl-BTGeK04aHnaMmkCVel4WbDYIvXkn0', 'finish_reason': 'stop', 'logprobs': None}, id='run-3fb63f42-f103-4591-8d66-eb2038f3b8f4-0', usage_metadata={'input_tokens': 41, 'output_tokens': 42, 'total_tokens': 83, 'input_token_details': {'audio': 0, 'cache_read': 0}, 'output_token_details': {'audio': 0, 'reasoning': 0}})]}"
      ]
     },
     "execution_count": 25,
     "metadata": {},
     "output_type": "execute_result"
    }
   ],
   "source": [
    "from langgraph.graph import StateGraph, START, END\n",
    "from langgraph.graph.message import add_messages\n",
    "from typing import Annotated, TypedDict\n",
    "from langchain_openai import ChatOpenAI\n",
    "\n",
    "\n",
    "retriever = vector_store.as_retriever(search_type=\"mmr\", search_kwargs={\"k\": 3})\n",
    "\n",
    "class State(TypedDict):\n",
    "    messages: Annotated[list, add_messages]\n",
    "\n",
    "llm = ChatOpenAI(model=\"gpt-4o-mini\")\n",
    "\n",
    "def agent(state: State):\n",
    "    query = state[\"messages\"][-1].content\n",
    "    docs = retriever.invoke(query)\n",
    "    response = llm.invoke(\"Summarize the following documents: \" + \"\\n\".join([doc.page_content for doc in docs]))    \n",
    "    return {\"messages\": [response]}\n",
    "\n",
    "graph = StateGraph(State)\n",
    "graph.add_node(\"agent\", agent)\n",
    "graph.add_edge(START, \"agent\")\n",
    "graph.add_edge(\"agent\", END)\n",
    "app = graph.compile()\n",
    "app.invoke({\"messages\": [\"testing\"]})\n"
   ]
  }
 ],
 "metadata": {
  "kernelspec": {
   "display_name": ".venv",
   "language": "python",
   "name": "python3"
  },
  "language_info": {
   "codemirror_mode": {
    "name": "ipython",
    "version": 3
   },
   "file_extension": ".py",
   "mimetype": "text/x-python",
   "name": "python",
   "nbconvert_exporter": "python",
   "pygments_lexer": "ipython3",
   "version": "3.11.6"
  }
 },
 "nbformat": 4,
 "nbformat_minor": 2
}
